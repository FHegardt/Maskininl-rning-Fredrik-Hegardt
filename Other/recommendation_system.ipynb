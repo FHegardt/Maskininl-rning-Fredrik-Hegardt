{
 "cells": [
  {
   "cell_type": "code",
   "execution_count": 3,
   "metadata": {},
   "outputs": [],
   "source": [
    "import pandas as pd\n",
    "from scipy.sparse import csr_matrix\n",
    "from sklearn.neighbors import NearestNeighbors\n",
    "from fuzzywuzzy import process\n",
    "movies = 'movies.csv'\n",
    "ratings = 'ratings.csv'\n",
    "\n",
    "df_movies = pd.read_csv(movies, usecols=[\"movieId\", \"title\"], dtype ={'movieId' : 'int32', 'title': 'str'})\n",
    "df_ratings=pd.read_csv(ratings, usecols = ['userId', 'movieId', 'rating'], dtype ={'userId': 'int32', 'movieId': 'int32', 'rating': 'float32'})\n"
   ]
  },
  {
   "cell_type": "code",
   "execution_count": 4,
   "metadata": {},
   "outputs": [],
   "source": [
    "movies_users=df_ratings.pivot(index='movieId', columns='userId', values='rating').fillna(0)\n",
    "mat_movies_users=csr_matrix(movies_users.values)"
   ]
  },
  {
   "cell_type": "code",
   "execution_count": 5,
   "metadata": {},
   "outputs": [],
   "source": [
    "model_knn=NearestNeighbors(metric='cosine', algorithm='brute', n_neighbors=20)"
   ]
  },
  {
   "cell_type": "code",
   "execution_count": 27,
   "metadata": {},
   "outputs": [
    {
     "data": {
      "text/plain": [
       "NearestNeighbors(algorithm='brute', metric='cosine', n_neighbors=20)"
      ]
     },
     "execution_count": 27,
     "metadata": {},
     "output_type": "execute_result"
    }
   ],
   "source": [
    "model_knn.fit(mat_movies_users)"
   ]
  },
  {
   "cell_type": "code",
   "execution_count": 16,
   "metadata": {},
   "outputs": [
    {
     "name": "stdout",
     "output_type": "stream",
     "text": [
      "Movie Selected:  Lost World: Jurassic Park, The (1997) Index:  1164\n",
      "Searching for recommendations...\n",
      "1164                                            NaN\n",
      "1717                           One Tough Cop (1998)\n",
      "2213                           South Pacific (1958)\n",
      "1353                             He Got Game (1998)\n",
      "342                  Man of No Importance, A (1994)\n",
      "1737                                   Belly (1998)\n",
      "1377                           Almost Heroes (1998)\n",
      "5188                             Americathon (1979)\n",
      "2024    Dinner Game, The (Dîner de cons, Le) (1998)\n",
      "1656                                Sabotage (1936)\n",
      "4272                 Glenn Miller Story, The (1953)\n",
      "5186                     Meet the Applegates (1991)\n",
      "4722                           Wild at Heart (1990)\n",
      "4263                             Hunted, The (2003)\n",
      "5185                           Divorcee, The (1930)\n",
      "4262                    Bend It Like Beckham (2002)\n",
      "4261                  Safety of Objects, The (2001)\n",
      "5181                           Big Wednesday (1978)\n",
      "5187       Robot Carnival (Roboto kânibauru) (1987)\n",
      "5189                       Sands of Iwo Jima (1949)\n",
      "Name: title, dtype: object\n"
     ]
    }
   ],
   "source": [
    "# Recommender(movie_name) => List of Movies recommendended\n",
    "\n",
    "def recommender(movie_name, data, model, n_recommendations):\n",
    "    model.fit(data)\n",
    "    idx=process.extractOne(movie_name, df_movies['title'])[2]\n",
    "    print(\"Movie Selected: \", df_movies['title'][idx], \"Index: \",idx)\n",
    "    print(\"Searching for recommendations...\")\n",
    "    distances, indices = model.kneighbors(data[idx], n_neighbors=n_recommendations)\n",
    "    for i in indices:\n",
    "        print(df_movies['title'][i].where(i!=idx))\n",
    "\n",
    "recommender('jurrassicpark', mat_movies_users, model_knn, 20)"
   ]
  }
 ],
 "metadata": {
  "interpreter": {
   "hash": "20e36f013206a17ac568431002223843abac3dbb024288464e9b0a20eb5fb034"
  },
  "kernelspec": {
   "display_name": "Python 3.9.6 ('Maskininl-rning-Fredrik-Hegardt-mmrJtyaC')",
   "language": "python",
   "name": "python3"
  },
  "language_info": {
   "codemirror_mode": {
    "name": "ipython",
    "version": 3
   },
   "file_extension": ".py",
   "mimetype": "text/x-python",
   "name": "python",
   "nbconvert_exporter": "python",
   "pygments_lexer": "ipython3",
   "version": "3.9.6"
  },
  "orig_nbformat": 4
 },
 "nbformat": 4,
 "nbformat_minor": 2
}
