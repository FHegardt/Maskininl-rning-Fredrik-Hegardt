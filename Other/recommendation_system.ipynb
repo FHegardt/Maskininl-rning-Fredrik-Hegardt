{
 "cells": [
  {
   "cell_type": "code",
   "execution_count": 99,
   "metadata": {},
   "outputs": [],
   "source": [
    "import pandas as pd\n",
    "from scipy.sparse import csr_matrix\n",
    "from sklearn.neighbors import NearestNeighbors\n",
    "from fuzzywuzzy import process\n",
    "movies = 'movies.csv'\n",
    "ratings = 'ratings.csv'\n",
    "\n",
    "df_movies = pd.read_csv(movies, usecols=[\"movieId\", \"title\"], dtype ={'movieId' : 'int32', 'title': 'str'})\n",
    "df_ratings=pd.read_csv(ratings, usecols = ['userId', 'movieId', 'rating'], dtype ={'userId': 'int32', 'movieId': 'int32', 'rating': 'float32'})\n"
   ]
  },
  {
   "cell_type": "code",
   "execution_count": 100,
   "metadata": {},
   "outputs": [
    {
     "data": {
      "text/plain": [
       "100836"
      ]
     },
     "execution_count": 100,
     "metadata": {},
     "output_type": "execute_result"
    }
   ],
   "source": [
    "len(df_ratings)"
   ]
  },
  {
   "cell_type": "code",
   "execution_count": 101,
   "metadata": {},
   "outputs": [
    {
     "data": {
      "text/plain": [
       "48580"
      ]
     },
     "execution_count": 101,
     "metadata": {},
     "output_type": "execute_result"
    }
   ],
   "source": [
    "df_ratings = df_ratings.drop(df_ratings[df_ratings.rating < 4].index)\n",
    "len(df_ratings)"
   ]
  },
  {
   "cell_type": "code",
   "execution_count": 102,
   "metadata": {},
   "outputs": [],
   "source": [
    "movies_users=df_ratings.pivot(index='movieId', columns='userId', values='rating').fillna(0)\n",
    "mat_movies_users=csr_matrix(movies_users.values)"
   ]
  },
  {
   "cell_type": "code",
   "execution_count": 103,
   "metadata": {},
   "outputs": [],
   "source": [
    "model_knn=NearestNeighbors(metric='cosine', algorithm='brute', n_neighbors=20)"
   ]
  },
  {
   "cell_type": "code",
   "execution_count": 104,
   "metadata": {},
   "outputs": [
    {
     "data": {
      "text/plain": [
       "NearestNeighbors(algorithm='brute', metric='cosine', n_neighbors=20)"
      ]
     },
     "execution_count": 104,
     "metadata": {},
     "output_type": "execute_result"
    }
   ],
   "source": [
    "model_knn.fit(mat_movies_users)"
   ]
  },
  {
   "cell_type": "code",
   "execution_count": 105,
   "metadata": {},
   "outputs": [
    {
     "name": "stdout",
     "output_type": "stream",
     "text": [
      "Movie Selected:  Lost World: Jurassic Park, The (1997) Index:  1164\n",
      "Searching for recommendations...\n",
      "1164                                      NaN\n",
      "789                Alice in Wonderland (1951)\n",
      "1524        In Search of the Castaways (1962)\n",
      "1764                    Glen or Glenda (1953)\n",
      "899                Princess Bride, The (1987)\n",
      "1451                   Friday the 13th (1980)\n",
      "1667                    Broadcast News (1987)\n",
      "713             Affair to Remember, An (1957)\n",
      "192                         Disclosure (1994)\n",
      "550                              Eddie (1996)\n",
      "772                          Pollyanna (1960)\n",
      "588              Great White Hype, The (1996)\n",
      "1327     Love and Death on Long Island (1997)\n",
      "1619    Attack of the Killer Tomatoes! (1978)\n",
      "771                   Parent Trap, The (1961)\n",
      "748                   Dangerous Ground (1997)\n",
      "1218                 L.A. Confidential (1997)\n",
      "1742                   Velvet Goldmine (1998)\n",
      "1001        Man Who Would Be King, The (1975)\n",
      "1722                           Beloved (1998)\n",
      "Name: title, dtype: object\n"
     ]
    }
   ],
   "source": [
    "# Recommender(movie_name) => List of Movies recommendended\n",
    "\n",
    "def recommender(movie_name, data, model, n_recommendations):\n",
    "    model.fit(data)\n",
    "    idx=process.extractOne(movie_name, df_movies['title'])[2]\n",
    "    print(\"Movie Selected: \", df_movies['title'][idx], \"Index: \",idx)\n",
    "    print(\"Searching for recommendations...\")\n",
    "    distances, indices = model.kneighbors(data[idx], n_neighbors=n_recommendations)\n",
    "    for i in indices:\n",
    "        print(df_movies['title'][i].where(i!=idx))\n",
    "\n",
    "recommender('jurrassicpark', mat_movies_users, model_knn, 20)"
   ]
  }
 ],
 "metadata": {
  "interpreter": {
   "hash": "20e36f013206a17ac568431002223843abac3dbb024288464e9b0a20eb5fb034"
  },
  "kernelspec": {
   "display_name": "Python 3.9.6 ('Maskininl-rning-Fredrik-Hegardt-mmrJtyaC')",
   "language": "python",
   "name": "python3"
  },
  "language_info": {
   "codemirror_mode": {
    "name": "ipython",
    "version": 3
   },
   "file_extension": ".py",
   "mimetype": "text/x-python",
   "name": "python",
   "nbconvert_exporter": "python",
   "pygments_lexer": "ipython3",
   "version": "3.9.6"
  },
  "orig_nbformat": 4
 },
 "nbformat": 4,
 "nbformat_minor": 2
}
