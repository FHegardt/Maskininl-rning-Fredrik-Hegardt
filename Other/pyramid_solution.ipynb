{
 "cells": [
  {
   "cell_type": "code",
   "execution_count": 49,
   "metadata": {},
   "outputs": [
    {
     "name": "stdout",
     "output_type": "stream",
     "text": [
      "59\n",
      "73\n",
      "52\n",
      "53\n",
      "87\n",
      "95\n",
      "92\n",
      "81\n",
      "592\n"
     ]
    }
   ],
   "source": [
    "from csv import reader\n",
    "lista = []\n",
    "with open('exer.csv', 'r') as read_obj:\n",
    "    csv_reader = reader(read_obj)\n",
    "    for row in csv_reader:\n",
    "        lista.append(row)\n",
    "\n",
    "\n",
    "highestvalue = 0\n",
    "total_value = 0\n",
    "placement = 0\n",
    "for i in range(8):\n",
    "    nr1 = 0\n",
    "    nr2 = 2\n",
    "    for b in range(i+1):\n",
    "        value = int((lista[i][0][nr1:nr2]))\n",
    "        if value > highestvalue:\n",
    "            highestvalue = value\n",
    "            placement = b\n",
    "        nr1 +=3\n",
    "        nr2 +=3\n",
    "    print(highestvalue)\n",
    "    total_value += highestvalue\n",
    "    highestvalue = 0\n",
    "\n",
    "print(total_value)\n",
    "        \n",
    "\n",
    "        "
   ]
  }
 ],
 "metadata": {
  "interpreter": {
   "hash": "20e36f013206a17ac568431002223843abac3dbb024288464e9b0a20eb5fb034"
  },
  "kernelspec": {
   "display_name": "Python 3.9.6 ('Maskininl-rning-Fredrik-Hegardt-mmrJtyaC')",
   "language": "python",
   "name": "python3"
  },
  "language_info": {
   "codemirror_mode": {
    "name": "ipython",
    "version": 3
   },
   "file_extension": ".py",
   "mimetype": "text/x-python",
   "name": "python",
   "nbconvert_exporter": "python",
   "pygments_lexer": "ipython3",
   "version": "3.9.6"
  },
  "orig_nbformat": 4
 },
 "nbformat": 4,
 "nbformat_minor": 2
}
