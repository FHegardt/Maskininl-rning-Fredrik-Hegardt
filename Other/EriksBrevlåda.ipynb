{
 "cells": [
  {
   "cell_type": "code",
   "execution_count": 2,
   "metadata": {},
   "outputs": [
    {
     "name": "stdout",
     "output_type": "stream",
     "text": [
      "Brevet från Polisen öppnades men utgjorde inget hot\n",
      "Brevet från Kronkalle brändes upp och en polisanmälning för ofredande upprättades\n",
      "Brevet från VGR öppnades men utgjorde inget hot\n",
      "Brevet från En_vän öppnades men utgjorde inget hot\n"
     ]
    }
   ],
   "source": [
    "Eriks_brevlåda = [\"Polisen\", \"Kronofogden\", \"VGR\", \"En_vän\"]\n",
    "import random\n",
    "\n",
    "def fuck_off_kronkalle(Eriks_brevlåda):\n",
    "    for i in range(len(Eriks_brevlåda)):\n",
    "        if Eriks_brevlåda[i] == \"Kronofogden\":\n",
    "            print(\"Brevet från Kronkalle brändes upp och en polisanmälning för ofredande upprättades\")\n",
    "        else:\n",
    "            print(f\"Brevet från {Eriks_brevlåda[i]} öppnades men utgjorde inget hot\")\n",
    "\n",
    "fuck_off_kronkalle(Eriks_brevlåda)\n"
   ]
  }
 ],
 "metadata": {
  "interpreter": {
   "hash": "20e36f013206a17ac568431002223843abac3dbb024288464e9b0a20eb5fb034"
  },
  "kernelspec": {
   "display_name": "Python 3.9.6 ('Maskininl-rning-Fredrik-Hegardt-mmrJtyaC')",
   "language": "python",
   "name": "python3"
  },
  "language_info": {
   "codemirror_mode": {
    "name": "ipython",
    "version": 3
   },
   "file_extension": ".py",
   "mimetype": "text/x-python",
   "name": "python",
   "nbconvert_exporter": "python",
   "pygments_lexer": "ipython3",
   "version": "3.9.6"
  },
  "orig_nbformat": 4
 },
 "nbformat": 4,
 "nbformat_minor": 2
}
