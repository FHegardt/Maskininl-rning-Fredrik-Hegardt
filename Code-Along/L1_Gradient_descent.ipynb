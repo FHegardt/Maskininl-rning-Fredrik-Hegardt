{
 "cells": [
  {
   "cell_type": "markdown",
   "metadata": {},
   "source": [
    "## Gradient Descent"
   ]
  },
  {
   "cell_type": "code",
   "execution_count": 3,
   "metadata": {},
   "outputs": [
    {
     "data": {
      "text/plain": [
       "[<matplotlib.lines.Line2D at 0x239026d6580>]"
      ]
     },
     "execution_count": 3,
     "metadata": {},
     "output_type": "execute_result"
    },
    {
     "data": {
      "image/png": "[encoded data removed]",
      "text/plain": [
       "<Figure size 432x288 with 1 Axes>"
      ]
     },
     "metadata": {
      "needs_background": "light"
     },
     "output_type": "display_data"
    }
   ],
   "source": [
    "import pandas as pd\n",
    "import numpy as np\n",
    "import matplotlib.pyplot as plt\n",
    "\n",
    "samples = 1000\n",
    "X = np.random.randn(samples, 1)\n",
    "noise= np.random.rand(samples, 1)\n",
    "y = 2+ 9*X + noise\n",
    "\n",
    "plt.plot(X,y, '.')"
   ]
  },
  {
   "cell_type": "code",
   "execution_count": 5,
   "metadata": {},
   "outputs": [
    {
     "data": {
      "text/plain": [
       "array([[ 1.        , -1.17652191],\n",
       "       [ 1.        ,  2.5600725 ],\n",
       "       [ 1.        , -0.81964424],\n",
       "       [ 1.        ,  1.50002826],\n",
       "       [ 1.        , -1.65639362]])"
      ]
     },
     "execution_count": 5,
     "metadata": {},
     "output_type": "execute_result"
    }
   ],
   "source": [
    "X = np.c_[np.ones(samples), X]\n",
    "X[:5]"
   ]
  },
  {
   "cell_type": "markdown",
   "metadata": {},
   "source": [
    "## Train / Test / Split"
   ]
  },
  {
   "cell_type": "code",
   "execution_count": 6,
   "metadata": {},
   "outputs": [
    {
     "data": {
      "text/plain": [
       "((670, 2), (330, 2), (670, 1), (330, 1))"
      ]
     },
     "execution_count": 6,
     "metadata": {},
     "output_type": "execute_result"
    }
   ],
   "source": [
    "from sklearn.model_selection import train_test_split\n",
    "\n",
    "X_train, X_test, y_train, y_test = train_test_split(X, y, test_size=0.33, random_state=42)\n",
    "X_train.shape, X_test.shape, y_train.shape, y_test.shape"
   ]
  },
  {
   "cell_type": "code",
   "execution_count": 7,
   "metadata": {},
   "outputs": [],
   "source": [
    "def gradient_descent(X,y, learning_rate = .1, iterations =100):\n",
    "    m = len(X)\n",
    "\n",
    "    theta = np.random.randn(X.shape[1], 1)\n",
    "   \n",
    "    for _ in range(iterations):\n",
    "        gradient = 2 / m * X.T@(X @ theta - y)\n",
    "        theta -= learning_rate*gradient\n",
    "    theta = gradient_descent(X_train,y_train)\n",
    "    theta.reshape(-1)\n"
   ]
  },
  {
   "cell_type": "code",
   "execution_count": 8,
   "metadata": {},
   "outputs": [],
   "source": [
    "epochs = range(1,200)\n",
    "thetas = np.array([gradient_descent(X_train, y_train, iterations= epoch).reshape(-1) for epoch in epochs])\n",
    "thetas.shape"
   ]
  },
  {
   "cell_type": "code",
   "execution_count": 3,
   "metadata": {},
   "outputs": [
    {
     "ename": "NameError",
     "evalue": "name 'plt' is not defined",
     "output_type": "error",
     "traceback": [
      "\u001b[1;31m---------------------------------------------------------------------------\u001b[0m",
      "\u001b[1;31mNameError\u001b[0m                                 Traceback (most recent call last)",
      "\u001b[1;32mc:\\Users\\fredr\\OneDrive\\Documents\\GitHub\\Maskininl-rning-Fredrik-Hegardt\\Code-Along\\L1_Gradient_descent.ipynb Cell 8'\u001b[0m in \u001b[0;36m<module>\u001b[1;34m\u001b[0m\n\u001b[1;32m----> <a href='vscode-notebook-cell:/c%3A/Users/fredr/OneDrive/Documents/GitHub/Maskininl-rning-Fredrik-Hegardt/Code-Along/L1_Gradient_descent.ipynb#ch0000007?line=0'>1</a>\u001b[0m fig, ax \u001b[39m=\u001b[39m plt\u001b[39m.\u001b[39mfigure(dpi\u001b[39m=\u001b[39m\u001b[39m80\u001b[39m), plt\u001b[39m.\u001b[39maxes()\n\u001b[0;32m      <a href='vscode-notebook-cell:/c%3A/Users/fredr/OneDrive/Documents/GitHub/Maskininl-rning-Fredrik-Hegardt/Code-Along/L1_Gradient_descent.ipynb#ch0000007?line=1'>2</a>\u001b[0m ax\u001b[39m.\u001b[39mplot(epochs, thetas)\n",
      "\u001b[1;31mNameError\u001b[0m: name 'plt' is not defined"
     ]
    }
   ],
   "source": [
    "fig, ax = plt.figure(dpi=80), plt.axes()\n",
    "ax.plot(epochs, thetas)"
   ]
  },
  {
   "cell_type": "markdown",
   "metadata": {},
   "source": [
    "## Stochastic gradient descent (SGD)"
   ]
  },
  {
   "cell_type": "code",
   "execution_count": 1,
   "metadata": {},
   "outputs": [
    {
     "ename": "NameError",
     "evalue": "name 'np' is not defined",
     "output_type": "error",
     "traceback": [
      "\u001b[1;31m---------------------------------------------------------------------------\u001b[0m",
      "\u001b[1;31mNameError\u001b[0m                                 Traceback (most recent call last)",
      "\u001b[1;32mc:\\Users\\fredr\\OneDrive\\Documents\\GitHub\\Maskininl-rning-Fredrik-Hegardt\\Code-Along\\L1_Gradient_descent.ipynb Cell 10'\u001b[0m in \u001b[0;36m<module>\u001b[1;34m\u001b[0m\n\u001b[0;32m      <a href='vscode-notebook-cell:/c%3A/Users/fredr/OneDrive/Documents/GitHub/Maskininl-rning-Fredrik-Hegardt/Code-Along/L1_Gradient_descent.ipynb#ch0000009?line=3'>4</a>\u001b[0m \u001b[39mdef\u001b[39;00m \u001b[39mlearning_rate_schedule\u001b[39m(t):\n\u001b[0;32m      <a href='vscode-notebook-cell:/c%3A/Users/fredr/OneDrive/Documents/GitHub/Maskininl-rning-Fredrik-Hegardt/Code-Along/L1_Gradient_descent.ipynb#ch0000009?line=4'>5</a>\u001b[0m     \u001b[39mreturn\u001b[39;00m t0\u001b[39m/\u001b[39m(t\u001b[39m+\u001b[39mt1)\n\u001b[1;32m----> <a href='vscode-notebook-cell:/c%3A/Users/fredr/OneDrive/Documents/GitHub/Maskininl-rning-Fredrik-Hegardt/Code-Along/L1_Gradient_descent.ipynb#ch0000009?line=6'>7</a>\u001b[0m theta \u001b[39m=\u001b[39m np\u001b[39m.\u001b[39mrandom\u001b[39m.\u001b[39mrandn(\u001b[39m2\u001b[39m,\u001b[39m1\u001b[39m)\n\u001b[0;32m      <a href='vscode-notebook-cell:/c%3A/Users/fredr/OneDrive/Documents/GitHub/Maskininl-rning-Fredrik-Hegardt/Code-Along/L1_Gradient_descent.ipynb#ch0000009?line=7'>8</a>\u001b[0m m \u001b[39m=\u001b[39m \u001b[39mlen\u001b[39m(X_train)\n\u001b[0;32m     <a href='vscode-notebook-cell:/c%3A/Users/fredr/OneDrive/Documents/GitHub/Maskininl-rning-Fredrik-Hegardt/Code-Along/L1_Gradient_descent.ipynb#ch0000009?line=9'>10</a>\u001b[0m \u001b[39mfor\u001b[39;00m epoch \u001b[39min\u001b[39;00m \u001b[39mrange\u001b[39m(epochs):\n",
      "\u001b[1;31mNameError\u001b[0m: name 'np' is not defined"
     ]
    }
   ],
   "source": [
    "epochs = 10\n",
    "t0, t1 = 5,10 # learning schedule parameters\n",
    "\n",
    "def learning_rate_schedule(t):\n",
    "    return t0/(t+t1)\n",
    "\n",
    "theta = np.random.randn(2,1)\n",
    "m = len(X_train)\n",
    "\n",
    "for epoch in range(epochs):\n",
    "    for i in range(m):\n",
    "        random_index = np.random.randint(m)\n",
    "        x_i = X_train[random_index:random_index+1]\n",
    "        y_i = y_train[random_index:random_index+1]\n",
    "        gradients = 2*x_i.T.dot(x_i.dot(theta)- y_i)\n",
    "        eta = learning_rate_schedule(epoch*m+i)\n",
    "        theta -= eta*gradients"
   ]
  }
 ],
 "metadata": {
  "interpreter": {
   "hash": "20e36f013206a17ac568431002223843abac3dbb024288464e9b0a20eb5fb034"
  },
  "kernelspec": {
   "display_name": "Python 3.9.6 ('Maskininl-rning-Fredrik-Hegardt-mmrJtyaC')",
   "language": "python",
   "name": "python3"
  },
  "language_info": {
   "codemirror_mode": {
    "name": "ipython",
    "version": 3
   },
   "file_extension": ".py",
   "mimetype": "text/x-python",
   "name": "python",
   "nbconvert_exporter": "python",
   "pygments_lexer": "ipython3",
   "version": "3.9.6"
  },
  "orig_nbformat": 4
 },
 "nbformat": 4,
 "nbformat_minor": 2
}
