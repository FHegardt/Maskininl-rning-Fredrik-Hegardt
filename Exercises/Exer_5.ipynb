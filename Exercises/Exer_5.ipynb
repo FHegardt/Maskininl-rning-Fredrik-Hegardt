{
 "cells": [
  {
   "cell_type": "code",
   "execution_count": 115,
   "metadata": {},
   "outputs": [
    {
     "data": {
      "text/plain": [
       "array([[  0,   0,   0,   0,   0,   0,   0,   0,   0,   0,   0,   0,   0,\n",
       "          0,   0,   0,   0,   0,   0,   0,   0,   0,   0,   0,   0,   0,\n",
       "          0,   0],\n",
       "       [  0,   0,   0,   0,   0,   0,   0,   0,   0,   0,   0,   0,   0,\n",
       "          0,   0,   0,   0,   0,   0,   0,   0,   0,   0,   0,   0,   0,\n",
       "          0,   0],\n",
       "       [  0,   0,   0,   0,   0,   0,   0,   0,   0,   0,   0,   0,   0,\n",
       "          0,   0,   0,   0,   0,   0,   0,   0,   0,   0,   0,   0,   0,\n",
       "          0,   0],\n",
       "       [  0,   0,   0,   0,   0,   0,   0,   0,   0,   0,   0,   0,   0,\n",
       "          0,   0,   0,   0,   0,   0,   0,   0,   0,   0,   0,   0,   0,\n",
       "          0,   0],\n",
       "       [  0,   0,   0,   0,   0,   0,   0,   0,   0,   0,   0,   0,   0,\n",
       "          0,   0,   0,   0,   0,   0,   0,   0,   0, 189, 190,   0,   0,\n",
       "          0,   0],\n",
       "       [  0,   0,   0,   0,   0,   0,   0,   0,   0,   0,   0,   0,   0,\n",
       "          0,   0,   0,   0,   0,   0,   0,   0, 143, 247, 153,   0,   0,\n",
       "          0,   0],\n",
       "       [  0,   0,   0,   0,   0,   0,   0,   0,   0,   0,   0,   0,   0,\n",
       "          0,   0,   0,   0,   0,   0,   0, 136, 247, 242,  86,   0,   0,\n",
       "          0,   0],\n",
       "       [  0,   0,   0,   0,   0,   0,   0,   0,   0,   0,   0,   0,   0,\n",
       "          0,   0,   0,   0,   0,   0,   0, 192, 252, 187,   0,   0,   0,\n",
       "          0,   0],\n",
       "       [  0,   0,   0,   0,   0,   0,   0,   0,   0,   0,   0,   0,  62,\n",
       "        185,  18,   0,   0,   0,   0,  89, 236, 217,  47,   0,   0,   0,\n",
       "          0,   0],\n",
       "       [  0,   0,   0,   0,   0,   0,   0,   0,   0,   0,   0,   0, 216,\n",
       "        253,  60,   0,   0,   0,   0, 212, 255,  81,   0,   0,   0,   0,\n",
       "          0,   0],\n",
       "       [  0,   0,   0,   0,   0,   0,   0,   0,   0,   0,   0,   0, 206,\n",
       "        252,  68,   0,   0,   0,  48, 242, 253,  89,   0,   0,   0,   0,\n",
       "          0,   0],\n",
       "       [  0,   0,   0,   0,   0,   0,   0,   0,   0,   0,   0, 131, 251,\n",
       "        212,  21,   0,   0,  11, 167, 252, 197,   5,   0,   0,   0,   0,\n",
       "          0,   0],\n",
       "       [  0,   0,   0,   0,   0,   0,   0,   0,   0,   0,  29, 232, 247,\n",
       "         63,   0,   0,   0, 153, 252, 226,   0,   0,   0,   0,   0,   0,\n",
       "          0,   0],\n",
       "       [  0,   0,   0,   0,   0,   0,   0,   0,   0,  45, 219, 252, 143,\n",
       "          0,   0,   0, 116, 249, 252, 103,   0,   0,   0,   0,   0,   0,\n",
       "          0,   0],\n",
       "       [  0,   0,   0,   0,   0,   0,   0,   4,  96, 253, 255, 253, 200,\n",
       "        122,   7,  25, 201, 250, 158,   0,   0,   0,   0,   0,   0,   0,\n",
       "          0,   0],\n",
       "       [  0,   0,   0,   0,   0,   0,   0,  92, 252, 252, 253, 217, 252,\n",
       "        252, 200, 227, 252, 231,   0,   0,   0,   0,   0,   0,   0,   0,\n",
       "          0,   0],\n",
       "       [  0,   0,   0,   0,   0,   0,  87, 251, 247, 231,  65,  48, 189,\n",
       "        252, 252, 253, 252, 251, 227,  35,   0,   0,   0,   0,   0,   0,\n",
       "          0,   0],\n",
       "       [  0,   0,   0,   0,   0,   0, 190, 221,  98,   0,   0,   0,  42,\n",
       "        196, 252, 253, 252, 252, 162,   0,   0,   0,   0,   0,   0,   0,\n",
       "          0,   0],\n",
       "       [  0,   0,   0,   0,   0,   0, 111,  29,   0,   0,   0,   0,  62,\n",
       "        239, 252,  86,  42,  42,  14,   0,   0,   0,   0,   0,   0,   0,\n",
       "          0,   0],\n",
       "       [  0,   0,   0,   0,   0,   0,   0,   0,   0,   0,   0,  15, 148,\n",
       "        253, 218,   0,   0,   0,   0,   0,   0,   0,   0,   0,   0,   0,\n",
       "          0,   0],\n",
       "       [  0,   0,   0,   0,   0,   0,   0,   0,   0,   0,   0, 121, 252,\n",
       "        231,  28,   0,   0,   0,   0,   0,   0,   0,   0,   0,   0,   0,\n",
       "          0,   0],\n",
       "       [  0,   0,   0,   0,   0,   0,   0,   0,   0,   0,  31, 221, 251,\n",
       "        129,   0,   0,   0,   0,   0,   0,   0,   0,   0,   0,   0,   0,\n",
       "          0,   0],\n",
       "       [  0,   0,   0,   0,   0,   0,   0,   0,   0,   0, 218, 252, 160,\n",
       "          0,   0,   0,   0,   0,   0,   0,   0,   0,   0,   0,   0,   0,\n",
       "          0,   0],\n",
       "       [  0,   0,   0,   0,   0,   0,   0,   0,   0,   0, 122, 252,  82,\n",
       "          0,   0,   0,   0,   0,   0,   0,   0,   0,   0,   0,   0,   0,\n",
       "          0,   0],\n",
       "       [  0,   0,   0,   0,   0,   0,   0,   0,   0,   0,   0,   0,   0,\n",
       "          0,   0,   0,   0,   0,   0,   0,   0,   0,   0,   0,   0,   0,\n",
       "          0,   0],\n",
       "       [  0,   0,   0,   0,   0,   0,   0,   0,   0,   0,   0,   0,   0,\n",
       "          0,   0,   0,   0,   0,   0,   0,   0,   0,   0,   0,   0,   0,\n",
       "          0,   0],\n",
       "       [  0,   0,   0,   0,   0,   0,   0,   0,   0,   0,   0,   0,   0,\n",
       "          0,   0,   0,   0,   0,   0,   0,   0,   0,   0,   0,   0,   0,\n",
       "          0,   0],\n",
       "       [  0,   0,   0,   0,   0,   0,   0,   0,   0,   0,   0,   0,   0,\n",
       "          0,   0,   0,   0,   0,   0,   0,   0,   0,   0,   0,   0,   0,\n",
       "          0,   0]], dtype=uint8)"
      ]
     },
     "execution_count": 115,
     "metadata": {},
     "output_type": "execute_result"
    }
   ],
   "source": [
    "#MNist DATA\n",
    "\n",
    "import numpy as np\n",
    "import pandas as pd\n",
    "import matplotlib.pyplot as plt\n",
    "\n",
    "from tensorflow.keras.datasets import mnist\n",
    "(X_train, Y_train), (X_test, Y_test) = mnist.load_data()\n",
    "X_train[9]\n",
    "#C 60 000"
   ]
  },
  {
   "cell_type": "code",
   "execution_count": 116,
   "metadata": {},
   "outputs": [
    {
     "data": {
      "image/png": "[encoded data removed]",
      "text/plain": [
       "<Figure size 432x288 with 1 Axes>"
      ]
     },
     "metadata": {
      "needs_background": "light"
     },
     "output_type": "display_data"
    }
   ],
   "source": [
    "for i in range(1):\n",
    "    fig = plt.figure\n",
    "    plt.imshow(X_train[i], cmap='gray') \n",
    "    plt.show()"
   ]
  },
  {
   "cell_type": "code",
   "execution_count": 117,
   "metadata": {},
   "outputs": [],
   "source": [
    "X_train2, X_test2 = X_train.reshape(60000,-1), X_test.reshape(10000,-1)\n",
    "X_test2.shape, X_train2.shape\n",
    "Y_train2 = Y_train.reshape(60000,1)"
   ]
  },
  {
   "cell_type": "code",
   "execution_count": 137,
   "metadata": {},
   "outputs": [
    {
     "data": {
      "text/plain": [
       "((50400, 784), (9600, 784))"
      ]
     },
     "execution_count": 137,
     "metadata": {},
     "output_type": "execute_result"
    }
   ],
   "source": [
    "# TRAIN TEST SPLIT! \n",
    "from sklearn.model_selection import train_test_split\n",
    "X_train, X_val, y_train, y_val = train_test_split(X_train2, Y_train2, test_size=0.16, random_state=42)\n",
    "X_train.shape, X_val.shape"
   ]
  },
  {
   "cell_type": "code",
   "execution_count": 144,
   "metadata": {},
   "outputs": [
    {
     "data": {
      "text/plain": [
       "(array([7, 3, 8, 9, 3, 9, 7, 7, 5, 4], dtype=uint8),\n",
       " array([[7],\n",
       "        [3],\n",
       "        [8],\n",
       "        [9],\n",
       "        [3],\n",
       "        [9],\n",
       "        [7],\n",
       "        [7],\n",
       "        [5],\n",
       "        [4]], dtype=uint8))"
      ]
     },
     "execution_count": 144,
     "metadata": {},
     "output_type": "execute_result"
    }
   ],
   "source": [
    "#HYPERPARAMETER TUNING\n",
    "\n",
    "from sklearn.preprocessing import MinMaxScaler\n",
    "from sklearn.model_selection import train_test_split\n",
    "from sklearn.neighbors import KNeighborsClassifier\n",
    "import numpy as np\n",
    "\n",
    "scaler = MinMaxScaler()\n",
    "scaled_X_train = scaler.fit_transform(X_train)\n",
    "scaled_X_val = scaler.transform(X_val)\n",
    "\n",
    "model_KNN = KNeighborsClassifier(n_neighbors=5)\n",
    "model_KNN.fit(scaled_X_val, y_val.ravel())\n",
    "\n",
    "y_pred = model_KNN.predict(scaled_X_val)\n",
    "y_pred[:10], np.array(y_val[:10])\n"
   ]
  },
  {
   "cell_type": "code",
   "execution_count": 152,
   "metadata": {},
   "outputs": [
    {
     "data": {
      "text/plain": [
       "[Text(0.5, 1.0, 'Elbow plot'),\n",
       " Text(0.5, 0, 'K Neighbors'),\n",
       " Text(0, 0.5, 'Error')]"
      ]
     },
     "execution_count": 152,
     "metadata": {},
     "output_type": "execute_result"
    },
    {
     "data": {
      "image/png": "[encoded data removed]",
      "text/plain": [
       "<Figure size 432x288 with 1 Axes>"
      ]
     },
     "metadata": {
      "needs_background": "light"
     },
     "output_type": "display_data"
    }
   ],
   "source": [
    "error_list = []\n",
    "for k in range(1,10):\n",
    "    model_KNN = KNeighborsClassifier(n_neighbors=k)\n",
    "    model_KNN.fit(scaled_X_train, y_train.ravel())\n",
    "    y_pred = model_KNN.predict(scaled_X_val)\n",
    "    error = 1 - accuracy_score(y_pred, y_val)\n",
    "    error_list.append(error)\n",
    "\n",
    "fig,ax = plt.figure(), plt.axes()\n",
    "ax.plot(range(1,10), error_list, \"-.\")\n",
    "ax.set(title =\"Elbow plot\", xlabel = \"K Neighbors\", ylabel = \"Error\")\n"
   ]
  },
  {
   "cell_type": "code",
   "execution_count": 169,
   "metadata": {},
   "outputs": [
    {
     "data": {
      "text/plain": [
       "(60000,)"
      ]
     },
     "execution_count": 169,
     "metadata": {},
     "output_type": "execute_result"
    }
   ],
   "source": [
    "Y_train.shape"
   ]
  },
  {
   "cell_type": "code",
   "execution_count": 171,
   "metadata": {},
   "outputs": [
    {
     "data": {
      "text/plain": [
       "(array([7, 3, 8, 9, 3, 9, 7, 7, 5, 4], dtype=uint8),\n",
       " array([[7],\n",
       "        [3],\n",
       "        [8],\n",
       "        [9],\n",
       "        [3],\n",
       "        [9],\n",
       "        [7],\n",
       "        [7],\n",
       "        [5],\n",
       "        [4]], dtype=uint8))"
      ]
     },
     "execution_count": 171,
     "metadata": {},
     "output_type": "execute_result"
    }
   ],
   "source": [
    "scaler = MinMaxScaler()\n",
    "scaled_X_train = scaler.fit_transform(X_train2)\n",
    "scaled_X_test = scaler.transform(X_test2)\n",
    "\n",
    "model_KNN = KNeighborsClassifier(n_neighbors=1)\n",
    "model_KNN.fit(scaled_X_train, Y_train2.ravel())\n",
    "\n",
    "y_pred = model_KNN.predict(scaled_X_val)\n",
    "y_pred[:10], np.array(y_val[:10])"
   ]
  },
  {
   "cell_type": "code",
   "execution_count": 177,
   "metadata": {},
   "outputs": [
    {
     "ename": "ValueError",
     "evalue": "Found input variables with inconsistent numbers of samples: [60000, 9600]",
     "output_type": "error",
     "traceback": [
      "\u001b[1;31m---------------------------------------------------------------------------\u001b[0m",
      "\u001b[1;31mValueError\u001b[0m                                Traceback (most recent call last)",
      "\u001b[1;32mc:\\Users\\fredr\\OneDrive\\Documents\\GitHub\\Maskininl-rning-Fredrik-Hegardt\\Exercises\\Exer_5.ipynb Cell 9'\u001b[0m in \u001b[0;36m<module>\u001b[1;34m\u001b[0m\n\u001b[0;32m      <a href='vscode-notebook-cell:/c%3A/Users/fredr/OneDrive/Documents/GitHub/Maskininl-rning-Fredrik-Hegardt/Exercises/Exer_5.ipynb#ch0000012?line=0'>1</a>\u001b[0m \u001b[39mfrom\u001b[39;00m \u001b[39msklearn\u001b[39;00m\u001b[39m.\u001b[39;00m\u001b[39mmetrics\u001b[39;00m \u001b[39mimport\u001b[39;00m confusion_matrix, ConfusionMatrixDisplay, classification_report, accuracy_score\n\u001b[1;32m----> <a href='vscode-notebook-cell:/c%3A/Users/fredr/OneDrive/Documents/GitHub/Maskininl-rning-Fredrik-Hegardt/Exercises/Exer_5.ipynb#ch0000012?line=2'>3</a>\u001b[0m cm \u001b[39m=\u001b[39m confusion_matrix(Y_train2, y_pred)\n\u001b[0;32m      <a href='vscode-notebook-cell:/c%3A/Users/fredr/OneDrive/Documents/GitHub/Maskininl-rning-Fredrik-Hegardt/Exercises/Exer_5.ipynb#ch0000012?line=3'>4</a>\u001b[0m ConfusionMatrixDisplay(cm)\u001b[39m.\u001b[39mplot()\n",
      "File \u001b[1;32m~\\.virtualenvs\\Maskininl-rning-Fredrik-Hegardt-mmrJtyaC\\lib\\site-packages\\sklearn\\metrics\\_classification.py:307\u001b[0m, in \u001b[0;36mconfusion_matrix\u001b[1;34m(y_true, y_pred, labels, sample_weight, normalize)\u001b[0m\n\u001b[0;32m    <a href='file:///~/.virtualenvs/Maskininl-rning-Fredrik-Hegardt-mmrJtyaC/lib/site-packages/sklearn/metrics/_classification.py?line=221'>222</a>\u001b[0m \u001b[39mdef\u001b[39;00m \u001b[39mconfusion_matrix\u001b[39m(\n\u001b[0;32m    <a href='file:///~/.virtualenvs/Maskininl-rning-Fredrik-Hegardt-mmrJtyaC/lib/site-packages/sklearn/metrics/_classification.py?line=222'>223</a>\u001b[0m     y_true, y_pred, \u001b[39m*\u001b[39m, labels\u001b[39m=\u001b[39m\u001b[39mNone\u001b[39;00m, sample_weight\u001b[39m=\u001b[39m\u001b[39mNone\u001b[39;00m, normalize\u001b[39m=\u001b[39m\u001b[39mNone\u001b[39;00m\n\u001b[0;32m    <a href='file:///~/.virtualenvs/Maskininl-rning-Fredrik-Hegardt-mmrJtyaC/lib/site-packages/sklearn/metrics/_classification.py?line=223'>224</a>\u001b[0m ):\n\u001b[0;32m    <a href='file:///~/.virtualenvs/Maskininl-rning-Fredrik-Hegardt-mmrJtyaC/lib/site-packages/sklearn/metrics/_classification.py?line=224'>225</a>\u001b[0m     \u001b[39m\"\"\"Compute confusion matrix to evaluate the accuracy of a classification.\u001b[39;00m\n\u001b[0;32m    <a href='file:///~/.virtualenvs/Maskininl-rning-Fredrik-Hegardt-mmrJtyaC/lib/site-packages/sklearn/metrics/_classification.py?line=225'>226</a>\u001b[0m \n\u001b[0;32m    <a href='file:///~/.virtualenvs/Maskininl-rning-Fredrik-Hegardt-mmrJtyaC/lib/site-packages/sklearn/metrics/_classification.py?line=226'>227</a>\u001b[0m \u001b[39m    By definition a confusion matrix :math:`C` is such that :math:`C_{i, j}`\u001b[39;00m\n\u001b[1;32m   (...)\u001b[0m\n\u001b[0;32m    <a href='file:///~/.virtualenvs/Maskininl-rning-Fredrik-Hegardt-mmrJtyaC/lib/site-packages/sklearn/metrics/_classification.py?line=304'>305</a>\u001b[0m \u001b[39m    (0, 2, 1, 1)\u001b[39;00m\n\u001b[0;32m    <a href='file:///~/.virtualenvs/Maskininl-rning-Fredrik-Hegardt-mmrJtyaC/lib/site-packages/sklearn/metrics/_classification.py?line=305'>306</a>\u001b[0m \u001b[39m    \"\"\"\u001b[39;00m\n\u001b[1;32m--> <a href='file:///~/.virtualenvs/Maskininl-rning-Fredrik-Hegardt-mmrJtyaC/lib/site-packages/sklearn/metrics/_classification.py?line=306'>307</a>\u001b[0m     y_type, y_true, y_pred \u001b[39m=\u001b[39m _check_targets(y_true, y_pred)\n\u001b[0;32m    <a href='file:///~/.virtualenvs/Maskininl-rning-Fredrik-Hegardt-mmrJtyaC/lib/site-packages/sklearn/metrics/_classification.py?line=307'>308</a>\u001b[0m     \u001b[39mif\u001b[39;00m y_type \u001b[39mnot\u001b[39;00m \u001b[39min\u001b[39;00m (\u001b[39m\"\u001b[39m\u001b[39mbinary\u001b[39m\u001b[39m\"\u001b[39m, \u001b[39m\"\u001b[39m\u001b[39mmulticlass\u001b[39m\u001b[39m\"\u001b[39m):\n\u001b[0;32m    <a href='file:///~/.virtualenvs/Maskininl-rning-Fredrik-Hegardt-mmrJtyaC/lib/site-packages/sklearn/metrics/_classification.py?line=308'>309</a>\u001b[0m         \u001b[39mraise\u001b[39;00m \u001b[39mValueError\u001b[39;00m(\u001b[39m\"\u001b[39m\u001b[39m%s\u001b[39;00m\u001b[39m is not supported\u001b[39m\u001b[39m\"\u001b[39m \u001b[39m%\u001b[39m y_type)\n",
      "File \u001b[1;32m~\\.virtualenvs\\Maskininl-rning-Fredrik-Hegardt-mmrJtyaC\\lib\\site-packages\\sklearn\\metrics\\_classification.py:84\u001b[0m, in \u001b[0;36m_check_targets\u001b[1;34m(y_true, y_pred)\u001b[0m\n\u001b[0;32m     <a href='file:///~/.virtualenvs/Maskininl-rning-Fredrik-Hegardt-mmrJtyaC/lib/site-packages/sklearn/metrics/_classification.py?line=56'>57</a>\u001b[0m \u001b[39mdef\u001b[39;00m \u001b[39m_check_targets\u001b[39m(y_true, y_pred):\n\u001b[0;32m     <a href='file:///~/.virtualenvs/Maskininl-rning-Fredrik-Hegardt-mmrJtyaC/lib/site-packages/sklearn/metrics/_classification.py?line=57'>58</a>\u001b[0m     \u001b[39m\"\"\"Check that y_true and y_pred belong to the same classification task.\u001b[39;00m\n\u001b[0;32m     <a href='file:///~/.virtualenvs/Maskininl-rning-Fredrik-Hegardt-mmrJtyaC/lib/site-packages/sklearn/metrics/_classification.py?line=58'>59</a>\u001b[0m \n\u001b[0;32m     <a href='file:///~/.virtualenvs/Maskininl-rning-Fredrik-Hegardt-mmrJtyaC/lib/site-packages/sklearn/metrics/_classification.py?line=59'>60</a>\u001b[0m \u001b[39m    This converts multiclass or binary types to a common shape, and raises a\u001b[39;00m\n\u001b[1;32m   (...)\u001b[0m\n\u001b[0;32m     <a href='file:///~/.virtualenvs/Maskininl-rning-Fredrik-Hegardt-mmrJtyaC/lib/site-packages/sklearn/metrics/_classification.py?line=81'>82</a>\u001b[0m \u001b[39m    y_pred : array or indicator matrix\u001b[39;00m\n\u001b[0;32m     <a href='file:///~/.virtualenvs/Maskininl-rning-Fredrik-Hegardt-mmrJtyaC/lib/site-packages/sklearn/metrics/_classification.py?line=82'>83</a>\u001b[0m \u001b[39m    \"\"\"\u001b[39;00m\n\u001b[1;32m---> <a href='file:///~/.virtualenvs/Maskininl-rning-Fredrik-Hegardt-mmrJtyaC/lib/site-packages/sklearn/metrics/_classification.py?line=83'>84</a>\u001b[0m     check_consistent_length(y_true, y_pred)\n\u001b[0;32m     <a href='file:///~/.virtualenvs/Maskininl-rning-Fredrik-Hegardt-mmrJtyaC/lib/site-packages/sklearn/metrics/_classification.py?line=84'>85</a>\u001b[0m     type_true \u001b[39m=\u001b[39m type_of_target(y_true)\n\u001b[0;32m     <a href='file:///~/.virtualenvs/Maskininl-rning-Fredrik-Hegardt-mmrJtyaC/lib/site-packages/sklearn/metrics/_classification.py?line=85'>86</a>\u001b[0m     type_pred \u001b[39m=\u001b[39m type_of_target(y_pred)\n",
      "File \u001b[1;32m~\\.virtualenvs\\Maskininl-rning-Fredrik-Hegardt-mmrJtyaC\\lib\\site-packages\\sklearn\\utils\\validation.py:332\u001b[0m, in \u001b[0;36mcheck_consistent_length\u001b[1;34m(*arrays)\u001b[0m\n\u001b[0;32m    <a href='file:///~/.virtualenvs/Maskininl-rning-Fredrik-Hegardt-mmrJtyaC/lib/site-packages/sklearn/utils/validation.py?line=329'>330</a>\u001b[0m uniques \u001b[39m=\u001b[39m np\u001b[39m.\u001b[39munique(lengths)\n\u001b[0;32m    <a href='file:///~/.virtualenvs/Maskininl-rning-Fredrik-Hegardt-mmrJtyaC/lib/site-packages/sklearn/utils/validation.py?line=330'>331</a>\u001b[0m \u001b[39mif\u001b[39;00m \u001b[39mlen\u001b[39m(uniques) \u001b[39m>\u001b[39m \u001b[39m1\u001b[39m:\n\u001b[1;32m--> <a href='file:///~/.virtualenvs/Maskininl-rning-Fredrik-Hegardt-mmrJtyaC/lib/site-packages/sklearn/utils/validation.py?line=331'>332</a>\u001b[0m     \u001b[39mraise\u001b[39;00m \u001b[39mValueError\u001b[39;00m(\n\u001b[0;32m    <a href='file:///~/.virtualenvs/Maskininl-rning-Fredrik-Hegardt-mmrJtyaC/lib/site-packages/sklearn/utils/validation.py?line=332'>333</a>\u001b[0m         \u001b[39m\"\u001b[39m\u001b[39mFound input variables with inconsistent numbers of samples: \u001b[39m\u001b[39m%r\u001b[39;00m\u001b[39m\"\u001b[39m\n\u001b[0;32m    <a href='file:///~/.virtualenvs/Maskininl-rning-Fredrik-Hegardt-mmrJtyaC/lib/site-packages/sklearn/utils/validation.py?line=333'>334</a>\u001b[0m         \u001b[39m%\u001b[39m [\u001b[39mint\u001b[39m(l) \u001b[39mfor\u001b[39;00m l \u001b[39min\u001b[39;00m lengths]\n\u001b[0;32m    <a href='file:///~/.virtualenvs/Maskininl-rning-Fredrik-Hegardt-mmrJtyaC/lib/site-packages/sklearn/utils/validation.py?line=334'>335</a>\u001b[0m     )\n",
      "\u001b[1;31mValueError\u001b[0m: Found input variables with inconsistent numbers of samples: [60000, 9600]"
     ]
    }
   ],
   "source": [
    "from sklearn.metrics import confusion_matrix, ConfusionMatrixDisplay, classification_report, accuracy_score\n",
    "\n",
    "cm = confusion_matrix(Y_train2, y_pred)\n",
    "ConfusionMatrixDisplay(cm).plot()"
   ]
  }
 ],
 "metadata": {
  "interpreter": {
   "hash": "20e36f013206a17ac568431002223843abac3dbb024288464e9b0a20eb5fb034"
  },
  "kernelspec": {
   "display_name": "Python 3.9.6 ('Maskininl-rning-Fredrik-Hegardt-mmrJtyaC')",
   "language": "python",
   "name": "python3"
  },
  "language_info": {
   "codemirror_mode": {
    "name": "ipython",
    "version": 3
   },
   "file_extension": ".py",
   "mimetype": "text/x-python",
   "name": "python",
   "nbconvert_exporter": "python",
   "pygments_lexer": "ipython3",
   "version": "3.9.6"
  },
  "orig_nbformat": 4
 },
 "nbformat": 4,
 "nbformat_minor": 2
}
