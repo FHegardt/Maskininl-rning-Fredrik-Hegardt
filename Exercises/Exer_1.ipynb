{
 "cells": [
  {
   "cell_type": "code",
   "execution_count": 88,
   "metadata": {},
   "outputs": [
    {
     "data": {
      "text/plain": [
       "array([[1.        , 0.37454012, 0.95071431],\n",
       "       [1.        , 0.73199394, 0.59865848],\n",
       "       [1.        , 0.15601864, 0.15599452],\n",
       "       ...,\n",
       "       [1.        , 0.75137509, 0.65695516],\n",
       "       [1.        , 0.95661462, 0.06895802],\n",
       "       [1.        , 0.05705472, 0.28218707]])"
      ]
     },
     "execution_count": 88,
     "metadata": {},
     "output_type": "execute_result"
    }
   ],
   "source": [
    "#0 Simulate dataset\n",
    "\n",
    "import numpy as np\n",
    "import seaborn as sns\n",
    "import matplotlib.pyplot as plt\n",
    "import pandas as pd\n",
    "\n",
    "np.random.seed(42)\n",
    "\n",
    "x = np.abs(np.random.rand(1000,2))\n",
    "e = np.abs(np.random.normal(loc=0, scale=1, size = 1000))\n",
    "y = 3*x[:,0]+ 5*x[:,1] + 3 + e\n",
    "y=y.reshape(y.size,-1)\n",
    "\n",
    "#x = np.linspace(0,1,1000)\n",
    "#y2 = 3*x + 5*x + 3  + x\n",
    "#fig, ax = plt.subplots(dpi=140)\n",
    "#sns.scatterplot(x = x[:,0], y = y)\n",
    "#sns.scatterplot(x = x[:,1], y = y)\n",
    "#sns.lineplot(x = x, y = y2, color = 'purple')\n",
    "\n",
    "x= np.c_[np.ones(1000), x]\n",
    "x\n"
   ]
  },
  {
   "cell_type": "code",
   "execution_count": 92,
   "metadata": {},
   "outputs": [],
   "source": [
    "\n",
    "def gradient_descent(X,y, learning_rate = .1, iterations =100):\n",
    "    m = len(X)\n",
    "\n",
    "    theta = np.random.randn(3,1)\n",
    "   \n",
    "    for _ in range(iterations):\n",
    "        gradient = 2 / m * X.T@(X @ theta - y)\n",
    "        theta -= learning_rate*gradient\n",
    "    theta = gradient_descent(x,y)\n",
    "    theta.reshape(-1)\n",
    "fig, ax = plt.figure(dpi=80), plt.axes()\n",
    "epochs = range(1,200)\n",
    "thetas = np.array([gradient_descent(x, y, iterations= epoch).reshape(-1) for epoch in epochs])\n",
    "thetas.shape\n",
    "\n"
   ]
  }
 ],
 "metadata": {
  "interpreter": {
   "hash": "20e36f013206a17ac568431002223843abac3dbb024288464e9b0a20eb5fb034"
  },
  "kernelspec": {
   "display_name": "Python 3.9.6 ('Maskininl-rning-Fredrik-Hegardt-mmrJtyaC')",
   "language": "python",
   "name": "python3"
  },
  "language_info": {
   "codemirror_mode": {
    "name": "ipython",
    "version": 3
   },
   "file_extension": ".py",
   "mimetype": "text/x-python",
   "name": "python",
   "nbconvert_exporter": "python",
   "pygments_lexer": "ipython3",
   "version": "3.9.6"
  },
  "orig_nbformat": 4
 },
 "nbformat": 4,
 "nbformat_minor": 2
}
