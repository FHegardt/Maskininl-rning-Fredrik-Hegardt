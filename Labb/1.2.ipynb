{
 "cells": [
  {
   "cell_type": "markdown",
   "metadata": {},
   "source": [
    "## 1.2 Skapa gles matris"
   ]
  },
  {
   "cell_type": "code",
   "execution_count": 143,
   "metadata": {},
   "outputs": [
    {
     "data": {
      "text/html": [
       "<div>\n",
       "<style scoped>\n",
       "    .dataframe tbody tr th:only-of-type {\n",
       "        vertical-align: middle;\n",
       "    }\n",
       "\n",
       "    .dataframe tbody tr th {\n",
       "        vertical-align: top;\n",
       "    }\n",
       "\n",
       "    .dataframe thead th {\n",
       "        text-align: right;\n",
       "    }\n",
       "</style>\n",
       "<table border=\"1\" class=\"dataframe\">\n",
       "  <thead>\n",
       "    <tr style=\"text-align: right;\">\n",
       "      <th></th>\n",
       "      <th>userId</th>\n",
       "      <th>movieId</th>\n",
       "      <th>rating</th>\n",
       "    </tr>\n",
       "  </thead>\n",
       "  <tbody>\n",
       "    <tr>\n",
       "      <th>0</th>\n",
       "      <td>1</td>\n",
       "      <td>307</td>\n",
       "      <td>3.5</td>\n",
       "    </tr>\n",
       "    <tr>\n",
       "      <th>1</th>\n",
       "      <td>1</td>\n",
       "      <td>481</td>\n",
       "      <td>3.5</td>\n",
       "    </tr>\n",
       "    <tr>\n",
       "      <th>2</th>\n",
       "      <td>1</td>\n",
       "      <td>1091</td>\n",
       "      <td>1.5</td>\n",
       "    </tr>\n",
       "    <tr>\n",
       "      <th>3</th>\n",
       "      <td>1</td>\n",
       "      <td>1257</td>\n",
       "      <td>4.5</td>\n",
       "    </tr>\n",
       "    <tr>\n",
       "      <th>4</th>\n",
       "      <td>1</td>\n",
       "      <td>1449</td>\n",
       "      <td>4.5</td>\n",
       "    </tr>\n",
       "  </tbody>\n",
       "</table>\n",
       "</div>"
      ],
      "text/plain": [
       "   userId  movieId  rating\n",
       "0       1      307     3.5\n",
       "1       1      481     3.5\n",
       "2       1     1091     1.5\n",
       "3       1     1257     4.5\n",
       "4       1     1449     4.5"
      ]
     },
     "execution_count": 143,
     "metadata": {},
     "output_type": "execute_result"
    }
   ],
   "source": [
    "#1 Reading in the csv-files\n",
    "import pandas as pd\n",
    "from scipy.sparse import csr_matrix\n",
    "from sklearn.neighbors import NearestNeighbors\n",
    "from fuzzywuzzy import process\n",
    "movieData= pd.read_csv('./Data/movies.csv', usecols=[\"movieId\", 'title'], dtype={'movieId': 'int32', 'title': 'str'})\n",
    "ratingData = pd.read_csv('./Data/ratings.csv', usecols=[\"userId\", \"movieId\", \"rating\"], dtype ={'userId': 'int32', 'movieId': 'int32', 'rating': 'float32'})\n",
    "ratingData.head()"
   ]
  },
  {
   "cell_type": "code",
   "execution_count": 144,
   "metadata": {},
   "outputs": [
    {
     "data": {
      "text/plain": [
       "2874882"
      ]
     },
     "execution_count": 144,
     "metadata": {},
     "output_type": "execute_result"
    }
   ],
   "source": [
    "# Sorting out all movies with few ratings and only saving top 2500 movies with most ratings.\n",
    "movies_with_few_ratings = ratingData[\"movieId\"].value_counts().sort_values(ascending=False).head(2500)\n",
    "new_ratingData = ratingData[ratingData['movieId'].isin(movies_with_few_ratings)]\n",
    "len(new_ratingData)\n"
   ]
  },
  {
   "cell_type": "code",
   "execution_count": 145,
   "metadata": {},
   "outputs": [
    {
     "data": {
      "text/plain": [
       "2299807"
      ]
     },
     "execution_count": 145,
     "metadata": {},
     "output_type": "execute_result"
    }
   ],
   "source": [
    "#Getting rid of some more data, getting rid of movies with below 4 in rating.\n",
    "sorted_ratingData = new_ratingData.drop(new_ratingData[new_ratingData.rating < 3].index)\n",
    "len(sorted_ratingData)"
   ]
  },
  {
   "cell_type": "code",
   "execution_count": 146,
   "metadata": {},
   "outputs": [
    {
     "ename": "MemoryError",
     "evalue": "Unable to allocate 977. MiB for an array with shape (187710, 1365) and data type float32",
     "output_type": "error",
     "traceback": [
      "\u001b[1;31m---------------------------------------------------------------------------\u001b[0m",
      "\u001b[1;31mMemoryError\u001b[0m                               Traceback (most recent call last)",
      "\u001b[1;32mc:\\Users\\fredr\\OneDrive\\Documents\\GitHub\\Maskininl-rning-Fredrik-Hegardt\\Labb\\1.2.ipynb Cell 5'\u001b[0m in \u001b[0;36m<cell line: 2>\u001b[1;34m()\u001b[0m\n\u001b[0;32m      <a href='vscode-notebook-cell:/c%3A/Users/fredr/OneDrive/Documents/GitHub/Maskininl-rning-Fredrik-Hegardt/Labb/1.2.ipynb#ch0000005?line=0'>1</a>\u001b[0m \u001b[39m#Creating the matrix\u001b[39;00m\n\u001b[1;32m----> <a href='vscode-notebook-cell:/c%3A/Users/fredr/OneDrive/Documents/GitHub/Maskininl-rning-Fredrik-Hegardt/Labb/1.2.ipynb#ch0000005?line=1'>2</a>\u001b[0m movies_users\u001b[39m=\u001b[39msorted_ratingData\u001b[39m.\u001b[39;49mpivot(index\u001b[39m=\u001b[39;49m\u001b[39m'\u001b[39;49m\u001b[39mmovieId\u001b[39;49m\u001b[39m'\u001b[39;49m, columns\u001b[39m=\u001b[39;49m\u001b[39m'\u001b[39;49m\u001b[39muserId\u001b[39;49m\u001b[39m'\u001b[39;49m, values\u001b[39m=\u001b[39;49m\u001b[39m'\u001b[39;49m\u001b[39mrating\u001b[39;49m\u001b[39m'\u001b[39;49m)\u001b[39m.\u001b[39;49mfillna(\u001b[39m0\u001b[39;49m)\n\u001b[0;32m      <a href='vscode-notebook-cell:/c%3A/Users/fredr/OneDrive/Documents/GitHub/Maskininl-rning-Fredrik-Hegardt/Labb/1.2.ipynb#ch0000005?line=2'>3</a>\u001b[0m mat_movies_users\u001b[39m=\u001b[39mcsr_matrix(movies_users\u001b[39m.\u001b[39mvalues)\n",
      "File \u001b[1;32m~\\.virtualenvs\\Maskininl-rning-Fredrik-Hegardt-mmrJtyaC\\lib\\site-packages\\pandas\\util\\_decorators.py:311\u001b[0m, in \u001b[0;36mdeprecate_nonkeyword_arguments.<locals>.decorate.<locals>.wrapper\u001b[1;34m(*args, **kwargs)\u001b[0m\n\u001b[0;32m    <a href='file:///c%3A/Users/fredr/.virtualenvs/Maskininl-rning-Fredrik-Hegardt-mmrJtyaC/lib/site-packages/pandas/util/_decorators.py?line=304'>305</a>\u001b[0m \u001b[39mif\u001b[39;00m \u001b[39mlen\u001b[39m(args) \u001b[39m>\u001b[39m num_allow_args:\n\u001b[0;32m    <a href='file:///c%3A/Users/fredr/.virtualenvs/Maskininl-rning-Fredrik-Hegardt-mmrJtyaC/lib/site-packages/pandas/util/_decorators.py?line=305'>306</a>\u001b[0m     warnings\u001b[39m.\u001b[39mwarn(\n\u001b[0;32m    <a href='file:///c%3A/Users/fredr/.virtualenvs/Maskininl-rning-Fredrik-Hegardt-mmrJtyaC/lib/site-packages/pandas/util/_decorators.py?line=306'>307</a>\u001b[0m         msg\u001b[39m.\u001b[39mformat(arguments\u001b[39m=\u001b[39marguments),\n\u001b[0;32m    <a href='file:///c%3A/Users/fredr/.virtualenvs/Maskininl-rning-Fredrik-Hegardt-mmrJtyaC/lib/site-packages/pandas/util/_decorators.py?line=307'>308</a>\u001b[0m         \u001b[39mFutureWarning\u001b[39;00m,\n\u001b[0;32m    <a href='file:///c%3A/Users/fredr/.virtualenvs/Maskininl-rning-Fredrik-Hegardt-mmrJtyaC/lib/site-packages/pandas/util/_decorators.py?line=308'>309</a>\u001b[0m         stacklevel\u001b[39m=\u001b[39mstacklevel,\n\u001b[0;32m    <a href='file:///c%3A/Users/fredr/.virtualenvs/Maskininl-rning-Fredrik-Hegardt-mmrJtyaC/lib/site-packages/pandas/util/_decorators.py?line=309'>310</a>\u001b[0m     )\n\u001b[1;32m--> <a href='file:///c%3A/Users/fredr/.virtualenvs/Maskininl-rning-Fredrik-Hegardt-mmrJtyaC/lib/site-packages/pandas/util/_decorators.py?line=310'>311</a>\u001b[0m \u001b[39mreturn\u001b[39;00m func(\u001b[39m*\u001b[39margs, \u001b[39m*\u001b[39m\u001b[39m*\u001b[39mkwargs)\n",
      "File \u001b[1;32m~\\.virtualenvs\\Maskininl-rning-Fredrik-Hegardt-mmrJtyaC\\lib\\site-packages\\pandas\\core\\frame.py:5214\u001b[0m, in \u001b[0;36mDataFrame.fillna\u001b[1;34m(self, value, method, axis, inplace, limit, downcast)\u001b[0m\n\u001b[0;32m   <a href='file:///c%3A/Users/fredr/.virtualenvs/Maskininl-rning-Fredrik-Hegardt-mmrJtyaC/lib/site-packages/pandas/core/frame.py?line=5202'>5203</a>\u001b[0m \u001b[39m@deprecate_nonkeyword_arguments\u001b[39m(version\u001b[39m=\u001b[39m\u001b[39mNone\u001b[39;00m, allowed_args\u001b[39m=\u001b[39m[\u001b[39m\"\u001b[39m\u001b[39mself\u001b[39m\u001b[39m\"\u001b[39m, \u001b[39m\"\u001b[39m\u001b[39mvalue\u001b[39m\u001b[39m\"\u001b[39m])\n\u001b[0;32m   <a href='file:///c%3A/Users/fredr/.virtualenvs/Maskininl-rning-Fredrik-Hegardt-mmrJtyaC/lib/site-packages/pandas/core/frame.py?line=5203'>5204</a>\u001b[0m \u001b[39m@doc\u001b[39m(NDFrame\u001b[39m.\u001b[39mfillna, \u001b[39m*\u001b[39m\u001b[39m*\u001b[39m_shared_doc_kwargs)\n\u001b[0;32m   <a href='file:///c%3A/Users/fredr/.virtualenvs/Maskininl-rning-Fredrik-Hegardt-mmrJtyaC/lib/site-packages/pandas/core/frame.py?line=5204'>5205</a>\u001b[0m \u001b[39mdef\u001b[39;00m \u001b[39mfillna\u001b[39m(\n\u001b[1;32m   (...)\u001b[0m\n\u001b[0;32m   <a href='file:///c%3A/Users/fredr/.virtualenvs/Maskininl-rning-Fredrik-Hegardt-mmrJtyaC/lib/site-packages/pandas/core/frame.py?line=5211'>5212</a>\u001b[0m     downcast\u001b[39m=\u001b[39m\u001b[39mNone\u001b[39;00m,\n\u001b[0;32m   <a href='file:///c%3A/Users/fredr/.virtualenvs/Maskininl-rning-Fredrik-Hegardt-mmrJtyaC/lib/site-packages/pandas/core/frame.py?line=5212'>5213</a>\u001b[0m ) \u001b[39m-\u001b[39m\u001b[39m>\u001b[39m DataFrame \u001b[39m|\u001b[39m \u001b[39mNone\u001b[39;00m:\n\u001b[1;32m-> <a href='file:///c%3A/Users/fredr/.virtualenvs/Maskininl-rning-Fredrik-Hegardt-mmrJtyaC/lib/site-packages/pandas/core/frame.py?line=5213'>5214</a>\u001b[0m     \u001b[39mreturn\u001b[39;00m \u001b[39msuper\u001b[39;49m()\u001b[39m.\u001b[39;49mfillna(\n\u001b[0;32m   <a href='file:///c%3A/Users/fredr/.virtualenvs/Maskininl-rning-Fredrik-Hegardt-mmrJtyaC/lib/site-packages/pandas/core/frame.py?line=5214'>5215</a>\u001b[0m         value\u001b[39m=\u001b[39;49mvalue,\n\u001b[0;32m   <a href='file:///c%3A/Users/fredr/.virtualenvs/Maskininl-rning-Fredrik-Hegardt-mmrJtyaC/lib/site-packages/pandas/core/frame.py?line=5215'>5216</a>\u001b[0m         method\u001b[39m=\u001b[39;49mmethod,\n\u001b[0;32m   <a href='file:///c%3A/Users/fredr/.virtualenvs/Maskininl-rning-Fredrik-Hegardt-mmrJtyaC/lib/site-packages/pandas/core/frame.py?line=5216'>5217</a>\u001b[0m         axis\u001b[39m=\u001b[39;49maxis,\n\u001b[0;32m   <a href='file:///c%3A/Users/fredr/.virtualenvs/Maskininl-rning-Fredrik-Hegardt-mmrJtyaC/lib/site-packages/pandas/core/frame.py?line=5217'>5218</a>\u001b[0m         inplace\u001b[39m=\u001b[39;49minplace,\n\u001b[0;32m   <a href='file:///c%3A/Users/fredr/.virtualenvs/Maskininl-rning-Fredrik-Hegardt-mmrJtyaC/lib/site-packages/pandas/core/frame.py?line=5218'>5219</a>\u001b[0m         limit\u001b[39m=\u001b[39;49mlimit,\n\u001b[0;32m   <a href='file:///c%3A/Users/fredr/.virtualenvs/Maskininl-rning-Fredrik-Hegardt-mmrJtyaC/lib/site-packages/pandas/core/frame.py?line=5219'>5220</a>\u001b[0m         downcast\u001b[39m=\u001b[39;49mdowncast,\n\u001b[0;32m   <a href='file:///c%3A/Users/fredr/.virtualenvs/Maskininl-rning-Fredrik-Hegardt-mmrJtyaC/lib/site-packages/pandas/core/frame.py?line=5220'>5221</a>\u001b[0m     )\n",
      "File \u001b[1;32m~\\.virtualenvs\\Maskininl-rning-Fredrik-Hegardt-mmrJtyaC\\lib\\site-packages\\pandas\\core\\generic.py:6504\u001b[0m, in \u001b[0;36mNDFrame.fillna\u001b[1;34m(self, value, method, axis, inplace, limit, downcast)\u001b[0m\n\u001b[0;32m   <a href='file:///c%3A/Users/fredr/.virtualenvs/Maskininl-rning-Fredrik-Hegardt-mmrJtyaC/lib/site-packages/pandas/core/generic.py?line=6500'>6501</a>\u001b[0m         new_data \u001b[39m=\u001b[39m result\n\u001b[0;32m   <a href='file:///c%3A/Users/fredr/.virtualenvs/Maskininl-rning-Fredrik-Hegardt-mmrJtyaC/lib/site-packages/pandas/core/generic.py?line=6501'>6502</a>\u001b[0m     \u001b[39melse\u001b[39;00m:\n\u001b[1;32m-> <a href='file:///c%3A/Users/fredr/.virtualenvs/Maskininl-rning-Fredrik-Hegardt-mmrJtyaC/lib/site-packages/pandas/core/generic.py?line=6503'>6504</a>\u001b[0m         new_data \u001b[39m=\u001b[39m \u001b[39mself\u001b[39;49m\u001b[39m.\u001b[39;49m_mgr\u001b[39m.\u001b[39;49mfillna(\n\u001b[0;32m   <a href='file:///c%3A/Users/fredr/.virtualenvs/Maskininl-rning-Fredrik-Hegardt-mmrJtyaC/lib/site-packages/pandas/core/generic.py?line=6504'>6505</a>\u001b[0m             value\u001b[39m=\u001b[39;49mvalue, limit\u001b[39m=\u001b[39;49mlimit, inplace\u001b[39m=\u001b[39;49minplace, downcast\u001b[39m=\u001b[39;49mdowncast\n\u001b[0;32m   <a href='file:///c%3A/Users/fredr/.virtualenvs/Maskininl-rning-Fredrik-Hegardt-mmrJtyaC/lib/site-packages/pandas/core/generic.py?line=6505'>6506</a>\u001b[0m         )\n\u001b[0;32m   <a href='file:///c%3A/Users/fredr/.virtualenvs/Maskininl-rning-Fredrik-Hegardt-mmrJtyaC/lib/site-packages/pandas/core/generic.py?line=6506'>6507</a>\u001b[0m \u001b[39melif\u001b[39;00m \u001b[39misinstance\u001b[39m(value, ABCDataFrame) \u001b[39mand\u001b[39;00m \u001b[39mself\u001b[39m\u001b[39m.\u001b[39mndim \u001b[39m==\u001b[39m \u001b[39m2\u001b[39m:\n\u001b[0;32m   <a href='file:///c%3A/Users/fredr/.virtualenvs/Maskininl-rning-Fredrik-Hegardt-mmrJtyaC/lib/site-packages/pandas/core/generic.py?line=6508'>6509</a>\u001b[0m     new_data \u001b[39m=\u001b[39m \u001b[39mself\u001b[39m\u001b[39m.\u001b[39mwhere(\u001b[39mself\u001b[39m\u001b[39m.\u001b[39mnotna(), value)\u001b[39m.\u001b[39m_mgr\n",
      "File \u001b[1;32m~\\.virtualenvs\\Maskininl-rning-Fredrik-Hegardt-mmrJtyaC\\lib\\site-packages\\pandas\\core\\internals\\managers.py:414\u001b[0m, in \u001b[0;36mBaseBlockManager.fillna\u001b[1;34m(self, value, limit, inplace, downcast)\u001b[0m\n\u001b[0;32m    <a href='file:///c%3A/Users/fredr/.virtualenvs/Maskininl-rning-Fredrik-Hegardt-mmrJtyaC/lib/site-packages/pandas/core/internals/managers.py?line=412'>413</a>\u001b[0m \u001b[39mdef\u001b[39;00m \u001b[39mfillna\u001b[39m(\u001b[39mself\u001b[39m: T, value, limit, inplace: \u001b[39mbool\u001b[39m, downcast) \u001b[39m-\u001b[39m\u001b[39m>\u001b[39m T:\n\u001b[1;32m--> <a href='file:///c%3A/Users/fredr/.virtualenvs/Maskininl-rning-Fredrik-Hegardt-mmrJtyaC/lib/site-packages/pandas/core/internals/managers.py?line=413'>414</a>\u001b[0m     \u001b[39mreturn\u001b[39;00m \u001b[39mself\u001b[39;49m\u001b[39m.\u001b[39;49mapply(\n\u001b[0;32m    <a href='file:///c%3A/Users/fredr/.virtualenvs/Maskininl-rning-Fredrik-Hegardt-mmrJtyaC/lib/site-packages/pandas/core/internals/managers.py?line=414'>415</a>\u001b[0m         \u001b[39m\"\u001b[39;49m\u001b[39mfillna\u001b[39;49m\u001b[39m\"\u001b[39;49m, value\u001b[39m=\u001b[39;49mvalue, limit\u001b[39m=\u001b[39;49mlimit, inplace\u001b[39m=\u001b[39;49minplace, downcast\u001b[39m=\u001b[39;49mdowncast\n\u001b[0;32m    <a href='file:///c%3A/Users/fredr/.virtualenvs/Maskininl-rning-Fredrik-Hegardt-mmrJtyaC/lib/site-packages/pandas/core/internals/managers.py?line=415'>416</a>\u001b[0m     )\n",
      "File \u001b[1;32m~\\.virtualenvs\\Maskininl-rning-Fredrik-Hegardt-mmrJtyaC\\lib\\site-packages\\pandas\\core\\internals\\managers.py:304\u001b[0m, in \u001b[0;36mBaseBlockManager.apply\u001b[1;34m(self, f, align_keys, ignore_failures, **kwargs)\u001b[0m\n\u001b[0;32m    <a href='file:///c%3A/Users/fredr/.virtualenvs/Maskininl-rning-Fredrik-Hegardt-mmrJtyaC/lib/site-packages/pandas/core/internals/managers.py?line=301'>302</a>\u001b[0m         applied \u001b[39m=\u001b[39m b\u001b[39m.\u001b[39mapply(f, \u001b[39m*\u001b[39m\u001b[39m*\u001b[39mkwargs)\n\u001b[0;32m    <a href='file:///c%3A/Users/fredr/.virtualenvs/Maskininl-rning-Fredrik-Hegardt-mmrJtyaC/lib/site-packages/pandas/core/internals/managers.py?line=302'>303</a>\u001b[0m     \u001b[39melse\u001b[39;00m:\n\u001b[1;32m--> <a href='file:///c%3A/Users/fredr/.virtualenvs/Maskininl-rning-Fredrik-Hegardt-mmrJtyaC/lib/site-packages/pandas/core/internals/managers.py?line=303'>304</a>\u001b[0m         applied \u001b[39m=\u001b[39m \u001b[39mgetattr\u001b[39m(b, f)(\u001b[39m*\u001b[39m\u001b[39m*\u001b[39mkwargs)\n\u001b[0;32m    <a href='file:///c%3A/Users/fredr/.virtualenvs/Maskininl-rning-Fredrik-Hegardt-mmrJtyaC/lib/site-packages/pandas/core/internals/managers.py?line=304'>305</a>\u001b[0m \u001b[39mexcept\u001b[39;00m (\u001b[39mTypeError\u001b[39;00m, \u001b[39mNotImplementedError\u001b[39;00m):\n\u001b[0;32m    <a href='file:///c%3A/Users/fredr/.virtualenvs/Maskininl-rning-Fredrik-Hegardt-mmrJtyaC/lib/site-packages/pandas/core/internals/managers.py?line=305'>306</a>\u001b[0m     \u001b[39mif\u001b[39;00m \u001b[39mnot\u001b[39;00m ignore_failures:\n",
      "File \u001b[1;32m~\\.virtualenvs\\Maskininl-rning-Fredrik-Hegardt-mmrJtyaC\\lib\\site-packages\\pandas\\core\\internals\\blocks.py:471\u001b[0m, in \u001b[0;36mBlock.fillna\u001b[1;34m(self, value, limit, inplace, downcast)\u001b[0m\n\u001b[0;32m    <a href='file:///c%3A/Users/fredr/.virtualenvs/Maskininl-rning-Fredrik-Hegardt-mmrJtyaC/lib/site-packages/pandas/core/internals/blocks.py?line=467'>468</a>\u001b[0m         \u001b[39mreturn\u001b[39;00m [\u001b[39mself\u001b[39m\u001b[39m.\u001b[39mcopy()]\n\u001b[0;32m    <a href='file:///c%3A/Users/fredr/.virtualenvs/Maskininl-rning-Fredrik-Hegardt-mmrJtyaC/lib/site-packages/pandas/core/internals/blocks.py?line=469'>470</a>\u001b[0m \u001b[39mif\u001b[39;00m \u001b[39mself\u001b[39m\u001b[39m.\u001b[39m_can_hold_element(value):\n\u001b[1;32m--> <a href='file:///c%3A/Users/fredr/.virtualenvs/Maskininl-rning-Fredrik-Hegardt-mmrJtyaC/lib/site-packages/pandas/core/internals/blocks.py?line=470'>471</a>\u001b[0m     nb \u001b[39m=\u001b[39m \u001b[39mself\u001b[39m \u001b[39mif\u001b[39;00m inplace \u001b[39melse\u001b[39;00m \u001b[39mself\u001b[39;49m\u001b[39m.\u001b[39;49mcopy()\n\u001b[0;32m    <a href='file:///c%3A/Users/fredr/.virtualenvs/Maskininl-rning-Fredrik-Hegardt-mmrJtyaC/lib/site-packages/pandas/core/internals/blocks.py?line=471'>472</a>\u001b[0m     putmask_inplace(nb\u001b[39m.\u001b[39mvalues, mask, value)\n\u001b[0;32m    <a href='file:///c%3A/Users/fredr/.virtualenvs/Maskininl-rning-Fredrik-Hegardt-mmrJtyaC/lib/site-packages/pandas/core/internals/blocks.py?line=472'>473</a>\u001b[0m     \u001b[39mreturn\u001b[39;00m nb\u001b[39m.\u001b[39m_maybe_downcast([nb], downcast)\n",
      "File \u001b[1;32m~\\.virtualenvs\\Maskininl-rning-Fredrik-Hegardt-mmrJtyaC\\lib\\site-packages\\pandas\\core\\internals\\blocks.py:643\u001b[0m, in \u001b[0;36mBlock.copy\u001b[1;34m(self, deep)\u001b[0m\n\u001b[0;32m    <a href='file:///c%3A/Users/fredr/.virtualenvs/Maskininl-rning-Fredrik-Hegardt-mmrJtyaC/lib/site-packages/pandas/core/internals/blocks.py?line=640'>641</a>\u001b[0m values \u001b[39m=\u001b[39m \u001b[39mself\u001b[39m\u001b[39m.\u001b[39mvalues\n\u001b[0;32m    <a href='file:///c%3A/Users/fredr/.virtualenvs/Maskininl-rning-Fredrik-Hegardt-mmrJtyaC/lib/site-packages/pandas/core/internals/blocks.py?line=641'>642</a>\u001b[0m \u001b[39mif\u001b[39;00m deep:\n\u001b[1;32m--> <a href='file:///c%3A/Users/fredr/.virtualenvs/Maskininl-rning-Fredrik-Hegardt-mmrJtyaC/lib/site-packages/pandas/core/internals/blocks.py?line=642'>643</a>\u001b[0m     values \u001b[39m=\u001b[39m values\u001b[39m.\u001b[39;49mcopy()\n\u001b[0;32m    <a href='file:///c%3A/Users/fredr/.virtualenvs/Maskininl-rning-Fredrik-Hegardt-mmrJtyaC/lib/site-packages/pandas/core/internals/blocks.py?line=643'>644</a>\u001b[0m \u001b[39mreturn\u001b[39;00m \u001b[39mtype\u001b[39m(\u001b[39mself\u001b[39m)(values, placement\u001b[39m=\u001b[39m\u001b[39mself\u001b[39m\u001b[39m.\u001b[39m_mgr_locs, ndim\u001b[39m=\u001b[39m\u001b[39mself\u001b[39m\u001b[39m.\u001b[39mndim)\n",
      "\u001b[1;31mMemoryError\u001b[0m: Unable to allocate 977. MiB for an array with shape (187710, 1365) and data type float32"
     ]
    }
   ],
   "source": [
    "#Creating the matrix\n",
    "movies_users=sorted_ratingData.pivot(index='movieId', columns='userId', values='rating').fillna(0)\n",
    "mat_movies_users=csr_matrix(movies_users.values)"
   ]
  },
  {
   "cell_type": "code",
   "execution_count": null,
   "metadata": {},
   "outputs": [
    {
     "data": {
      "text/plain": [
       "NearestNeighbors(algorithm='brute', metric='cosine', n_neighbors=20)"
      ]
     },
     "execution_count": 129,
     "metadata": {},
     "output_type": "execute_result"
    }
   ],
   "source": [
    "# training the model\n",
    "model_knn=NearestNeighbors(metric='cosine', algorithm='brute', n_neighbors=20)\n",
    "model_knn.fit(mat_movies_users)"
   ]
  },
  {
   "cell_type": "markdown",
   "metadata": {},
   "source": [
    "## 1.3 Rekommenderarsystemet"
   ]
  },
  {
   "cell_type": "code",
   "execution_count": null,
   "metadata": {},
   "outputs": [
    {
     "name": "stdout",
     "output_type": "stream",
     "text": [
      "Movie Selected:  Shawshank Redemption, The (1994) Index:  315\n",
      "Searching for recommendations...\n",
      "     movieId                          title\n",
      "406      410    Addams Family Values (1993)\n",
      "385      389     Colonel Chabert, Le (1994)\n",
      "36        37  Across the Sea of Time (1995)\n",
      "312      315         Specialist, The (1994)\n",
      "528      532              Serial Mom (1994)\n"
     ]
    }
   ],
   "source": [
    "# Creating the model to predict and predicting the \"Shawshank redemption\"\n",
    "def recommender(movie_name, data, model, n_recommendations):\n",
    "    model.fit(data)\n",
    "    idx=process.extractOne(movie_name, movieData['title'])[2]\n",
    "    print(\"Movie Selected: \", movieData['title'][idx], \"Index: \",idx)\n",
    "    print(\"Searching for recommendations...\")\n",
    "    distances, indices = model.kneighbors(data[idx], n_neighbors=n_recommendations+1)\n",
    "    print(movieData.loc[indices[0][1:]])\n",
    "\n",
    "recommender('Shawshank redemption', mat_movies_users, model_knn, 5)"
   ]
  },
  {
   "cell_type": "markdown",
   "metadata": {},
   "source": [
    "## Recommendation system 1.3 questions\n",
    "\n",
    "- a) Systemet hittar de närmsta datapunkterna från olika users ratings för att rekommendera nästa film, i ett flerdimensionellt system. I min modell kollar den på de 20 närmaste punkterna. Den tar alltså och kollar på hur andra personer som ratat filmen likadant och försöker hitta punkter från andra filmer som ligger likadant.\n",
    "\n",
    "- b) Bra rekommenderar system använder oftast olika modeller kombinerat. T.ex använder de modeller som kollar på din egen filmhistorik för att hitta filmer som liknar de filmer du sett, utifrån rating, genre, etc men oftast är det kombinerat med ett system som ovan där den också kollar på olika \"user profiles\" och matcher de filmer du har sett med liknande users och därmed kan rekommendera utifrån hur andra användare som liknar dig kollar på för fler filmer.\n"
   ]
  },
  {
   "cell_type": "markdown",
   "metadata": {},
   "source": []
  }
 ],
 "metadata": {
  "interpreter": {
   "hash": "20e36f013206a17ac568431002223843abac3dbb024288464e9b0a20eb5fb034"
  },
  "kernelspec": {
   "display_name": "Python 3.9.6 ('Maskininl-rning-Fredrik-Hegardt-mmrJtyaC')",
   "language": "python",
   "name": "python3"
  },
  "language_info": {
   "codemirror_mode": {
    "name": "ipython",
    "version": 3
   },
   "file_extension": ".py",
   "mimetype": "text/x-python",
   "name": "python",
   "nbconvert_exporter": "python",
   "pygments_lexer": "ipython3",
   "version": "3.9.6"
  },
  "orig_nbformat": 4
 },
 "nbformat": 4,
 "nbformat_minor": 2
}
