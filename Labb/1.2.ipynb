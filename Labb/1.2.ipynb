{
 "cells": [
  {
   "cell_type": "code",
   "execution_count": 190,
   "metadata": {},
   "outputs": [
    {
     "data": {
      "text/html": [
       "<div>\n",
       "<style scoped>\n",
       "    .dataframe tbody tr th:only-of-type {\n",
       "        vertical-align: middle;\n",
       "    }\n",
       "\n",
       "    .dataframe tbody tr th {\n",
       "        vertical-align: top;\n",
       "    }\n",
       "\n",
       "    .dataframe thead th {\n",
       "        text-align: right;\n",
       "    }\n",
       "</style>\n",
       "<table border=\"1\" class=\"dataframe\">\n",
       "  <thead>\n",
       "    <tr style=\"text-align: right;\">\n",
       "      <th></th>\n",
       "      <th>userId</th>\n",
       "      <th>movieId</th>\n",
       "      <th>rating</th>\n",
       "    </tr>\n",
       "  </thead>\n",
       "  <tbody>\n",
       "    <tr>\n",
       "      <th>0</th>\n",
       "      <td>1</td>\n",
       "      <td>307</td>\n",
       "      <td>3.5</td>\n",
       "    </tr>\n",
       "    <tr>\n",
       "      <th>1</th>\n",
       "      <td>1</td>\n",
       "      <td>481</td>\n",
       "      <td>3.5</td>\n",
       "    </tr>\n",
       "    <tr>\n",
       "      <th>2</th>\n",
       "      <td>1</td>\n",
       "      <td>1091</td>\n",
       "      <td>1.5</td>\n",
       "    </tr>\n",
       "    <tr>\n",
       "      <th>3</th>\n",
       "      <td>1</td>\n",
       "      <td>1257</td>\n",
       "      <td>4.5</td>\n",
       "    </tr>\n",
       "    <tr>\n",
       "      <th>4</th>\n",
       "      <td>1</td>\n",
       "      <td>1449</td>\n",
       "      <td>4.5</td>\n",
       "    </tr>\n",
       "  </tbody>\n",
       "</table>\n",
       "</div>"
      ],
      "text/plain": [
       "   userId  movieId  rating\n",
       "0       1      307     3.5\n",
       "1       1      481     3.5\n",
       "2       1     1091     1.5\n",
       "3       1     1257     4.5\n",
       "4       1     1449     4.5"
      ]
     },
     "execution_count": 190,
     "metadata": {},
     "output_type": "execute_result"
    }
   ],
   "source": [
    "#1 Reading in the csv-files\n",
    "import pandas as pd\n",
    "from scipy.sparse import csr_matrix\n",
    "from sklearn.neighbors import NearestNeighbors\n",
    "from fuzzywuzzy import process\n",
    "movieData= pd.read_csv('./Data/movies.csv', usecols=[\"movieId\", 'title'], dtype={'movieId': 'int16', 'title': 'str'})\n",
    "ratingData = pd.read_csv('./Data/ratings.csv', usecols=[\"userId\", \"movieId\", \"rating\"], dtype ={'userId': 'int32', 'movieId': 'int32', 'rating': 'float32'})\n",
    "ratingData.head()"
   ]
  },
  {
   "cell_type": "code",
   "execution_count": 191,
   "metadata": {},
   "outputs": [
    {
     "data": {
      "text/plain": [
       "27753444"
      ]
     },
     "execution_count": 191,
     "metadata": {},
     "output_type": "execute_result"
    }
   ],
   "source": [
    "len(ratingData)"
   ]
  },
  {
   "cell_type": "code",
   "execution_count": null,
   "metadata": {},
   "outputs": [],
   "source": [
    "test = ratingData[\"userId\"].value_counts().sort_values(ascending=True)\n",
    "for i in range(3):\n",
    "    ratingData = ratingData.drop(ratingData[ratingData.userId == test.index[i]].index)\n",
    "len(ratingData)"
   ]
  },
  {
   "cell_type": "code",
   "execution_count": 137,
   "metadata": {},
   "outputs": [
    {
     "data": {
      "text/plain": [
       "661173"
      ]
     },
     "execution_count": 137,
     "metadata": {},
     "output_type": "execute_result"
    }
   ],
   "source": [
    "#Getting rid of some data, trying with only movies rated 5.\n",
    "ratingData = ratingData.drop(ratingData[ratingData.rating < 5].index)\n",
    "ratingData = ratingData.drop(ratingData[ratingData.movieId > 500 ].index)\n",
    "len(ratingData)"
   ]
  },
  {
   "cell_type": "code",
   "execution_count": 138,
   "metadata": {},
   "outputs": [
    {
     "data": {
      "text/plain": [
       "Int64Index([      61,      107,      111,      119,      779,      781,\n",
       "                 782,      852,      853,      854,\n",
       "            ...\n",
       "            27752989, 27752998, 27753001, 27753004, 27753016, 27753023,\n",
       "            27753028, 27753314, 27753315, 27753334],\n",
       "           dtype='int64', length=661173)"
      ]
     },
     "execution_count": 138,
     "metadata": {},
     "output_type": "execute_result"
    }
   ],
   "source": [
    "ratingData.index"
   ]
  },
  {
   "cell_type": "code",
   "execution_count": 139,
   "metadata": {},
   "outputs": [],
   "source": [
    "movies_users=ratingData.pivot(index='movieId', columns='userId', values='rating').fillna(0)\n",
    "mat_movies_users=csr_matrix(movies_users.values)"
   ]
  },
  {
   "cell_type": "code",
   "execution_count": 140,
   "metadata": {},
   "outputs": [],
   "source": [
    "model_knn=NearestNeighbors(metric='cosine', algorithm='brute', n_neighbors=20)"
   ]
  },
  {
   "cell_type": "code",
   "execution_count": 141,
   "metadata": {},
   "outputs": [
    {
     "data": {
      "text/plain": [
       "NearestNeighbors(algorithm='brute', metric='cosine', n_neighbors=20)"
      ]
     },
     "execution_count": 141,
     "metadata": {},
     "output_type": "execute_result"
    }
   ],
   "source": [
    "model_knn.fit(mat_movies_users)"
   ]
  },
  {
   "cell_type": "code",
   "execution_count": 143,
   "metadata": {},
   "outputs": [
    {
     "ename": "KeyboardInterrupt",
     "evalue": "",
     "output_type": "error",
     "traceback": [
      "\u001b[1;31m---------------------------------------------------------------------------\u001b[0m",
      "\u001b[1;31mKeyboardInterrupt\u001b[0m                         Traceback (most recent call last)",
      "\u001b[1;32mc:\\Users\\fredr\\OneDrive\\Documents\\GitHub\\Maskininl-rning-Fredrik-Hegardt\\Labb\\1.2.ipynb Cell 9'\u001b[0m in \u001b[0;36m<cell line: 9>\u001b[1;34m()\u001b[0m\n\u001b[0;32m      <a href='vscode-notebook-cell:/c%3A/Users/fredr/OneDrive/Documents/GitHub/Maskininl-rning-Fredrik-Hegardt/Labb/1.2.ipynb#ch0000008?line=5'>6</a>\u001b[0m     distances, indices \u001b[39m=\u001b[39m model\u001b[39m.\u001b[39mkneighbors(data[idx], n_neighbors\u001b[39m=\u001b[39mn_recommendations\u001b[39m+\u001b[39m\u001b[39m1\u001b[39m)\n\u001b[0;32m      <a href='vscode-notebook-cell:/c%3A/Users/fredr/OneDrive/Documents/GitHub/Maskininl-rning-Fredrik-Hegardt/Labb/1.2.ipynb#ch0000008?line=6'>7</a>\u001b[0m     \u001b[39mprint\u001b[39m(movieData\u001b[39m.\u001b[39mloc[indices[\u001b[39m0\u001b[39m][\u001b[39m1\u001b[39m:]])\n\u001b[1;32m----> <a href='vscode-notebook-cell:/c%3A/Users/fredr/OneDrive/Documents/GitHub/Maskininl-rning-Fredrik-Hegardt/Labb/1.2.ipynb#ch0000008?line=8'>9</a>\u001b[0m recommender(\u001b[39m'\u001b[39;49m\u001b[39mShawshank redemption\u001b[39;49m\u001b[39m'\u001b[39;49m, mat_movies_users, model_knn, \u001b[39m5\u001b[39;49m)\n",
      "\u001b[1;32mc:\\Users\\fredr\\OneDrive\\Documents\\GitHub\\Maskininl-rning-Fredrik-Hegardt\\Labb\\1.2.ipynb Cell 9'\u001b[0m in \u001b[0;36mrecommender\u001b[1;34m(movie_name, data, model, n_recommendations)\u001b[0m\n\u001b[0;32m      <a href='vscode-notebook-cell:/c%3A/Users/fredr/OneDrive/Documents/GitHub/Maskininl-rning-Fredrik-Hegardt/Labb/1.2.ipynb#ch0000008?line=0'>1</a>\u001b[0m \u001b[39mdef\u001b[39;00m \u001b[39mrecommender\u001b[39m(movie_name, data, model, n_recommendations):\n\u001b[0;32m      <a href='vscode-notebook-cell:/c%3A/Users/fredr/OneDrive/Documents/GitHub/Maskininl-rning-Fredrik-Hegardt/Labb/1.2.ipynb#ch0000008?line=1'>2</a>\u001b[0m     model\u001b[39m.\u001b[39mfit(data)\n\u001b[1;32m----> <a href='vscode-notebook-cell:/c%3A/Users/fredr/OneDrive/Documents/GitHub/Maskininl-rning-Fredrik-Hegardt/Labb/1.2.ipynb#ch0000008?line=2'>3</a>\u001b[0m     idx\u001b[39m=\u001b[39mprocess\u001b[39m.\u001b[39;49mextractOne(movie_name, movieData[\u001b[39m'\u001b[39;49m\u001b[39mtitle\u001b[39;49m\u001b[39m'\u001b[39;49m])[\u001b[39m2\u001b[39m]\n\u001b[0;32m      <a href='vscode-notebook-cell:/c%3A/Users/fredr/OneDrive/Documents/GitHub/Maskininl-rning-Fredrik-Hegardt/Labb/1.2.ipynb#ch0000008?line=3'>4</a>\u001b[0m     \u001b[39mprint\u001b[39m(\u001b[39m\"\u001b[39m\u001b[39mMovie Selected: \u001b[39m\u001b[39m\"\u001b[39m, movieData[\u001b[39m'\u001b[39m\u001b[39mtitle\u001b[39m\u001b[39m'\u001b[39m][idx], \u001b[39m\"\u001b[39m\u001b[39mIndex: \u001b[39m\u001b[39m\"\u001b[39m,idx)\n\u001b[0;32m      <a href='vscode-notebook-cell:/c%3A/Users/fredr/OneDrive/Documents/GitHub/Maskininl-rning-Fredrik-Hegardt/Labb/1.2.ipynb#ch0000008?line=4'>5</a>\u001b[0m     \u001b[39mprint\u001b[39m(\u001b[39m\"\u001b[39m\u001b[39mSearching for recommendations...\u001b[39m\u001b[39m\"\u001b[39m)\n",
      "File \u001b[1;32m~\\.virtualenvs\\Maskininl-rning-Fredrik-Hegardt-mmrJtyaC\\lib\\site-packages\\fuzzywuzzy\\process.py:220\u001b[0m, in \u001b[0;36mextractOne\u001b[1;34m(query, choices, processor, scorer, score_cutoff)\u001b[0m\n\u001b[0;32m    <a href='file:///c%3A/Users/fredr/.virtualenvs/Maskininl-rning-Fredrik-Hegardt-mmrJtyaC/lib/site-packages/fuzzywuzzy/process.py?line=217'>218</a>\u001b[0m best_list \u001b[39m=\u001b[39m extractWithoutOrder(query, choices, processor, scorer, score_cutoff)\n\u001b[0;32m    <a href='file:///c%3A/Users/fredr/.virtualenvs/Maskininl-rning-Fredrik-Hegardt-mmrJtyaC/lib/site-packages/fuzzywuzzy/process.py?line=218'>219</a>\u001b[0m \u001b[39mtry\u001b[39;00m:\n\u001b[1;32m--> <a href='file:///c%3A/Users/fredr/.virtualenvs/Maskininl-rning-Fredrik-Hegardt-mmrJtyaC/lib/site-packages/fuzzywuzzy/process.py?line=219'>220</a>\u001b[0m     \u001b[39mreturn\u001b[39;00m \u001b[39mmax\u001b[39;49m(best_list, key\u001b[39m=\u001b[39;49m\u001b[39mlambda\u001b[39;49;00m i: i[\u001b[39m1\u001b[39;49m])\n\u001b[0;32m    <a href='file:///c%3A/Users/fredr/.virtualenvs/Maskininl-rning-Fredrik-Hegardt-mmrJtyaC/lib/site-packages/fuzzywuzzy/process.py?line=220'>221</a>\u001b[0m \u001b[39mexcept\u001b[39;00m \u001b[39mValueError\u001b[39;00m:\n\u001b[0;32m    <a href='file:///c%3A/Users/fredr/.virtualenvs/Maskininl-rning-Fredrik-Hegardt-mmrJtyaC/lib/site-packages/fuzzywuzzy/process.py?line=221'>222</a>\u001b[0m     \u001b[39mreturn\u001b[39;00m \u001b[39mNone\u001b[39;00m\n",
      "File \u001b[1;32m~\\.virtualenvs\\Maskininl-rning-Fredrik-Hegardt-mmrJtyaC\\lib\\site-packages\\fuzzywuzzy\\process.py:110\u001b[0m, in \u001b[0;36mextractWithoutOrder\u001b[1;34m(query, choices, processor, scorer, score_cutoff)\u001b[0m\n\u001b[0;32m    <a href='file:///c%3A/Users/fredr/.virtualenvs/Maskininl-rning-Fredrik-Hegardt-mmrJtyaC/lib/site-packages/fuzzywuzzy/process.py?line=107'>108</a>\u001b[0m \u001b[39mfor\u001b[39;00m key, choice \u001b[39min\u001b[39;00m choices\u001b[39m.\u001b[39mitems():\n\u001b[0;32m    <a href='file:///c%3A/Users/fredr/.virtualenvs/Maskininl-rning-Fredrik-Hegardt-mmrJtyaC/lib/site-packages/fuzzywuzzy/process.py?line=108'>109</a>\u001b[0m     processed \u001b[39m=\u001b[39m pre_processor(processor(choice))\n\u001b[1;32m--> <a href='file:///c%3A/Users/fredr/.virtualenvs/Maskininl-rning-Fredrik-Hegardt-mmrJtyaC/lib/site-packages/fuzzywuzzy/process.py?line=109'>110</a>\u001b[0m     score \u001b[39m=\u001b[39m scorer(processed_query, processed)\n\u001b[0;32m    <a href='file:///c%3A/Users/fredr/.virtualenvs/Maskininl-rning-Fredrik-Hegardt-mmrJtyaC/lib/site-packages/fuzzywuzzy/process.py?line=110'>111</a>\u001b[0m     \u001b[39mif\u001b[39;00m score \u001b[39m>\u001b[39m\u001b[39m=\u001b[39m score_cutoff:\n\u001b[0;32m    <a href='file:///c%3A/Users/fredr/.virtualenvs/Maskininl-rning-Fredrik-Hegardt-mmrJtyaC/lib/site-packages/fuzzywuzzy/process.py?line=111'>112</a>\u001b[0m         \u001b[39myield\u001b[39;00m (choice, score, key)\n",
      "File \u001b[1;32m~\\.virtualenvs\\Maskininl-rning-Fredrik-Hegardt-mmrJtyaC\\lib\\site-packages\\fuzzywuzzy\\fuzz.py:289\u001b[0m, in \u001b[0;36mWRatio\u001b[1;34m(s1, s2, force_ascii, full_process)\u001b[0m\n\u001b[0;32m    <a href='file:///c%3A/Users/fredr/.virtualenvs/Maskininl-rning-Fredrik-Hegardt-mmrJtyaC/lib/site-packages/fuzzywuzzy/fuzz.py?line=286'>287</a>\u001b[0m \u001b[39mif\u001b[39;00m try_partial:\n\u001b[0;32m    <a href='file:///c%3A/Users/fredr/.virtualenvs/Maskininl-rning-Fredrik-Hegardt-mmrJtyaC/lib/site-packages/fuzzywuzzy/fuzz.py?line=287'>288</a>\u001b[0m     partial \u001b[39m=\u001b[39m partial_ratio(p1, p2) \u001b[39m*\u001b[39m partial_scale\n\u001b[1;32m--> <a href='file:///c%3A/Users/fredr/.virtualenvs/Maskininl-rning-Fredrik-Hegardt-mmrJtyaC/lib/site-packages/fuzzywuzzy/fuzz.py?line=288'>289</a>\u001b[0m     ptsor \u001b[39m=\u001b[39m partial_token_sort_ratio(p1, p2, full_process\u001b[39m=\u001b[39;49m\u001b[39mFalse\u001b[39;49;00m) \\\n\u001b[0;32m    <a href='file:///c%3A/Users/fredr/.virtualenvs/Maskininl-rning-Fredrik-Hegardt-mmrJtyaC/lib/site-packages/fuzzywuzzy/fuzz.py?line=289'>290</a>\u001b[0m         \u001b[39m*\u001b[39m unbase_scale \u001b[39m*\u001b[39m partial_scale\n\u001b[0;32m    <a href='file:///c%3A/Users/fredr/.virtualenvs/Maskininl-rning-Fredrik-Hegardt-mmrJtyaC/lib/site-packages/fuzzywuzzy/fuzz.py?line=290'>291</a>\u001b[0m     ptser \u001b[39m=\u001b[39m partial_token_set_ratio(p1, p2, full_process\u001b[39m=\u001b[39m\u001b[39mFalse\u001b[39;00m) \\\n\u001b[0;32m    <a href='file:///c%3A/Users/fredr/.virtualenvs/Maskininl-rning-Fredrik-Hegardt-mmrJtyaC/lib/site-packages/fuzzywuzzy/fuzz.py?line=291'>292</a>\u001b[0m         \u001b[39m*\u001b[39m unbase_scale \u001b[39m*\u001b[39m partial_scale\n\u001b[0;32m    <a href='file:///c%3A/Users/fredr/.virtualenvs/Maskininl-rning-Fredrik-Hegardt-mmrJtyaC/lib/site-packages/fuzzywuzzy/fuzz.py?line=293'>294</a>\u001b[0m     \u001b[39mreturn\u001b[39;00m utils\u001b[39m.\u001b[39mintr(\u001b[39mmax\u001b[39m(base, partial, ptsor, ptser))\n",
      "File \u001b[1;32m~\\.virtualenvs\\Maskininl-rning-Fredrik-Hegardt-mmrJtyaC\\lib\\site-packages\\fuzzywuzzy\\fuzz.py:112\u001b[0m, in \u001b[0;36mpartial_token_sort_ratio\u001b[1;34m(s1, s2, force_ascii, full_process)\u001b[0m\n\u001b[0;32m    <a href='file:///c%3A/Users/fredr/.virtualenvs/Maskininl-rning-Fredrik-Hegardt-mmrJtyaC/lib/site-packages/fuzzywuzzy/fuzz.py?line=107'>108</a>\u001b[0m \u001b[39mdef\u001b[39;00m \u001b[39mpartial_token_sort_ratio\u001b[39m(s1, s2, force_ascii\u001b[39m=\u001b[39m\u001b[39mTrue\u001b[39;00m, full_process\u001b[39m=\u001b[39m\u001b[39mTrue\u001b[39;00m):\n\u001b[0;32m    <a href='file:///c%3A/Users/fredr/.virtualenvs/Maskininl-rning-Fredrik-Hegardt-mmrJtyaC/lib/site-packages/fuzzywuzzy/fuzz.py?line=108'>109</a>\u001b[0m     \u001b[39m\"\"\"Return the ratio of the most similar substring as a number between\u001b[39;00m\n\u001b[0;32m    <a href='file:///c%3A/Users/fredr/.virtualenvs/Maskininl-rning-Fredrik-Hegardt-mmrJtyaC/lib/site-packages/fuzzywuzzy/fuzz.py?line=109'>110</a>\u001b[0m \u001b[39m    0 and 100 but sorting the token before comparing.\u001b[39;00m\n\u001b[0;32m    <a href='file:///c%3A/Users/fredr/.virtualenvs/Maskininl-rning-Fredrik-Hegardt-mmrJtyaC/lib/site-packages/fuzzywuzzy/fuzz.py?line=110'>111</a>\u001b[0m \u001b[39m    \"\"\"\u001b[39;00m\n\u001b[1;32m--> <a href='file:///c%3A/Users/fredr/.virtualenvs/Maskininl-rning-Fredrik-Hegardt-mmrJtyaC/lib/site-packages/fuzzywuzzy/fuzz.py?line=111'>112</a>\u001b[0m     \u001b[39mreturn\u001b[39;00m _token_sort(s1, s2, partial\u001b[39m=\u001b[39;49m\u001b[39mTrue\u001b[39;49;00m, force_ascii\u001b[39m=\u001b[39;49mforce_ascii, full_process\u001b[39m=\u001b[39;49mfull_process)\n",
      "File \u001b[1;32m~\\.virtualenvs\\Maskininl-rning-Fredrik-Hegardt-mmrJtyaC\\lib\\site-packages\\fuzzywuzzy\\utils.py:38\u001b[0m, in \u001b[0;36mcheck_for_none.<locals>.decorator\u001b[1;34m(*args, **kwargs)\u001b[0m\n\u001b[0;32m     <a href='file:///c%3A/Users/fredr/.virtualenvs/Maskininl-rning-Fredrik-Hegardt-mmrJtyaC/lib/site-packages/fuzzywuzzy/utils.py?line=35'>36</a>\u001b[0m \u001b[39mif\u001b[39;00m args[\u001b[39m0\u001b[39m] \u001b[39mis\u001b[39;00m \u001b[39mNone\u001b[39;00m \u001b[39mor\u001b[39;00m args[\u001b[39m1\u001b[39m] \u001b[39mis\u001b[39;00m \u001b[39mNone\u001b[39;00m:\n\u001b[0;32m     <a href='file:///c%3A/Users/fredr/.virtualenvs/Maskininl-rning-Fredrik-Hegardt-mmrJtyaC/lib/site-packages/fuzzywuzzy/utils.py?line=36'>37</a>\u001b[0m     \u001b[39mreturn\u001b[39;00m \u001b[39m0\u001b[39m\n\u001b[1;32m---> <a href='file:///c%3A/Users/fredr/.virtualenvs/Maskininl-rning-Fredrik-Hegardt-mmrJtyaC/lib/site-packages/fuzzywuzzy/utils.py?line=37'>38</a>\u001b[0m \u001b[39mreturn\u001b[39;00m func(\u001b[39m*\u001b[39margs, \u001b[39m*\u001b[39m\u001b[39m*\u001b[39mkwargs)\n",
      "File \u001b[1;32m~\\.virtualenvs\\Maskininl-rning-Fredrik-Hegardt-mmrJtyaC\\lib\\site-packages\\fuzzywuzzy\\fuzz.py:96\u001b[0m, in \u001b[0;36m_token_sort\u001b[1;34m(s1, s2, partial, force_ascii, full_process)\u001b[0m\n\u001b[0;32m     <a href='file:///c%3A/Users/fredr/.virtualenvs/Maskininl-rning-Fredrik-Hegardt-mmrJtyaC/lib/site-packages/fuzzywuzzy/fuzz.py?line=92'>93</a>\u001b[0m sorted2 \u001b[39m=\u001b[39m _process_and_sort(s2, force_ascii, full_process\u001b[39m=\u001b[39mfull_process)\n\u001b[0;32m     <a href='file:///c%3A/Users/fredr/.virtualenvs/Maskininl-rning-Fredrik-Hegardt-mmrJtyaC/lib/site-packages/fuzzywuzzy/fuzz.py?line=94'>95</a>\u001b[0m \u001b[39mif\u001b[39;00m partial:\n\u001b[1;32m---> <a href='file:///c%3A/Users/fredr/.virtualenvs/Maskininl-rning-Fredrik-Hegardt-mmrJtyaC/lib/site-packages/fuzzywuzzy/fuzz.py?line=95'>96</a>\u001b[0m     \u001b[39mreturn\u001b[39;00m partial_ratio(sorted1, sorted2)\n\u001b[0;32m     <a href='file:///c%3A/Users/fredr/.virtualenvs/Maskininl-rning-Fredrik-Hegardt-mmrJtyaC/lib/site-packages/fuzzywuzzy/fuzz.py?line=96'>97</a>\u001b[0m \u001b[39melse\u001b[39;00m:\n\u001b[0;32m     <a href='file:///c%3A/Users/fredr/.virtualenvs/Maskininl-rning-Fredrik-Hegardt-mmrJtyaC/lib/site-packages/fuzzywuzzy/fuzz.py?line=97'>98</a>\u001b[0m     \u001b[39mreturn\u001b[39;00m ratio(sorted1, sorted2)\n",
      "File \u001b[1;32m~\\.virtualenvs\\Maskininl-rning-Fredrik-Hegardt-mmrJtyaC\\lib\\site-packages\\fuzzywuzzy\\utils.py:38\u001b[0m, in \u001b[0;36mcheck_for_none.<locals>.decorator\u001b[1;34m(*args, **kwargs)\u001b[0m\n\u001b[0;32m     <a href='file:///c%3A/Users/fredr/.virtualenvs/Maskininl-rning-Fredrik-Hegardt-mmrJtyaC/lib/site-packages/fuzzywuzzy/utils.py?line=35'>36</a>\u001b[0m \u001b[39mif\u001b[39;00m args[\u001b[39m0\u001b[39m] \u001b[39mis\u001b[39;00m \u001b[39mNone\u001b[39;00m \u001b[39mor\u001b[39;00m args[\u001b[39m1\u001b[39m] \u001b[39mis\u001b[39;00m \u001b[39mNone\u001b[39;00m:\n\u001b[0;32m     <a href='file:///c%3A/Users/fredr/.virtualenvs/Maskininl-rning-Fredrik-Hegardt-mmrJtyaC/lib/site-packages/fuzzywuzzy/utils.py?line=36'>37</a>\u001b[0m     \u001b[39mreturn\u001b[39;00m \u001b[39m0\u001b[39m\n\u001b[1;32m---> <a href='file:///c%3A/Users/fredr/.virtualenvs/Maskininl-rning-Fredrik-Hegardt-mmrJtyaC/lib/site-packages/fuzzywuzzy/utils.py?line=37'>38</a>\u001b[0m \u001b[39mreturn\u001b[39;00m func(\u001b[39m*\u001b[39margs, \u001b[39m*\u001b[39m\u001b[39m*\u001b[39mkwargs)\n",
      "File \u001b[1;32m~\\.virtualenvs\\Maskininl-rning-Fredrik-Hegardt-mmrJtyaC\\lib\\site-packages\\fuzzywuzzy\\utils.py:29\u001b[0m, in \u001b[0;36mcheck_for_equivalence.<locals>.decorator\u001b[1;34m(*args, **kwargs)\u001b[0m\n\u001b[0;32m     <a href='file:///c%3A/Users/fredr/.virtualenvs/Maskininl-rning-Fredrik-Hegardt-mmrJtyaC/lib/site-packages/fuzzywuzzy/utils.py?line=26'>27</a>\u001b[0m \u001b[39mif\u001b[39;00m args[\u001b[39m0\u001b[39m] \u001b[39m==\u001b[39m args[\u001b[39m1\u001b[39m]:\n\u001b[0;32m     <a href='file:///c%3A/Users/fredr/.virtualenvs/Maskininl-rning-Fredrik-Hegardt-mmrJtyaC/lib/site-packages/fuzzywuzzy/utils.py?line=27'>28</a>\u001b[0m     \u001b[39mreturn\u001b[39;00m \u001b[39m100\u001b[39m\n\u001b[1;32m---> <a href='file:///c%3A/Users/fredr/.virtualenvs/Maskininl-rning-Fredrik-Hegardt-mmrJtyaC/lib/site-packages/fuzzywuzzy/utils.py?line=28'>29</a>\u001b[0m \u001b[39mreturn\u001b[39;00m func(\u001b[39m*\u001b[39margs, \u001b[39m*\u001b[39m\u001b[39m*\u001b[39mkwargs)\n",
      "File \u001b[1;32m~\\.virtualenvs\\Maskininl-rning-Fredrik-Hegardt-mmrJtyaC\\lib\\site-packages\\fuzzywuzzy\\utils.py:47\u001b[0m, in \u001b[0;36mcheck_empty_string.<locals>.decorator\u001b[1;34m(*args, **kwargs)\u001b[0m\n\u001b[0;32m     <a href='file:///c%3A/Users/fredr/.virtualenvs/Maskininl-rning-Fredrik-Hegardt-mmrJtyaC/lib/site-packages/fuzzywuzzy/utils.py?line=44'>45</a>\u001b[0m \u001b[39mif\u001b[39;00m \u001b[39mlen\u001b[39m(args[\u001b[39m0\u001b[39m]) \u001b[39m==\u001b[39m \u001b[39m0\u001b[39m \u001b[39mor\u001b[39;00m \u001b[39mlen\u001b[39m(args[\u001b[39m1\u001b[39m]) \u001b[39m==\u001b[39m \u001b[39m0\u001b[39m:\n\u001b[0;32m     <a href='file:///c%3A/Users/fredr/.virtualenvs/Maskininl-rning-Fredrik-Hegardt-mmrJtyaC/lib/site-packages/fuzzywuzzy/utils.py?line=45'>46</a>\u001b[0m     \u001b[39mreturn\u001b[39;00m \u001b[39m0\u001b[39m\n\u001b[1;32m---> <a href='file:///c%3A/Users/fredr/.virtualenvs/Maskininl-rning-Fredrik-Hegardt-mmrJtyaC/lib/site-packages/fuzzywuzzy/utils.py?line=46'>47</a>\u001b[0m \u001b[39mreturn\u001b[39;00m func(\u001b[39m*\u001b[39margs, \u001b[39m*\u001b[39m\u001b[39m*\u001b[39mkwargs)\n",
      "File \u001b[1;32m~\\.virtualenvs\\Maskininl-rning-Fredrik-Hegardt-mmrJtyaC\\lib\\site-packages\\fuzzywuzzy\\fuzz.py:47\u001b[0m, in \u001b[0;36mpartial_ratio\u001b[1;34m(s1, s2)\u001b[0m\n\u001b[0;32m     <a href='file:///c%3A/Users/fredr/.virtualenvs/Maskininl-rning-Fredrik-Hegardt-mmrJtyaC/lib/site-packages/fuzzywuzzy/fuzz.py?line=43'>44</a>\u001b[0m     longer \u001b[39m=\u001b[39m s1\n\u001b[0;32m     <a href='file:///c%3A/Users/fredr/.virtualenvs/Maskininl-rning-Fredrik-Hegardt-mmrJtyaC/lib/site-packages/fuzzywuzzy/fuzz.py?line=45'>46</a>\u001b[0m m \u001b[39m=\u001b[39m SequenceMatcher(\u001b[39mNone\u001b[39;00m, shorter, longer)\n\u001b[1;32m---> <a href='file:///c%3A/Users/fredr/.virtualenvs/Maskininl-rning-Fredrik-Hegardt-mmrJtyaC/lib/site-packages/fuzzywuzzy/fuzz.py?line=46'>47</a>\u001b[0m blocks \u001b[39m=\u001b[39m m\u001b[39m.\u001b[39;49mget_matching_blocks()\n\u001b[0;32m     <a href='file:///c%3A/Users/fredr/.virtualenvs/Maskininl-rning-Fredrik-Hegardt-mmrJtyaC/lib/site-packages/fuzzywuzzy/fuzz.py?line=48'>49</a>\u001b[0m \u001b[39m# each block represents a sequence of matching characters in a string\u001b[39;00m\n\u001b[0;32m     <a href='file:///c%3A/Users/fredr/.virtualenvs/Maskininl-rning-Fredrik-Hegardt-mmrJtyaC/lib/site-packages/fuzzywuzzy/fuzz.py?line=49'>50</a>\u001b[0m \u001b[39m# of the form (idx_1, idx_2, len)\u001b[39;00m\n\u001b[0;32m     <a href='file:///c%3A/Users/fredr/.virtualenvs/Maskininl-rning-Fredrik-Hegardt-mmrJtyaC/lib/site-packages/fuzzywuzzy/fuzz.py?line=50'>51</a>\u001b[0m \u001b[39m# the best partial match will block align with at least one of those blocks\u001b[39;00m\n\u001b[0;32m     <a href='file:///c%3A/Users/fredr/.virtualenvs/Maskininl-rning-Fredrik-Hegardt-mmrJtyaC/lib/site-packages/fuzzywuzzy/fuzz.py?line=51'>52</a>\u001b[0m \u001b[39m#   e.g. shorter = \"abcd\", longer = XXXbcdeEEE\u001b[39;00m\n\u001b[0;32m     <a href='file:///c%3A/Users/fredr/.virtualenvs/Maskininl-rning-Fredrik-Hegardt-mmrJtyaC/lib/site-packages/fuzzywuzzy/fuzz.py?line=52'>53</a>\u001b[0m \u001b[39m#   block = (1,3,3)\u001b[39;00m\n\u001b[0;32m     <a href='file:///c%3A/Users/fredr/.virtualenvs/Maskininl-rning-Fredrik-Hegardt-mmrJtyaC/lib/site-packages/fuzzywuzzy/fuzz.py?line=53'>54</a>\u001b[0m \u001b[39m#   best score === ratio(\"abcd\", \"Xbcd\")\u001b[39;00m\n\u001b[0;32m     <a href='file:///c%3A/Users/fredr/.virtualenvs/Maskininl-rning-Fredrik-Hegardt-mmrJtyaC/lib/site-packages/fuzzywuzzy/fuzz.py?line=54'>55</a>\u001b[0m scores \u001b[39m=\u001b[39m []\n",
      "File \u001b[1;32mc:\\users\\fredr\\appdata\\local\\programs\\python\\python39\\lib\\difflib.py:495\u001b[0m, in \u001b[0;36mSequenceMatcher.get_matching_blocks\u001b[1;34m(self)\u001b[0m\n\u001b[0;32m    <a href='file:///c%3A/users/fredr/appdata/local/programs/python/python39/lib/difflib.py?line=492'>493</a>\u001b[0m             queue\u001b[39m.\u001b[39mappend((alo, i, blo, j))\n\u001b[0;32m    <a href='file:///c%3A/users/fredr/appdata/local/programs/python/python39/lib/difflib.py?line=493'>494</a>\u001b[0m         \u001b[39mif\u001b[39;00m i\u001b[39m+\u001b[39mk \u001b[39m<\u001b[39m ahi \u001b[39mand\u001b[39;00m j\u001b[39m+\u001b[39mk \u001b[39m<\u001b[39m bhi:\n\u001b[1;32m--> <a href='file:///c%3A/users/fredr/appdata/local/programs/python/python39/lib/difflib.py?line=494'>495</a>\u001b[0m             queue\u001b[39m.\u001b[39mappend((i\u001b[39m+\u001b[39mk, ahi, j\u001b[39m+\u001b[39;49mk, bhi))\n\u001b[0;32m    <a href='file:///c%3A/users/fredr/appdata/local/programs/python/python39/lib/difflib.py?line=495'>496</a>\u001b[0m matching_blocks\u001b[39m.\u001b[39msort()\n\u001b[0;32m    <a href='file:///c%3A/users/fredr/appdata/local/programs/python/python39/lib/difflib.py?line=497'>498</a>\u001b[0m \u001b[39m# It's possible that we have adjacent equal blocks in the\u001b[39;00m\n\u001b[0;32m    <a href='file:///c%3A/users/fredr/appdata/local/programs/python/python39/lib/difflib.py?line=498'>499</a>\u001b[0m \u001b[39m# matching_blocks list now.  Starting with 2.5, this code was added\u001b[39;00m\n\u001b[0;32m    <a href='file:///c%3A/users/fredr/appdata/local/programs/python/python39/lib/difflib.py?line=499'>500</a>\u001b[0m \u001b[39m# to collapse them.\u001b[39;00m\n",
      "\u001b[1;31mKeyboardInterrupt\u001b[0m: "
     ]
    }
   ],
   "source": [
    "def recommender(movie_name, data, model, n_recommendations):\n",
    "    model.fit(data)\n",
    "    idx=process.extractOne(movie_name, movieData['title'])[2]\n",
    "    print(\"Movie Selected: \", movieData['title'][idx], \"Index: \",idx)\n",
    "    print(\"Searching for recommendations...\")\n",
    "    distances, indices = model.kneighbors(data[idx], n_neighbors=n_recommendations+1)\n",
    "    print(movieData.loc[indices[0][1:]])\n",
    "\n",
    "recommender('Shawshank redemption', mat_movies_users, model_knn, 5)"
   ]
  }
 ],
 "metadata": {
  "interpreter": {
   "hash": "20e36f013206a17ac568431002223843abac3dbb024288464e9b0a20eb5fb034"
  },
  "kernelspec": {
   "display_name": "Python 3.9.6 ('Maskininl-rning-Fredrik-Hegardt-mmrJtyaC')",
   "language": "python",
   "name": "python3"
  },
  "language_info": {
   "codemirror_mode": {
    "name": "ipython",
    "version": 3
   },
   "file_extension": ".py",
   "mimetype": "text/x-python",
   "name": "python",
   "nbconvert_exporter": "python",
   "pygments_lexer": "ipython3",
   "version": "3.9.6"
  },
  "orig_nbformat": 4
 },
 "nbformat": 4,
 "nbformat_minor": 2
}
