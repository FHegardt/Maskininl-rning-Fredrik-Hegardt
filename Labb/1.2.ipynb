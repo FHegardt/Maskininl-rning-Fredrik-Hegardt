{
 "cells": [
  {
   "cell_type": "code",
   "execution_count": 12,
   "metadata": {},
   "outputs": [
    {
     "data": {
      "text/html": [
       "<div>\n",
       "<style scoped>\n",
       "    .dataframe tbody tr th:only-of-type {\n",
       "        vertical-align: middle;\n",
       "    }\n",
       "\n",
       "    .dataframe tbody tr th {\n",
       "        vertical-align: top;\n",
       "    }\n",
       "\n",
       "    .dataframe thead th {\n",
       "        text-align: right;\n",
       "    }\n",
       "</style>\n",
       "<table border=\"1\" class=\"dataframe\">\n",
       "  <thead>\n",
       "    <tr style=\"text-align: right;\">\n",
       "      <th></th>\n",
       "      <th>userId</th>\n",
       "      <th>movieId</th>\n",
       "      <th>rating</th>\n",
       "    </tr>\n",
       "  </thead>\n",
       "  <tbody>\n",
       "    <tr>\n",
       "      <th>0</th>\n",
       "      <td>1</td>\n",
       "      <td>307</td>\n",
       "      <td>3.5</td>\n",
       "    </tr>\n",
       "    <tr>\n",
       "      <th>1</th>\n",
       "      <td>1</td>\n",
       "      <td>481</td>\n",
       "      <td>3.5</td>\n",
       "    </tr>\n",
       "    <tr>\n",
       "      <th>2</th>\n",
       "      <td>1</td>\n",
       "      <td>1091</td>\n",
       "      <td>1.5</td>\n",
       "    </tr>\n",
       "    <tr>\n",
       "      <th>3</th>\n",
       "      <td>1</td>\n",
       "      <td>1257</td>\n",
       "      <td>4.5</td>\n",
       "    </tr>\n",
       "    <tr>\n",
       "      <th>4</th>\n",
       "      <td>1</td>\n",
       "      <td>1449</td>\n",
       "      <td>4.5</td>\n",
       "    </tr>\n",
       "  </tbody>\n",
       "</table>\n",
       "</div>"
      ],
      "text/plain": [
       "   userId  movieId  rating\n",
       "0       1      307     3.5\n",
       "1       1      481     3.5\n",
       "2       1     1091     1.5\n",
       "3       1     1257     4.5\n",
       "4       1     1449     4.5"
      ]
     },
     "execution_count": 12,
     "metadata": {},
     "output_type": "execute_result"
    }
   ],
   "source": [
    "#1 Reading in the csv-files\n",
    "import pandas as pd\n",
    "movieData= pd.read_csv('./Data/movies.csv', usecols=[\"movieId\", 'title'], dtype={'movieId': 'int16', 'title': 'str'})\n",
    "ratingData = pd.read_csv('./Data/ratings.csv', usecols=[\"userId\", \"movieId\", \"rating\"], dtype={'movieId': 'int16', 'title': 'str',})\n",
    "ratingData.head()"
   ]
  },
  {
   "cell_type": "code",
   "execution_count": 13,
   "metadata": {},
   "outputs": [
    {
     "data": {
      "text/plain": [
       "27753444"
      ]
     },
     "execution_count": 13,
     "metadata": {},
     "output_type": "execute_result"
    }
   ],
   "source": [
    "len(ratingData)"
   ]
  },
  {
   "cell_type": "code",
   "execution_count": 18,
   "metadata": {},
   "outputs": [
    {
     "data": {
      "text/plain": [
       "2524320"
      ]
     },
     "execution_count": 18,
     "metadata": {},
     "output_type": "execute_result"
    }
   ],
   "source": [
    "#Getting rid of some data, trying with only movies rated 5.\n",
    "ratingData = ratingData.drop(ratingData[ratingData.rating < 5].index)\n",
    "ratingData = ratingData.drop(ratingData[ratingData.movieId < 1000].index)\n",
    "len(ratingData)"
   ]
  },
  {
   "cell_type": "code",
   "execution_count": 17,
   "metadata": {},
   "outputs": [
    {
     "name": "stderr",
     "output_type": "stream",
     "text": [
      "C:\\Users\\fredr\\.virtualenvs\\Maskininl-rning-Fredrik-Hegardt-mmrJtyaC\\lib\\site-packages\\pandas\\core\\reshape\\reshape.py:130: RuntimeWarning: overflow encountered in long_scalars\n",
      "  num_cells = num_rows * num_columns\n"
     ]
    },
    {
     "ename": "ValueError",
     "evalue": "negative dimensions are not allowed",
     "output_type": "error",
     "traceback": [
      "\u001b[1;31m---------------------------------------------------------------------------\u001b[0m",
      "\u001b[1;31mValueError\u001b[0m                                Traceback (most recent call last)",
      "\u001b[1;32mc:\\Users\\fredr\\OneDrive\\Documents\\GitHub\\Maskininl-rning-Fredrik-Hegardt\\Labb\\1.2.ipynb Cell 4'\u001b[0m in \u001b[0;36m<cell line: 1>\u001b[1;34m()\u001b[0m\n\u001b[1;32m----> <a href='vscode-notebook-cell:/c%3A/Users/fredr/OneDrive/Documents/GitHub/Maskininl-rning-Fredrik-Hegardt/Labb/1.2.ipynb#ch0000003?line=0'>1</a>\u001b[0m movie_users \u001b[39m=\u001b[39m ratingData\u001b[39m.\u001b[39;49mpivot(index\u001b[39m=\u001b[39;49m\u001b[39m'\u001b[39;49m\u001b[39mmovieId\u001b[39;49m\u001b[39m'\u001b[39;49m, columns\u001b[39m=\u001b[39;49m\u001b[39m'\u001b[39;49m\u001b[39muserId\u001b[39;49m\u001b[39m'\u001b[39;49m, values\u001b[39m=\u001b[39;49m\u001b[39m'\u001b[39;49m\u001b[39mrating\u001b[39;49m\u001b[39m'\u001b[39;49m)\n",
      "File \u001b[1;32m~\\.virtualenvs\\Maskininl-rning-Fredrik-Hegardt-mmrJtyaC\\lib\\site-packages\\pandas\\core\\frame.py:7870\u001b[0m, in \u001b[0;36mDataFrame.pivot\u001b[1;34m(self, index, columns, values)\u001b[0m\n\u001b[0;32m   <a href='file:///c%3A/Users/fredr/.virtualenvs/Maskininl-rning-Fredrik-Hegardt-mmrJtyaC/lib/site-packages/pandas/core/frame.py?line=7864'>7865</a>\u001b[0m \u001b[39m@Substitution\u001b[39m(\u001b[39m\"\u001b[39m\u001b[39m\"\u001b[39m)\n\u001b[0;32m   <a href='file:///c%3A/Users/fredr/.virtualenvs/Maskininl-rning-Fredrik-Hegardt-mmrJtyaC/lib/site-packages/pandas/core/frame.py?line=7865'>7866</a>\u001b[0m \u001b[39m@Appender\u001b[39m(_shared_docs[\u001b[39m\"\u001b[39m\u001b[39mpivot\u001b[39m\u001b[39m\"\u001b[39m])\n\u001b[0;32m   <a href='file:///c%3A/Users/fredr/.virtualenvs/Maskininl-rning-Fredrik-Hegardt-mmrJtyaC/lib/site-packages/pandas/core/frame.py?line=7866'>7867</a>\u001b[0m \u001b[39mdef\u001b[39;00m \u001b[39mpivot\u001b[39m(\u001b[39mself\u001b[39m, index\u001b[39m=\u001b[39m\u001b[39mNone\u001b[39;00m, columns\u001b[39m=\u001b[39m\u001b[39mNone\u001b[39;00m, values\u001b[39m=\u001b[39m\u001b[39mNone\u001b[39;00m) \u001b[39m-\u001b[39m\u001b[39m>\u001b[39m DataFrame:\n\u001b[0;32m   <a href='file:///c%3A/Users/fredr/.virtualenvs/Maskininl-rning-Fredrik-Hegardt-mmrJtyaC/lib/site-packages/pandas/core/frame.py?line=7867'>7868</a>\u001b[0m     \u001b[39mfrom\u001b[39;00m \u001b[39mpandas\u001b[39;00m\u001b[39m.\u001b[39;00m\u001b[39mcore\u001b[39;00m\u001b[39m.\u001b[39;00m\u001b[39mreshape\u001b[39;00m\u001b[39m.\u001b[39;00m\u001b[39mpivot\u001b[39;00m \u001b[39mimport\u001b[39;00m pivot\n\u001b[1;32m-> <a href='file:///c%3A/Users/fredr/.virtualenvs/Maskininl-rning-Fredrik-Hegardt-mmrJtyaC/lib/site-packages/pandas/core/frame.py?line=7869'>7870</a>\u001b[0m     \u001b[39mreturn\u001b[39;00m pivot(\u001b[39mself\u001b[39;49m, index\u001b[39m=\u001b[39;49mindex, columns\u001b[39m=\u001b[39;49mcolumns, values\u001b[39m=\u001b[39;49mvalues)\n",
      "File \u001b[1;32m~\\.virtualenvs\\Maskininl-rning-Fredrik-Hegardt-mmrJtyaC\\lib\\site-packages\\pandas\\core\\reshape\\pivot.py:520\u001b[0m, in \u001b[0;36mpivot\u001b[1;34m(data, index, columns, values)\u001b[0m\n\u001b[0;32m    <a href='file:///c%3A/Users/fredr/.virtualenvs/Maskininl-rning-Fredrik-Hegardt-mmrJtyaC/lib/site-packages/pandas/core/reshape/pivot.py?line=517'>518</a>\u001b[0m     \u001b[39melse\u001b[39;00m:\n\u001b[0;32m    <a href='file:///c%3A/Users/fredr/.virtualenvs/Maskininl-rning-Fredrik-Hegardt-mmrJtyaC/lib/site-packages/pandas/core/reshape/pivot.py?line=518'>519</a>\u001b[0m         indexed \u001b[39m=\u001b[39m data\u001b[39m.\u001b[39m_constructor_sliced(data[values]\u001b[39m.\u001b[39m_values, index\u001b[39m=\u001b[39mmultiindex)\n\u001b[1;32m--> <a href='file:///c%3A/Users/fredr/.virtualenvs/Maskininl-rning-Fredrik-Hegardt-mmrJtyaC/lib/site-packages/pandas/core/reshape/pivot.py?line=519'>520</a>\u001b[0m \u001b[39mreturn\u001b[39;00m indexed\u001b[39m.\u001b[39;49munstack(columns_listlike)\n",
      "File \u001b[1;32m~\\.virtualenvs\\Maskininl-rning-Fredrik-Hegardt-mmrJtyaC\\lib\\site-packages\\pandas\\core\\series.py:4157\u001b[0m, in \u001b[0;36mSeries.unstack\u001b[1;34m(self, level, fill_value)\u001b[0m\n\u001b[0;32m   <a href='file:///c%3A/Users/fredr/.virtualenvs/Maskininl-rning-Fredrik-Hegardt-mmrJtyaC/lib/site-packages/pandas/core/series.py?line=4113'>4114</a>\u001b[0m \u001b[39m\"\"\"\u001b[39;00m\n\u001b[0;32m   <a href='file:///c%3A/Users/fredr/.virtualenvs/Maskininl-rning-Fredrik-Hegardt-mmrJtyaC/lib/site-packages/pandas/core/series.py?line=4114'>4115</a>\u001b[0m \u001b[39mUnstack, also known as pivot, Series with MultiIndex to produce DataFrame.\u001b[39;00m\n\u001b[0;32m   <a href='file:///c%3A/Users/fredr/.virtualenvs/Maskininl-rning-Fredrik-Hegardt-mmrJtyaC/lib/site-packages/pandas/core/series.py?line=4115'>4116</a>\u001b[0m \n\u001b[1;32m   (...)\u001b[0m\n\u001b[0;32m   <a href='file:///c%3A/Users/fredr/.virtualenvs/Maskininl-rning-Fredrik-Hegardt-mmrJtyaC/lib/site-packages/pandas/core/series.py?line=4152'>4153</a>\u001b[0m \u001b[39mb    2    4\u001b[39;00m\n\u001b[0;32m   <a href='file:///c%3A/Users/fredr/.virtualenvs/Maskininl-rning-Fredrik-Hegardt-mmrJtyaC/lib/site-packages/pandas/core/series.py?line=4153'>4154</a>\u001b[0m \u001b[39m\"\"\"\u001b[39;00m\n\u001b[0;32m   <a href='file:///c%3A/Users/fredr/.virtualenvs/Maskininl-rning-Fredrik-Hegardt-mmrJtyaC/lib/site-packages/pandas/core/series.py?line=4154'>4155</a>\u001b[0m \u001b[39mfrom\u001b[39;00m \u001b[39mpandas\u001b[39;00m\u001b[39m.\u001b[39;00m\u001b[39mcore\u001b[39;00m\u001b[39m.\u001b[39;00m\u001b[39mreshape\u001b[39;00m\u001b[39m.\u001b[39;00m\u001b[39mreshape\u001b[39;00m \u001b[39mimport\u001b[39;00m unstack\n\u001b[1;32m-> <a href='file:///c%3A/Users/fredr/.virtualenvs/Maskininl-rning-Fredrik-Hegardt-mmrJtyaC/lib/site-packages/pandas/core/series.py?line=4156'>4157</a>\u001b[0m \u001b[39mreturn\u001b[39;00m unstack(\u001b[39mself\u001b[39;49m, level, fill_value)\n",
      "File \u001b[1;32m~\\.virtualenvs\\Maskininl-rning-Fredrik-Hegardt-mmrJtyaC\\lib\\site-packages\\pandas\\core\\reshape\\reshape.py:491\u001b[0m, in \u001b[0;36munstack\u001b[1;34m(obj, level, fill_value)\u001b[0m\n\u001b[0;32m    <a href='file:///c%3A/Users/fredr/.virtualenvs/Maskininl-rning-Fredrik-Hegardt-mmrJtyaC/lib/site-packages/pandas/core/reshape/reshape.py?line=488'>489</a>\u001b[0m \u001b[39mif\u001b[39;00m is_1d_only_ea_dtype(obj\u001b[39m.\u001b[39mdtype):\n\u001b[0;32m    <a href='file:///c%3A/Users/fredr/.virtualenvs/Maskininl-rning-Fredrik-Hegardt-mmrJtyaC/lib/site-packages/pandas/core/reshape/reshape.py?line=489'>490</a>\u001b[0m     \u001b[39mreturn\u001b[39;00m _unstack_extension_series(obj, level, fill_value)\n\u001b[1;32m--> <a href='file:///c%3A/Users/fredr/.virtualenvs/Maskininl-rning-Fredrik-Hegardt-mmrJtyaC/lib/site-packages/pandas/core/reshape/reshape.py?line=490'>491</a>\u001b[0m unstacker \u001b[39m=\u001b[39m _Unstacker(\n\u001b[0;32m    <a href='file:///c%3A/Users/fredr/.virtualenvs/Maskininl-rning-Fredrik-Hegardt-mmrJtyaC/lib/site-packages/pandas/core/reshape/reshape.py?line=491'>492</a>\u001b[0m     obj\u001b[39m.\u001b[39;49mindex, level\u001b[39m=\u001b[39;49mlevel, constructor\u001b[39m=\u001b[39;49mobj\u001b[39m.\u001b[39;49m_constructor_expanddim\n\u001b[0;32m    <a href='file:///c%3A/Users/fredr/.virtualenvs/Maskininl-rning-Fredrik-Hegardt-mmrJtyaC/lib/site-packages/pandas/core/reshape/reshape.py?line=492'>493</a>\u001b[0m )\n\u001b[0;32m    <a href='file:///c%3A/Users/fredr/.virtualenvs/Maskininl-rning-Fredrik-Hegardt-mmrJtyaC/lib/site-packages/pandas/core/reshape/reshape.py?line=493'>494</a>\u001b[0m \u001b[39mreturn\u001b[39;00m unstacker\u001b[39m.\u001b[39mget_result(\n\u001b[0;32m    <a href='file:///c%3A/Users/fredr/.virtualenvs/Maskininl-rning-Fredrik-Hegardt-mmrJtyaC/lib/site-packages/pandas/core/reshape/reshape.py?line=494'>495</a>\u001b[0m     obj\u001b[39m.\u001b[39m_values, value_columns\u001b[39m=\u001b[39m\u001b[39mNone\u001b[39;00m, fill_value\u001b[39m=\u001b[39mfill_value\n\u001b[0;32m    <a href='file:///c%3A/Users/fredr/.virtualenvs/Maskininl-rning-Fredrik-Hegardt-mmrJtyaC/lib/site-packages/pandas/core/reshape/reshape.py?line=495'>496</a>\u001b[0m )\n",
      "File \u001b[1;32m~\\.virtualenvs\\Maskininl-rning-Fredrik-Hegardt-mmrJtyaC\\lib\\site-packages\\pandas\\core\\reshape\\reshape.py:140\u001b[0m, in \u001b[0;36m_Unstacker.__init__\u001b[1;34m(self, index, level, constructor)\u001b[0m\n\u001b[0;32m    <a href='file:///c%3A/Users/fredr/.virtualenvs/Maskininl-rning-Fredrik-Hegardt-mmrJtyaC/lib/site-packages/pandas/core/reshape/reshape.py?line=132'>133</a>\u001b[0m \u001b[39mif\u001b[39;00m num_cells \u001b[39m>\u001b[39m np\u001b[39m.\u001b[39miinfo(np\u001b[39m.\u001b[39mint32)\u001b[39m.\u001b[39mmax:\n\u001b[0;32m    <a href='file:///c%3A/Users/fredr/.virtualenvs/Maskininl-rning-Fredrik-Hegardt-mmrJtyaC/lib/site-packages/pandas/core/reshape/reshape.py?line=133'>134</a>\u001b[0m     warnings\u001b[39m.\u001b[39mwarn(\n\u001b[0;32m    <a href='file:///c%3A/Users/fredr/.virtualenvs/Maskininl-rning-Fredrik-Hegardt-mmrJtyaC/lib/site-packages/pandas/core/reshape/reshape.py?line=134'>135</a>\u001b[0m         \u001b[39mf\u001b[39m\u001b[39m\"\u001b[39m\u001b[39mThe following operation may generate \u001b[39m\u001b[39m{\u001b[39;00mnum_cells\u001b[39m}\u001b[39;00m\u001b[39m cells \u001b[39m\u001b[39m\"\u001b[39m\n\u001b[0;32m    <a href='file:///c%3A/Users/fredr/.virtualenvs/Maskininl-rning-Fredrik-Hegardt-mmrJtyaC/lib/site-packages/pandas/core/reshape/reshape.py?line=135'>136</a>\u001b[0m         \u001b[39mf\u001b[39m\u001b[39m\"\u001b[39m\u001b[39min the resulting pandas object.\u001b[39m\u001b[39m\"\u001b[39m,\n\u001b[0;32m    <a href='file:///c%3A/Users/fredr/.virtualenvs/Maskininl-rning-Fredrik-Hegardt-mmrJtyaC/lib/site-packages/pandas/core/reshape/reshape.py?line=136'>137</a>\u001b[0m         PerformanceWarning,\n\u001b[0;32m    <a href='file:///c%3A/Users/fredr/.virtualenvs/Maskininl-rning-Fredrik-Hegardt-mmrJtyaC/lib/site-packages/pandas/core/reshape/reshape.py?line=137'>138</a>\u001b[0m     )\n\u001b[1;32m--> <a href='file:///c%3A/Users/fredr/.virtualenvs/Maskininl-rning-Fredrik-Hegardt-mmrJtyaC/lib/site-packages/pandas/core/reshape/reshape.py?line=139'>140</a>\u001b[0m \u001b[39mself\u001b[39;49m\u001b[39m.\u001b[39;49m_make_selectors()\n",
      "File \u001b[1;32m~\\.virtualenvs\\Maskininl-rning-Fredrik-Hegardt-mmrJtyaC\\lib\\site-packages\\pandas\\core\\reshape\\reshape.py:188\u001b[0m, in \u001b[0;36m_Unstacker._make_selectors\u001b[1;34m(self)\u001b[0m\n\u001b[0;32m    <a href='file:///c%3A/Users/fredr/.virtualenvs/Maskininl-rning-Fredrik-Hegardt-mmrJtyaC/lib/site-packages/pandas/core/reshape/reshape.py?line=184'>185</a>\u001b[0m \u001b[39mself\u001b[39m\u001b[39m.\u001b[39mfull_shape \u001b[39m=\u001b[39m ngroups, stride\n\u001b[0;32m    <a href='file:///c%3A/Users/fredr/.virtualenvs/Maskininl-rning-Fredrik-Hegardt-mmrJtyaC/lib/site-packages/pandas/core/reshape/reshape.py?line=186'>187</a>\u001b[0m selector \u001b[39m=\u001b[39m \u001b[39mself\u001b[39m\u001b[39m.\u001b[39msorted_labels[\u001b[39m-\u001b[39m\u001b[39m1\u001b[39m] \u001b[39m+\u001b[39m stride \u001b[39m*\u001b[39m comp_index \u001b[39m+\u001b[39m \u001b[39mself\u001b[39m\u001b[39m.\u001b[39mlift\n\u001b[1;32m--> <a href='file:///c%3A/Users/fredr/.virtualenvs/Maskininl-rning-Fredrik-Hegardt-mmrJtyaC/lib/site-packages/pandas/core/reshape/reshape.py?line=187'>188</a>\u001b[0m mask \u001b[39m=\u001b[39m np\u001b[39m.\u001b[39;49mzeros(np\u001b[39m.\u001b[39;49mprod(\u001b[39mself\u001b[39;49m\u001b[39m.\u001b[39;49mfull_shape), dtype\u001b[39m=\u001b[39;49m\u001b[39mbool\u001b[39;49m)\n\u001b[0;32m    <a href='file:///c%3A/Users/fredr/.virtualenvs/Maskininl-rning-Fredrik-Hegardt-mmrJtyaC/lib/site-packages/pandas/core/reshape/reshape.py?line=188'>189</a>\u001b[0m mask\u001b[39m.\u001b[39mput(selector, \u001b[39mTrue\u001b[39;00m)\n\u001b[0;32m    <a href='file:///c%3A/Users/fredr/.virtualenvs/Maskininl-rning-Fredrik-Hegardt-mmrJtyaC/lib/site-packages/pandas/core/reshape/reshape.py?line=190'>191</a>\u001b[0m \u001b[39mif\u001b[39;00m mask\u001b[39m.\u001b[39msum() \u001b[39m<\u001b[39m \u001b[39mlen\u001b[39m(\u001b[39mself\u001b[39m\u001b[39m.\u001b[39mindex):\n",
      "\u001b[1;31mValueError\u001b[0m: negative dimensions are not allowed"
     ]
    }
   ],
   "source": [
    "movie_users = ratingData.pivot(index='movieId', columns='userId', values='rating')"
   ]
  }
 ],
 "metadata": {
  "interpreter": {
   "hash": "20e36f013206a17ac568431002223843abac3dbb024288464e9b0a20eb5fb034"
  },
  "kernelspec": {
   "display_name": "Python 3.9.6 ('Maskininl-rning-Fredrik-Hegardt-mmrJtyaC')",
   "language": "python",
   "name": "python3"
  },
  "language_info": {
   "codemirror_mode": {
    "name": "ipython",
    "version": 3
   },
   "file_extension": ".py",
   "mimetype": "text/x-python",
   "name": "python",
   "nbconvert_exporter": "python",
   "pygments_lexer": "ipython3",
   "version": "3.9.6"
  },
  "orig_nbformat": 4
 },
 "nbformat": 4,
 "nbformat_minor": 2
}
