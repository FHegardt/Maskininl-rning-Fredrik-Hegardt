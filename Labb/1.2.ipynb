{
 "cells": [
  {
   "cell_type": "code",
   "execution_count": 166,
   "metadata": {},
   "outputs": [
    {
     "data": {
      "text/html": [
       "<div>\n",
       "<style scoped>\n",
       "    .dataframe tbody tr th:only-of-type {\n",
       "        vertical-align: middle;\n",
       "    }\n",
       "\n",
       "    .dataframe tbody tr th {\n",
       "        vertical-align: top;\n",
       "    }\n",
       "\n",
       "    .dataframe thead th {\n",
       "        text-align: right;\n",
       "    }\n",
       "</style>\n",
       "<table border=\"1\" class=\"dataframe\">\n",
       "  <thead>\n",
       "    <tr style=\"text-align: right;\">\n",
       "      <th></th>\n",
       "      <th>userId</th>\n",
       "      <th>movieId</th>\n",
       "      <th>rating</th>\n",
       "    </tr>\n",
       "  </thead>\n",
       "  <tbody>\n",
       "    <tr>\n",
       "      <th>0</th>\n",
       "      <td>1</td>\n",
       "      <td>307</td>\n",
       "      <td>3.5</td>\n",
       "    </tr>\n",
       "    <tr>\n",
       "      <th>1</th>\n",
       "      <td>1</td>\n",
       "      <td>481</td>\n",
       "      <td>3.5</td>\n",
       "    </tr>\n",
       "    <tr>\n",
       "      <th>2</th>\n",
       "      <td>1</td>\n",
       "      <td>1091</td>\n",
       "      <td>1.5</td>\n",
       "    </tr>\n",
       "    <tr>\n",
       "      <th>3</th>\n",
       "      <td>1</td>\n",
       "      <td>1257</td>\n",
       "      <td>4.5</td>\n",
       "    </tr>\n",
       "    <tr>\n",
       "      <th>4</th>\n",
       "      <td>1</td>\n",
       "      <td>1449</td>\n",
       "      <td>4.5</td>\n",
       "    </tr>\n",
       "  </tbody>\n",
       "</table>\n",
       "</div>"
      ],
      "text/plain": [
       "   userId  movieId  rating\n",
       "0       1      307     3.5\n",
       "1       1      481     3.5\n",
       "2       1     1091     1.5\n",
       "3       1     1257     4.5\n",
       "4       1     1449     4.5"
      ]
     },
     "execution_count": 166,
     "metadata": {},
     "output_type": "execute_result"
    }
   ],
   "source": [
    "#1 Reading in the csv-files\n",
    "import pandas as pd\n",
    "from scipy.sparse import csr_matrix\n",
    "from sklearn.neighbors import NearestNeighbors\n",
    "from fuzzywuzzy import process\n",
    "movieData= pd.read_csv('./Data/movies.csv', usecols=[\"movieId\", 'title'], dtype={'movieId': 'int32', 'title': 'str'})\n",
    "ratingData = pd.read_csv('./Data/ratings.csv', usecols=[\"userId\", \"movieId\", \"rating\"], dtype ={'userId': 'int32', 'movieId': 'int32', 'rating': 'float32'})\n",
    "ratingData.head()"
   ]
  },
  {
   "cell_type": "code",
   "execution_count": 167,
   "metadata": {},
   "outputs": [
    {
     "data": {
      "text/plain": [
       "27753444"
      ]
     },
     "execution_count": 167,
     "metadata": {},
     "output_type": "execute_result"
    }
   ],
   "source": [
    "len(ratingData)"
   ]
  },
  {
   "cell_type": "code",
   "execution_count": 168,
   "metadata": {},
   "outputs": [
    {
     "data": {
      "text/plain": [
       "27623784"
      ]
     },
     "execution_count": 168,
     "metadata": {},
     "output_type": "execute_result"
    }
   ],
   "source": [
    "movies_with_few_ratings = ratingData[\"movieId\"].value_counts().sort_values(ascending=True).head(25000)\n",
    "ratingData = ratingData[~ratingData['movieId'].isin(movies_with_few_ratings)]\n",
    "len(ratingData)"
   ]
  },
  {
   "cell_type": "code",
   "execution_count": 169,
   "metadata": {},
   "outputs": [
    {
     "data": {
      "text/plain": [
       "13775094"
      ]
     },
     "execution_count": 169,
     "metadata": {},
     "output_type": "execute_result"
    }
   ],
   "source": [
    "#Getting rid of some data, trying with only movies rated 5.\n",
    "ratingData = ratingData.drop(ratingData[ratingData.rating < 4].index)\n",
    "len(ratingData)"
   ]
  },
  {
   "cell_type": "code",
   "execution_count": 170,
   "metadata": {},
   "outputs": [
    {
     "data": {
      "text/plain": [
       "Int64Index([       3,        4,        7,        8,       11,       12,\n",
       "                  21,       23,       25,       26,\n",
       "            ...\n",
       "            27753434, 27753435, 27753436, 27753437, 27753438, 27753439,\n",
       "            27753440, 27753441, 27753442, 27753443],\n",
       "           dtype='int64', length=13775094)"
      ]
     },
     "execution_count": 170,
     "metadata": {},
     "output_type": "execute_result"
    }
   ],
   "source": [
    "ratingData.index"
   ]
  },
  {
   "cell_type": "code",
   "execution_count": 171,
   "metadata": {},
   "outputs": [
    {
     "name": "stderr",
     "output_type": "stream",
     "text": [
      "C:\\Users\\fredr\\.virtualenvs\\Maskininl-rning-Fredrik-Hegardt-mmrJtyaC\\lib\\site-packages\\pandas\\core\\reshape\\reshape.py:130: RuntimeWarning: overflow encountered in long_scalars\n",
      "  num_cells = num_rows * num_columns\n"
     ]
    },
    {
     "ename": "IndexError",
     "evalue": "index 1719333441 is out of bounds for axis 0 with size 1719332727",
     "output_type": "error",
     "traceback": [
      "\u001b[1;31m---------------------------------------------------------------------------\u001b[0m",
      "\u001b[1;31mIndexError\u001b[0m                                Traceback (most recent call last)",
      "\u001b[1;32mc:\\Users\\fredr\\OneDrive\\Documents\\GitHub\\Maskininl-rning-Fredrik-Hegardt\\Labb\\1.2.ipynb Cell 6'\u001b[0m in \u001b[0;36m<cell line: 1>\u001b[1;34m()\u001b[0m\n\u001b[1;32m----> <a href='vscode-notebook-cell:/c%3A/Users/fredr/OneDrive/Documents/GitHub/Maskininl-rning-Fredrik-Hegardt/Labb/1.2.ipynb#ch0000003?line=0'>1</a>\u001b[0m movies_users\u001b[39m=\u001b[39mratingData\u001b[39m.\u001b[39;49mpivot(index\u001b[39m=\u001b[39;49m\u001b[39m'\u001b[39;49m\u001b[39mmovieId\u001b[39;49m\u001b[39m'\u001b[39;49m, columns\u001b[39m=\u001b[39;49m\u001b[39m'\u001b[39;49m\u001b[39muserId\u001b[39;49m\u001b[39m'\u001b[39;49m, values\u001b[39m=\u001b[39;49m\u001b[39m'\u001b[39;49m\u001b[39mrating\u001b[39;49m\u001b[39m'\u001b[39;49m)\u001b[39m.\u001b[39mfillna(\u001b[39m0\u001b[39m)\n\u001b[0;32m      <a href='vscode-notebook-cell:/c%3A/Users/fredr/OneDrive/Documents/GitHub/Maskininl-rning-Fredrik-Hegardt/Labb/1.2.ipynb#ch0000003?line=1'>2</a>\u001b[0m mat_movies_users\u001b[39m=\u001b[39mcsr_matrix(movies_users\u001b[39m.\u001b[39mvalues)\n",
      "File \u001b[1;32m~\\.virtualenvs\\Maskininl-rning-Fredrik-Hegardt-mmrJtyaC\\lib\\site-packages\\pandas\\core\\frame.py:7870\u001b[0m, in \u001b[0;36mDataFrame.pivot\u001b[1;34m(self, index, columns, values)\u001b[0m\n\u001b[0;32m   <a href='file:///c%3A/Users/fredr/.virtualenvs/Maskininl-rning-Fredrik-Hegardt-mmrJtyaC/lib/site-packages/pandas/core/frame.py?line=7864'>7865</a>\u001b[0m \u001b[39m@Substitution\u001b[39m(\u001b[39m\"\u001b[39m\u001b[39m\"\u001b[39m)\n\u001b[0;32m   <a href='file:///c%3A/Users/fredr/.virtualenvs/Maskininl-rning-Fredrik-Hegardt-mmrJtyaC/lib/site-packages/pandas/core/frame.py?line=7865'>7866</a>\u001b[0m \u001b[39m@Appender\u001b[39m(_shared_docs[\u001b[39m\"\u001b[39m\u001b[39mpivot\u001b[39m\u001b[39m\"\u001b[39m])\n\u001b[0;32m   <a href='file:///c%3A/Users/fredr/.virtualenvs/Maskininl-rning-Fredrik-Hegardt-mmrJtyaC/lib/site-packages/pandas/core/frame.py?line=7866'>7867</a>\u001b[0m \u001b[39mdef\u001b[39;00m \u001b[39mpivot\u001b[39m(\u001b[39mself\u001b[39m, index\u001b[39m=\u001b[39m\u001b[39mNone\u001b[39;00m, columns\u001b[39m=\u001b[39m\u001b[39mNone\u001b[39;00m, values\u001b[39m=\u001b[39m\u001b[39mNone\u001b[39;00m) \u001b[39m-\u001b[39m\u001b[39m>\u001b[39m DataFrame:\n\u001b[0;32m   <a href='file:///c%3A/Users/fredr/.virtualenvs/Maskininl-rning-Fredrik-Hegardt-mmrJtyaC/lib/site-packages/pandas/core/frame.py?line=7867'>7868</a>\u001b[0m     \u001b[39mfrom\u001b[39;00m \u001b[39mpandas\u001b[39;00m\u001b[39m.\u001b[39;00m\u001b[39mcore\u001b[39;00m\u001b[39m.\u001b[39;00m\u001b[39mreshape\u001b[39;00m\u001b[39m.\u001b[39;00m\u001b[39mpivot\u001b[39;00m \u001b[39mimport\u001b[39;00m pivot\n\u001b[1;32m-> <a href='file:///c%3A/Users/fredr/.virtualenvs/Maskininl-rning-Fredrik-Hegardt-mmrJtyaC/lib/site-packages/pandas/core/frame.py?line=7869'>7870</a>\u001b[0m     \u001b[39mreturn\u001b[39;00m pivot(\u001b[39mself\u001b[39;49m, index\u001b[39m=\u001b[39;49mindex, columns\u001b[39m=\u001b[39;49mcolumns, values\u001b[39m=\u001b[39;49mvalues)\n",
      "File \u001b[1;32m~\\.virtualenvs\\Maskininl-rning-Fredrik-Hegardt-mmrJtyaC\\lib\\site-packages\\pandas\\core\\reshape\\pivot.py:520\u001b[0m, in \u001b[0;36mpivot\u001b[1;34m(data, index, columns, values)\u001b[0m\n\u001b[0;32m    <a href='file:///c%3A/Users/fredr/.virtualenvs/Maskininl-rning-Fredrik-Hegardt-mmrJtyaC/lib/site-packages/pandas/core/reshape/pivot.py?line=517'>518</a>\u001b[0m     \u001b[39melse\u001b[39;00m:\n\u001b[0;32m    <a href='file:///c%3A/Users/fredr/.virtualenvs/Maskininl-rning-Fredrik-Hegardt-mmrJtyaC/lib/site-packages/pandas/core/reshape/pivot.py?line=518'>519</a>\u001b[0m         indexed \u001b[39m=\u001b[39m data\u001b[39m.\u001b[39m_constructor_sliced(data[values]\u001b[39m.\u001b[39m_values, index\u001b[39m=\u001b[39mmultiindex)\n\u001b[1;32m--> <a href='file:///c%3A/Users/fredr/.virtualenvs/Maskininl-rning-Fredrik-Hegardt-mmrJtyaC/lib/site-packages/pandas/core/reshape/pivot.py?line=519'>520</a>\u001b[0m \u001b[39mreturn\u001b[39;00m indexed\u001b[39m.\u001b[39;49munstack(columns_listlike)\n",
      "File \u001b[1;32m~\\.virtualenvs\\Maskininl-rning-Fredrik-Hegardt-mmrJtyaC\\lib\\site-packages\\pandas\\core\\series.py:4157\u001b[0m, in \u001b[0;36mSeries.unstack\u001b[1;34m(self, level, fill_value)\u001b[0m\n\u001b[0;32m   <a href='file:///c%3A/Users/fredr/.virtualenvs/Maskininl-rning-Fredrik-Hegardt-mmrJtyaC/lib/site-packages/pandas/core/series.py?line=4113'>4114</a>\u001b[0m \u001b[39m\"\"\"\u001b[39;00m\n\u001b[0;32m   <a href='file:///c%3A/Users/fredr/.virtualenvs/Maskininl-rning-Fredrik-Hegardt-mmrJtyaC/lib/site-packages/pandas/core/series.py?line=4114'>4115</a>\u001b[0m \u001b[39mUnstack, also known as pivot, Series with MultiIndex to produce DataFrame.\u001b[39;00m\n\u001b[0;32m   <a href='file:///c%3A/Users/fredr/.virtualenvs/Maskininl-rning-Fredrik-Hegardt-mmrJtyaC/lib/site-packages/pandas/core/series.py?line=4115'>4116</a>\u001b[0m \n\u001b[1;32m   (...)\u001b[0m\n\u001b[0;32m   <a href='file:///c%3A/Users/fredr/.virtualenvs/Maskininl-rning-Fredrik-Hegardt-mmrJtyaC/lib/site-packages/pandas/core/series.py?line=4152'>4153</a>\u001b[0m \u001b[39mb    2    4\u001b[39;00m\n\u001b[0;32m   <a href='file:///c%3A/Users/fredr/.virtualenvs/Maskininl-rning-Fredrik-Hegardt-mmrJtyaC/lib/site-packages/pandas/core/series.py?line=4153'>4154</a>\u001b[0m \u001b[39m\"\"\"\u001b[39;00m\n\u001b[0;32m   <a href='file:///c%3A/Users/fredr/.virtualenvs/Maskininl-rning-Fredrik-Hegardt-mmrJtyaC/lib/site-packages/pandas/core/series.py?line=4154'>4155</a>\u001b[0m \u001b[39mfrom\u001b[39;00m \u001b[39mpandas\u001b[39;00m\u001b[39m.\u001b[39;00m\u001b[39mcore\u001b[39;00m\u001b[39m.\u001b[39;00m\u001b[39mreshape\u001b[39;00m\u001b[39m.\u001b[39;00m\u001b[39mreshape\u001b[39;00m \u001b[39mimport\u001b[39;00m unstack\n\u001b[1;32m-> <a href='file:///c%3A/Users/fredr/.virtualenvs/Maskininl-rning-Fredrik-Hegardt-mmrJtyaC/lib/site-packages/pandas/core/series.py?line=4156'>4157</a>\u001b[0m \u001b[39mreturn\u001b[39;00m unstack(\u001b[39mself\u001b[39;49m, level, fill_value)\n",
      "File \u001b[1;32m~\\.virtualenvs\\Maskininl-rning-Fredrik-Hegardt-mmrJtyaC\\lib\\site-packages\\pandas\\core\\reshape\\reshape.py:491\u001b[0m, in \u001b[0;36munstack\u001b[1;34m(obj, level, fill_value)\u001b[0m\n\u001b[0;32m    <a href='file:///c%3A/Users/fredr/.virtualenvs/Maskininl-rning-Fredrik-Hegardt-mmrJtyaC/lib/site-packages/pandas/core/reshape/reshape.py?line=488'>489</a>\u001b[0m \u001b[39mif\u001b[39;00m is_1d_only_ea_dtype(obj\u001b[39m.\u001b[39mdtype):\n\u001b[0;32m    <a href='file:///c%3A/Users/fredr/.virtualenvs/Maskininl-rning-Fredrik-Hegardt-mmrJtyaC/lib/site-packages/pandas/core/reshape/reshape.py?line=489'>490</a>\u001b[0m     \u001b[39mreturn\u001b[39;00m _unstack_extension_series(obj, level, fill_value)\n\u001b[1;32m--> <a href='file:///c%3A/Users/fredr/.virtualenvs/Maskininl-rning-Fredrik-Hegardt-mmrJtyaC/lib/site-packages/pandas/core/reshape/reshape.py?line=490'>491</a>\u001b[0m unstacker \u001b[39m=\u001b[39m _Unstacker(\n\u001b[0;32m    <a href='file:///c%3A/Users/fredr/.virtualenvs/Maskininl-rning-Fredrik-Hegardt-mmrJtyaC/lib/site-packages/pandas/core/reshape/reshape.py?line=491'>492</a>\u001b[0m     obj\u001b[39m.\u001b[39;49mindex, level\u001b[39m=\u001b[39;49mlevel, constructor\u001b[39m=\u001b[39;49mobj\u001b[39m.\u001b[39;49m_constructor_expanddim\n\u001b[0;32m    <a href='file:///c%3A/Users/fredr/.virtualenvs/Maskininl-rning-Fredrik-Hegardt-mmrJtyaC/lib/site-packages/pandas/core/reshape/reshape.py?line=492'>493</a>\u001b[0m )\n\u001b[0;32m    <a href='file:///c%3A/Users/fredr/.virtualenvs/Maskininl-rning-Fredrik-Hegardt-mmrJtyaC/lib/site-packages/pandas/core/reshape/reshape.py?line=493'>494</a>\u001b[0m \u001b[39mreturn\u001b[39;00m unstacker\u001b[39m.\u001b[39mget_result(\n\u001b[0;32m    <a href='file:///c%3A/Users/fredr/.virtualenvs/Maskininl-rning-Fredrik-Hegardt-mmrJtyaC/lib/site-packages/pandas/core/reshape/reshape.py?line=494'>495</a>\u001b[0m     obj\u001b[39m.\u001b[39m_values, value_columns\u001b[39m=\u001b[39m\u001b[39mNone\u001b[39;00m, fill_value\u001b[39m=\u001b[39mfill_value\n\u001b[0;32m    <a href='file:///c%3A/Users/fredr/.virtualenvs/Maskininl-rning-Fredrik-Hegardt-mmrJtyaC/lib/site-packages/pandas/core/reshape/reshape.py?line=495'>496</a>\u001b[0m )\n",
      "File \u001b[1;32m~\\.virtualenvs\\Maskininl-rning-Fredrik-Hegardt-mmrJtyaC\\lib\\site-packages\\pandas\\core\\reshape\\reshape.py:140\u001b[0m, in \u001b[0;36m_Unstacker.__init__\u001b[1;34m(self, index, level, constructor)\u001b[0m\n\u001b[0;32m    <a href='file:///c%3A/Users/fredr/.virtualenvs/Maskininl-rning-Fredrik-Hegardt-mmrJtyaC/lib/site-packages/pandas/core/reshape/reshape.py?line=132'>133</a>\u001b[0m \u001b[39mif\u001b[39;00m num_cells \u001b[39m>\u001b[39m np\u001b[39m.\u001b[39miinfo(np\u001b[39m.\u001b[39mint32)\u001b[39m.\u001b[39mmax:\n\u001b[0;32m    <a href='file:///c%3A/Users/fredr/.virtualenvs/Maskininl-rning-Fredrik-Hegardt-mmrJtyaC/lib/site-packages/pandas/core/reshape/reshape.py?line=133'>134</a>\u001b[0m     warnings\u001b[39m.\u001b[39mwarn(\n\u001b[0;32m    <a href='file:///c%3A/Users/fredr/.virtualenvs/Maskininl-rning-Fredrik-Hegardt-mmrJtyaC/lib/site-packages/pandas/core/reshape/reshape.py?line=134'>135</a>\u001b[0m         \u001b[39mf\u001b[39m\u001b[39m\"\u001b[39m\u001b[39mThe following operation may generate \u001b[39m\u001b[39m{\u001b[39;00mnum_cells\u001b[39m}\u001b[39;00m\u001b[39m cells \u001b[39m\u001b[39m\"\u001b[39m\n\u001b[0;32m    <a href='file:///c%3A/Users/fredr/.virtualenvs/Maskininl-rning-Fredrik-Hegardt-mmrJtyaC/lib/site-packages/pandas/core/reshape/reshape.py?line=135'>136</a>\u001b[0m         \u001b[39mf\u001b[39m\u001b[39m\"\u001b[39m\u001b[39min the resulting pandas object.\u001b[39m\u001b[39m\"\u001b[39m,\n\u001b[0;32m    <a href='file:///c%3A/Users/fredr/.virtualenvs/Maskininl-rning-Fredrik-Hegardt-mmrJtyaC/lib/site-packages/pandas/core/reshape/reshape.py?line=136'>137</a>\u001b[0m         PerformanceWarning,\n\u001b[0;32m    <a href='file:///c%3A/Users/fredr/.virtualenvs/Maskininl-rning-Fredrik-Hegardt-mmrJtyaC/lib/site-packages/pandas/core/reshape/reshape.py?line=137'>138</a>\u001b[0m     )\n\u001b[1;32m--> <a href='file:///c%3A/Users/fredr/.virtualenvs/Maskininl-rning-Fredrik-Hegardt-mmrJtyaC/lib/site-packages/pandas/core/reshape/reshape.py?line=139'>140</a>\u001b[0m \u001b[39mself\u001b[39;49m\u001b[39m.\u001b[39;49m_make_selectors()\n",
      "File \u001b[1;32m~\\.virtualenvs\\Maskininl-rning-Fredrik-Hegardt-mmrJtyaC\\lib\\site-packages\\pandas\\core\\reshape\\reshape.py:189\u001b[0m, in \u001b[0;36m_Unstacker._make_selectors\u001b[1;34m(self)\u001b[0m\n\u001b[0;32m    <a href='file:///c%3A/Users/fredr/.virtualenvs/Maskininl-rning-Fredrik-Hegardt-mmrJtyaC/lib/site-packages/pandas/core/reshape/reshape.py?line=186'>187</a>\u001b[0m selector \u001b[39m=\u001b[39m \u001b[39mself\u001b[39m\u001b[39m.\u001b[39msorted_labels[\u001b[39m-\u001b[39m\u001b[39m1\u001b[39m] \u001b[39m+\u001b[39m stride \u001b[39m*\u001b[39m comp_index \u001b[39m+\u001b[39m \u001b[39mself\u001b[39m\u001b[39m.\u001b[39mlift\n\u001b[0;32m    <a href='file:///c%3A/Users/fredr/.virtualenvs/Maskininl-rning-Fredrik-Hegardt-mmrJtyaC/lib/site-packages/pandas/core/reshape/reshape.py?line=187'>188</a>\u001b[0m mask \u001b[39m=\u001b[39m np\u001b[39m.\u001b[39mzeros(np\u001b[39m.\u001b[39mprod(\u001b[39mself\u001b[39m\u001b[39m.\u001b[39mfull_shape), dtype\u001b[39m=\u001b[39m\u001b[39mbool\u001b[39m)\n\u001b[1;32m--> <a href='file:///c%3A/Users/fredr/.virtualenvs/Maskininl-rning-Fredrik-Hegardt-mmrJtyaC/lib/site-packages/pandas/core/reshape/reshape.py?line=188'>189</a>\u001b[0m mask\u001b[39m.\u001b[39;49mput(selector, \u001b[39mTrue\u001b[39;49;00m)\n\u001b[0;32m    <a href='file:///c%3A/Users/fredr/.virtualenvs/Maskininl-rning-Fredrik-Hegardt-mmrJtyaC/lib/site-packages/pandas/core/reshape/reshape.py?line=190'>191</a>\u001b[0m \u001b[39mif\u001b[39;00m mask\u001b[39m.\u001b[39msum() \u001b[39m<\u001b[39m \u001b[39mlen\u001b[39m(\u001b[39mself\u001b[39m\u001b[39m.\u001b[39mindex):\n\u001b[0;32m    <a href='file:///c%3A/Users/fredr/.virtualenvs/Maskininl-rning-Fredrik-Hegardt-mmrJtyaC/lib/site-packages/pandas/core/reshape/reshape.py?line=191'>192</a>\u001b[0m     \u001b[39mraise\u001b[39;00m \u001b[39mValueError\u001b[39;00m(\u001b[39m\"\u001b[39m\u001b[39mIndex contains duplicate entries, cannot reshape\u001b[39m\u001b[39m\"\u001b[39m)\n",
      "\u001b[1;31mIndexError\u001b[0m: index 1719333441 is out of bounds for axis 0 with size 1719332727"
     ]
    }
   ],
   "source": [
    "movies_users=ratingData.pivot(index='movieId', columns='userId', values='rating').fillna(0)\n",
    "mat_movies_users=csr_matrix(movies_users.values)"
   ]
  },
  {
   "cell_type": "code",
   "execution_count": null,
   "metadata": {},
   "outputs": [],
   "source": [
    "model_knn=NearestNeighbors(metric='cosine', algorithm='brute', n_neighbors=20)"
   ]
  },
  {
   "cell_type": "code",
   "execution_count": null,
   "metadata": {},
   "outputs": [
    {
     "data": {
      "text/plain": [
       "NearestNeighbors(algorithm='brute', metric='cosine', n_neighbors=20)"
      ]
     },
     "execution_count": 90,
     "metadata": {},
     "output_type": "execute_result"
    }
   ],
   "source": [
    "model_knn.fit(mat_movies_users)"
   ]
  },
  {
   "cell_type": "code",
   "execution_count": null,
   "metadata": {},
   "outputs": [
    {
     "name": "stdout",
     "output_type": "stream",
     "text": [
      "Movie Selected: "
     ]
    },
    {
     "ename": "KeyboardInterrupt",
     "evalue": "",
     "output_type": "error",
     "traceback": [
      "\u001b[1;31m---------------------------------------------------------------------------\u001b[0m",
      "\u001b[1;31mKeyboardInterrupt\u001b[0m                         Traceback (most recent call last)",
      "\u001b[1;32mc:\\Users\\fredr\\OneDrive\\Documents\\GitHub\\Maskininl-rning-Fredrik-Hegardt\\Labb\\1.2.ipynb Cell 10'\u001b[0m in \u001b[0;36m<cell line: 9>\u001b[1;34m()\u001b[0m\n\u001b[0;32m      <a href='vscode-notebook-cell:/c%3A/Users/fredr/OneDrive/Documents/GitHub/Maskininl-rning-Fredrik-Hegardt/Labb/1.2.ipynb#ch0000008?line=5'>6</a>\u001b[0m     distances, indices \u001b[39m=\u001b[39m model\u001b[39m.\u001b[39mkneighbors(data[idx], n_neighbors\u001b[39m=\u001b[39mn_recommendations\u001b[39m+\u001b[39m\u001b[39m1\u001b[39m)\n\u001b[0;32m      <a href='vscode-notebook-cell:/c%3A/Users/fredr/OneDrive/Documents/GitHub/Maskininl-rning-Fredrik-Hegardt/Labb/1.2.ipynb#ch0000008?line=6'>7</a>\u001b[0m     \u001b[39mprint\u001b[39m(movieData\u001b[39m.\u001b[39mloc[indices[\u001b[39m0\u001b[39m][\u001b[39m1\u001b[39m:]])\n\u001b[1;32m----> <a href='vscode-notebook-cell:/c%3A/Users/fredr/OneDrive/Documents/GitHub/Maskininl-rning-Fredrik-Hegardt/Labb/1.2.ipynb#ch0000008?line=8'>9</a>\u001b[0m recommender(\u001b[39m'\u001b[39;49m\u001b[39mShawshank redemption\u001b[39;49m\u001b[39m'\u001b[39;49m, mat_movies_users, model_knn, \u001b[39m5\u001b[39;49m)\n",
      "\u001b[1;32mc:\\Users\\fredr\\OneDrive\\Documents\\GitHub\\Maskininl-rning-Fredrik-Hegardt\\Labb\\1.2.ipynb Cell 10'\u001b[0m in \u001b[0;36mrecommender\u001b[1;34m(movie_name, data, model, n_recommendations)\u001b[0m\n\u001b[0;32m      <a href='vscode-notebook-cell:/c%3A/Users/fredr/OneDrive/Documents/GitHub/Maskininl-rning-Fredrik-Hegardt/Labb/1.2.ipynb#ch0000008?line=1'>2</a>\u001b[0m model\u001b[39m.\u001b[39mfit(data)\n\u001b[0;32m      <a href='vscode-notebook-cell:/c%3A/Users/fredr/OneDrive/Documents/GitHub/Maskininl-rning-Fredrik-Hegardt/Labb/1.2.ipynb#ch0000008?line=2'>3</a>\u001b[0m idx\u001b[39m=\u001b[39mprocess\u001b[39m.\u001b[39mextractOne(movie_name, movieData[\u001b[39m'\u001b[39m\u001b[39mtitle\u001b[39m\u001b[39m'\u001b[39m])[\u001b[39m2\u001b[39m]\n\u001b[1;32m----> <a href='vscode-notebook-cell:/c%3A/Users/fredr/OneDrive/Documents/GitHub/Maskininl-rning-Fredrik-Hegardt/Labb/1.2.ipynb#ch0000008?line=3'>4</a>\u001b[0m \u001b[39mprint\u001b[39;49m(\u001b[39m\"\u001b[39;49m\u001b[39mMovie Selected: \u001b[39;49m\u001b[39m\"\u001b[39;49m, movieData[\u001b[39m'\u001b[39;49m\u001b[39mtitle\u001b[39;49m\u001b[39m'\u001b[39;49m][idx], \u001b[39m\"\u001b[39;49m\u001b[39mIndex: \u001b[39;49m\u001b[39m\"\u001b[39;49m,idx)\n\u001b[0;32m      <a href='vscode-notebook-cell:/c%3A/Users/fredr/OneDrive/Documents/GitHub/Maskininl-rning-Fredrik-Hegardt/Labb/1.2.ipynb#ch0000008?line=4'>5</a>\u001b[0m \u001b[39mprint\u001b[39m(\u001b[39m\"\u001b[39m\u001b[39mSearching for recommendations...\u001b[39m\u001b[39m\"\u001b[39m)\n\u001b[0;32m      <a href='vscode-notebook-cell:/c%3A/Users/fredr/OneDrive/Documents/GitHub/Maskininl-rning-Fredrik-Hegardt/Labb/1.2.ipynb#ch0000008?line=5'>6</a>\u001b[0m distances, indices \u001b[39m=\u001b[39m model\u001b[39m.\u001b[39mkneighbors(data[idx], n_neighbors\u001b[39m=\u001b[39mn_recommendations\u001b[39m+\u001b[39m\u001b[39m1\u001b[39m)\n",
      "File \u001b[1;32m~\\.virtualenvs\\Maskininl-rning-Fredrik-Hegardt-mmrJtyaC\\lib\\site-packages\\ipykernel\\iostream.py:541\u001b[0m, in \u001b[0;36mOutStream.write\u001b[1;34m(self, string)\u001b[0m\n\u001b[0;32m    <a href='file:///c%3A/Users/fredr/.virtualenvs/Maskininl-rning-Fredrik-Hegardt-mmrJtyaC/lib/site-packages/ipykernel/iostream.py?line=538'>539</a>\u001b[0m         \u001b[39mself\u001b[39m\u001b[39m.\u001b[39mpub_thread\u001b[39m.\u001b[39mschedule(\u001b[39mself\u001b[39m\u001b[39m.\u001b[39m_flush)\n\u001b[0;32m    <a href='file:///c%3A/Users/fredr/.virtualenvs/Maskininl-rning-Fredrik-Hegardt-mmrJtyaC/lib/site-packages/ipykernel/iostream.py?line=539'>540</a>\u001b[0m     \u001b[39melse\u001b[39;00m:\n\u001b[1;32m--> <a href='file:///c%3A/Users/fredr/.virtualenvs/Maskininl-rning-Fredrik-Hegardt-mmrJtyaC/lib/site-packages/ipykernel/iostream.py?line=540'>541</a>\u001b[0m         \u001b[39mself\u001b[39;49m\u001b[39m.\u001b[39;49m_schedule_flush()\n\u001b[0;32m    <a href='file:///c%3A/Users/fredr/.virtualenvs/Maskininl-rning-Fredrik-Hegardt-mmrJtyaC/lib/site-packages/ipykernel/iostream.py?line=542'>543</a>\u001b[0m \u001b[39mreturn\u001b[39;00m \u001b[39mlen\u001b[39m(string)\n",
      "File \u001b[1;32m~\\.virtualenvs\\Maskininl-rning-Fredrik-Hegardt-mmrJtyaC\\lib\\site-packages\\ipykernel\\iostream.py:451\u001b[0m, in \u001b[0;36mOutStream._schedule_flush\u001b[1;34m(self)\u001b[0m\n\u001b[0;32m    <a href='file:///c%3A/Users/fredr/.virtualenvs/Maskininl-rning-Fredrik-Hegardt-mmrJtyaC/lib/site-packages/ipykernel/iostream.py?line=448'>449</a>\u001b[0m \u001b[39mdef\u001b[39;00m \u001b[39m_schedule_in_thread\u001b[39m():\n\u001b[0;32m    <a href='file:///c%3A/Users/fredr/.virtualenvs/Maskininl-rning-Fredrik-Hegardt-mmrJtyaC/lib/site-packages/ipykernel/iostream.py?line=449'>450</a>\u001b[0m     \u001b[39mself\u001b[39m\u001b[39m.\u001b[39m_io_loop\u001b[39m.\u001b[39mcall_later(\u001b[39mself\u001b[39m\u001b[39m.\u001b[39mflush_interval, \u001b[39mself\u001b[39m\u001b[39m.\u001b[39m_flush)\n\u001b[1;32m--> <a href='file:///c%3A/Users/fredr/.virtualenvs/Maskininl-rning-Fredrik-Hegardt-mmrJtyaC/lib/site-packages/ipykernel/iostream.py?line=450'>451</a>\u001b[0m \u001b[39mself\u001b[39;49m\u001b[39m.\u001b[39;49mpub_thread\u001b[39m.\u001b[39;49mschedule(_schedule_in_thread)\n",
      "File \u001b[1;32m~\\.virtualenvs\\Maskininl-rning-Fredrik-Hegardt-mmrJtyaC\\lib\\site-packages\\ipykernel\\iostream.py:216\u001b[0m, in \u001b[0;36mIOPubThread.schedule\u001b[1;34m(self, f)\u001b[0m\n\u001b[0;32m    <a href='file:///c%3A/Users/fredr/.virtualenvs/Maskininl-rning-Fredrik-Hegardt-mmrJtyaC/lib/site-packages/ipykernel/iostream.py?line=213'>214</a>\u001b[0m     \u001b[39mself\u001b[39m\u001b[39m.\u001b[39m_events\u001b[39m.\u001b[39mappend(f)\n\u001b[0;32m    <a href='file:///c%3A/Users/fredr/.virtualenvs/Maskininl-rning-Fredrik-Hegardt-mmrJtyaC/lib/site-packages/ipykernel/iostream.py?line=214'>215</a>\u001b[0m     \u001b[39m# wake event thread (message content is ignored)\u001b[39;00m\n\u001b[1;32m--> <a href='file:///c%3A/Users/fredr/.virtualenvs/Maskininl-rning-Fredrik-Hegardt-mmrJtyaC/lib/site-packages/ipykernel/iostream.py?line=215'>216</a>\u001b[0m     \u001b[39mself\u001b[39;49m\u001b[39m.\u001b[39;49m_event_pipe\u001b[39m.\u001b[39;49msend(\u001b[39mb\u001b[39;49m\u001b[39m'\u001b[39;49m\u001b[39m'\u001b[39;49m)\n\u001b[0;32m    <a href='file:///c%3A/Users/fredr/.virtualenvs/Maskininl-rning-Fredrik-Hegardt-mmrJtyaC/lib/site-packages/ipykernel/iostream.py?line=216'>217</a>\u001b[0m \u001b[39melse\u001b[39;00m:\n\u001b[0;32m    <a href='file:///c%3A/Users/fredr/.virtualenvs/Maskininl-rning-Fredrik-Hegardt-mmrJtyaC/lib/site-packages/ipykernel/iostream.py?line=217'>218</a>\u001b[0m     f()\n",
      "File \u001b[1;32m~\\.virtualenvs\\Maskininl-rning-Fredrik-Hegardt-mmrJtyaC\\lib\\site-packages\\zmq\\sugar\\socket.py:547\u001b[0m, in \u001b[0;36mSocket.send\u001b[1;34m(self, data, flags, copy, track, routing_id, group)\u001b[0m\n\u001b[0;32m    <a href='file:///c%3A/Users/fredr/.virtualenvs/Maskininl-rning-Fredrik-Hegardt-mmrJtyaC/lib/site-packages/zmq/sugar/socket.py?line=539'>540</a>\u001b[0m         data \u001b[39m=\u001b[39m zmq\u001b[39m.\u001b[39mFrame(\n\u001b[0;32m    <a href='file:///c%3A/Users/fredr/.virtualenvs/Maskininl-rning-Fredrik-Hegardt-mmrJtyaC/lib/site-packages/zmq/sugar/socket.py?line=540'>541</a>\u001b[0m             data,\n\u001b[0;32m    <a href='file:///c%3A/Users/fredr/.virtualenvs/Maskininl-rning-Fredrik-Hegardt-mmrJtyaC/lib/site-packages/zmq/sugar/socket.py?line=541'>542</a>\u001b[0m             track\u001b[39m=\u001b[39mtrack,\n\u001b[0;32m    <a href='file:///c%3A/Users/fredr/.virtualenvs/Maskininl-rning-Fredrik-Hegardt-mmrJtyaC/lib/site-packages/zmq/sugar/socket.py?line=542'>543</a>\u001b[0m             copy\u001b[39m=\u001b[39mcopy \u001b[39mor\u001b[39;00m \u001b[39mNone\u001b[39;00m,\n\u001b[0;32m    <a href='file:///c%3A/Users/fredr/.virtualenvs/Maskininl-rning-Fredrik-Hegardt-mmrJtyaC/lib/site-packages/zmq/sugar/socket.py?line=543'>544</a>\u001b[0m             copy_threshold\u001b[39m=\u001b[39m\u001b[39mself\u001b[39m\u001b[39m.\u001b[39mcopy_threshold,\n\u001b[0;32m    <a href='file:///c%3A/Users/fredr/.virtualenvs/Maskininl-rning-Fredrik-Hegardt-mmrJtyaC/lib/site-packages/zmq/sugar/socket.py?line=544'>545</a>\u001b[0m         )\n\u001b[0;32m    <a href='file:///c%3A/Users/fredr/.virtualenvs/Maskininl-rning-Fredrik-Hegardt-mmrJtyaC/lib/site-packages/zmq/sugar/socket.py?line=545'>546</a>\u001b[0m     data\u001b[39m.\u001b[39mgroup \u001b[39m=\u001b[39m group\n\u001b[1;32m--> <a href='file:///c%3A/Users/fredr/.virtualenvs/Maskininl-rning-Fredrik-Hegardt-mmrJtyaC/lib/site-packages/zmq/sugar/socket.py?line=546'>547</a>\u001b[0m \u001b[39mreturn\u001b[39;00m \u001b[39msuper\u001b[39;49m(Socket, \u001b[39mself\u001b[39;49m)\u001b[39m.\u001b[39;49msend(data, flags\u001b[39m=\u001b[39;49mflags, copy\u001b[39m=\u001b[39;49mcopy, track\u001b[39m=\u001b[39;49mtrack)\n",
      "File \u001b[1;32mzmq\\backend\\cython\\socket.pyx:718\u001b[0m, in \u001b[0;36mzmq.backend.cython.socket.Socket.send\u001b[1;34m()\u001b[0m\n",
      "File \u001b[1;32mzmq\\backend\\cython\\socket.pyx:765\u001b[0m, in \u001b[0;36mzmq.backend.cython.socket.Socket.send\u001b[1;34m()\u001b[0m\n",
      "File \u001b[1;32mzmq\\backend\\cython\\socket.pyx:242\u001b[0m, in \u001b[0;36mzmq.backend.cython.socket._send_copy\u001b[1;34m()\u001b[0m\n",
      "File \u001b[1;32m~\\.virtualenvs\\Maskininl-rning-Fredrik-Hegardt-mmrJtyaC\\lib\\site-packages\\zmq\\backend\\cython\\checkrc.pxd:13\u001b[0m, in \u001b[0;36mzmq.backend.cython.checkrc._check_rc\u001b[1;34m()\u001b[0m\n",
      "\u001b[1;31mKeyboardInterrupt\u001b[0m: "
     ]
    }
   ],
   "source": [
    "def recommender(movie_name, data, model, n_recommendations):\n",
    "    model.fit(data)\n",
    "    idx=process.extractOne(movie_name, movieData['title'])[2]\n",
    "    print(\"Movie Selected: \", movieData['title'][idx], \"Index: \",idx)\n",
    "    print(\"Searching for recommendations...\")\n",
    "    distances, indices = model.kneighbors(data[idx], n_neighbors=n_recommendations+1)\n",
    "    print(movieData.loc[indices[0][1:]])\n",
    "\n",
    "recommender('Shawshank redemption', mat_movies_users, model_knn, 5)"
   ]
  }
 ],
 "metadata": {
  "interpreter": {
   "hash": "20e36f013206a17ac568431002223843abac3dbb024288464e9b0a20eb5fb034"
  },
  "kernelspec": {
   "display_name": "Python 3.9.6 ('Maskininl-rning-Fredrik-Hegardt-mmrJtyaC')",
   "language": "python",
   "name": "python3"
  },
  "language_info": {
   "codemirror_mode": {
    "name": "ipython",
    "version": 3
   },
   "file_extension": ".py",
   "mimetype": "text/x-python",
   "name": "python",
   "nbconvert_exporter": "python",
   "pygments_lexer": "ipython3",
   "version": "3.9.6"
  },
  "orig_nbformat": 4
 },
 "nbformat": 4,
 "nbformat_minor": 2
}
