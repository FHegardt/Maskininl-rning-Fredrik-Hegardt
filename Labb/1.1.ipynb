{
 "cells": [
  {
   "cell_type": "code",
   "execution_count": 1,
   "metadata": {},
   "outputs": [
    {
     "data": {
      "text/html": [
       "<div>\n",
       "<style scoped>\n",
       "    .dataframe tbody tr th:only-of-type {\n",
       "        vertical-align: middle;\n",
       "    }\n",
       "\n",
       "    .dataframe tbody tr th {\n",
       "        vertical-align: top;\n",
       "    }\n",
       "\n",
       "    .dataframe thead th {\n",
       "        text-align: right;\n",
       "    }\n",
       "</style>\n",
       "<table border=\"1\" class=\"dataframe\">\n",
       "  <thead>\n",
       "    <tr style=\"text-align: right;\">\n",
       "      <th></th>\n",
       "      <th>movieId</th>\n",
       "      <th>title</th>\n",
       "      <th>genres</th>\n",
       "    </tr>\n",
       "  </thead>\n",
       "  <tbody>\n",
       "    <tr>\n",
       "      <th>0</th>\n",
       "      <td>1</td>\n",
       "      <td>Toy Story (1995)</td>\n",
       "      <td>Adventure|Animation|Children|Comedy|Fantasy</td>\n",
       "    </tr>\n",
       "    <tr>\n",
       "      <th>1</th>\n",
       "      <td>2</td>\n",
       "      <td>Jumanji (1995)</td>\n",
       "      <td>Adventure|Children|Fantasy</td>\n",
       "    </tr>\n",
       "    <tr>\n",
       "      <th>2</th>\n",
       "      <td>3</td>\n",
       "      <td>Grumpier Old Men (1995)</td>\n",
       "      <td>Comedy|Romance</td>\n",
       "    </tr>\n",
       "    <tr>\n",
       "      <th>3</th>\n",
       "      <td>4</td>\n",
       "      <td>Waiting to Exhale (1995)</td>\n",
       "      <td>Comedy|Drama|Romance</td>\n",
       "    </tr>\n",
       "    <tr>\n",
       "      <th>4</th>\n",
       "      <td>5</td>\n",
       "      <td>Father of the Bride Part II (1995)</td>\n",
       "      <td>Comedy</td>\n",
       "    </tr>\n",
       "  </tbody>\n",
       "</table>\n",
       "</div>"
      ],
      "text/plain": [
       "   movieId                               title  \\\n",
       "0        1                    Toy Story (1995)   \n",
       "1        2                      Jumanji (1995)   \n",
       "2        3             Grumpier Old Men (1995)   \n",
       "3        4            Waiting to Exhale (1995)   \n",
       "4        5  Father of the Bride Part II (1995)   \n",
       "\n",
       "                                        genres  \n",
       "0  Adventure|Animation|Children|Comedy|Fantasy  \n",
       "1                   Adventure|Children|Fantasy  \n",
       "2                               Comedy|Romance  \n",
       "3                         Comedy|Drama|Romance  \n",
       "4                                       Comedy  "
      ]
     },
     "execution_count": 1,
     "metadata": {},
     "output_type": "execute_result"
    }
   ],
   "source": [
    "#1 Reading in the csv-files\n",
    "import pandas as pd\n",
    "import matplotlib.pyplot as plt\n",
    "movieData= pd.read_csv('./Data/movies.csv', dtype={'movieId': 'int32', 'title': 'str'})\n",
    "ratingData = pd.read_csv('./Data/ratings.csv', dtype={'movieId': 'int32', 'title': 'str',})\n",
    "movieData.head()"
   ]
  },
  {
   "cell_type": "code",
   "execution_count": 2,
   "metadata": {},
   "outputs": [
    {
     "data": {
      "text/plain": [
       "[     movieId                             title       genres\n",
       " 315      318  Shawshank Redemption, The (1994)  Crime|Drama,\n",
       "      movieId                title                    genres\n",
       " 352      356  Forrest Gump (1994)  Comedy|Drama|Romance|War,\n",
       "      movieId                title                       genres\n",
       " 293      296  Pulp Fiction (1994)  Comedy|Crime|Drama|Thriller,\n",
       "      movieId                             title                 genres\n",
       " 587      593  Silence of the Lambs, The (1991)  Crime|Horror|Thriller,\n",
       "       movieId               title                  genres\n",
       " 2487     2571  Matrix, The (1999)  Action|Sci-Fi|Thriller,\n",
       "      movieId                                      title  \\\n",
       " 257      260  Star Wars: Episode IV - A New Hope (1977)   \n",
       " \n",
       "                       genres  \n",
       " 257  Action|Adventure|Sci-Fi  ,\n",
       "      movieId                 title                            genres\n",
       " 476      480  Jurassic Park (1993)  Action|Adventure|Sci-Fi|Thriller,\n",
       "      movieId                    title     genres\n",
       " 523      527  Schindler's List (1993)  Drama|War,\n",
       "      movieId              title            genres\n",
       " 108      110  Braveheart (1995)  Action|Drama|War,\n",
       "    movieId             title                                       genres\n",
       " 0        1  Toy Story (1995)  Adventure|Animation|Children|Comedy|Fantasy]"
      ]
     },
     "execution_count": 2,
     "metadata": {},
     "output_type": "execute_result"
    }
   ],
   "source": [
    "#1.1b Most rated movies\n",
    "nr_of_ratings_top_10 = ratingData[\"movieId\"].value_counts().sort_values(ascending=False)\n",
    "test = ratingData.iloc(axis=1)[:0].head(10)\n",
    "top10_list = []\n",
    "title_list = []\n",
    "for i in range(10):\n",
    "    top10_list.append(movieData.loc[movieData['movieId'] == nr_of_ratings_top_10.index[i]])\n",
    "    title_list.append(str(top10_list[i].title))\n",
    "top10_list"
   ]
  },
  {
   "cell_type": "code",
   "execution_count": 3,
   "metadata": {},
   "outputs": [
    {
     "name": "stdout",
     "output_type": "stream",
     "text": [
      "Average rating after taken account the top 10 most rated movies: 4.1\n"
     ]
    }
   ],
   "source": [
    "#1.1c Most rated movies\n",
    "sum_of_ratings = 0\n",
    "amount_of_ratings = 0\n",
    "average_rating_top_10_most_rated_movies = []\n",
    "for i in range(10):\n",
    "    temporary_list = ratingData[ratingData['movieId'] == nr_of_ratings_top_10.index[i]]\n",
    "    sum_of_ratings += sum(temporary_list[\"rating\"])\n",
    "    amount_of_ratings += nr_of_ratings_top_10.iloc[i]\n",
    "    average_rating_top_10_most_rated_movies.append(sum(temporary_list[\"rating\"])/nr_of_ratings_top_10.iloc[i])\n",
    "\n",
    "print(f\"Average rating after taken account the top 10 most rated movies: {sum_of_ratings/amount_of_ratings:.3}\")"
   ]
  },
  {
   "cell_type": "code",
   "execution_count": 4,
   "metadata": {},
   "outputs": [
    {
     "data": {
      "text/plain": [
       "<BarContainer object of 10 artists>"
      ]
     },
     "execution_count": 4,
     "metadata": {},
     "output_type": "execute_result"
    },
    {
     "data": {
      "image/png": "[encoded data removed]",
      "text/plain": [
       "<Figure size 432x288 with 1 Axes>"
      ]
     },
     "metadata": {
      "needs_background": "light"
     },
     "output_type": "display_data"
    }
   ],
   "source": [
    "plt.bar(x=title_list, height = average_rating_top_10_most_rated_movies)"
   ]
  },
  {
   "cell_type": "code",
   "execution_count": 5,
   "metadata": {},
   "outputs": [
    {
     "data": {
      "text/plain": [
       "1998      111\n",
       "1999      191\n",
       "1997      203\n",
       "1996      442\n",
       "2002      481\n",
       "2001      513\n",
       "2008      583\n",
       "2007      586\n",
       "2000      660\n",
       "2005      777\n",
       "2006      793\n",
       "2003      838\n",
       "2004      847\n",
       "2009     1266\n",
       "2010     1303\n",
       "2013     1366\n",
       "2012     1599\n",
       "2014     1673\n",
       "2011     2123\n",
       "2015     6295\n",
       "2016     8980\n",
       "2018     9801\n",
       "2017    12458\n",
       "Name: year, dtype: int64"
      ]
     },
     "execution_count": 5,
     "metadata": {},
     "output_type": "execute_result"
    }
   ],
   "source": [
    "from datetime import datetime\n",
    "listalist = []\n",
    "ratingData_timestamp = ratingData\n",
    "#testData[\"timestamp\"].iloc[0]\n",
    "ratingData_timestamp.drop_duplicates(subset =\"movieId\",\n",
    "                     keep = \"last\", inplace = True)\n",
    "\n",
    "for i in range(len(ratingData_timestamp[\"timestamp\"])):\n",
    "    listalist.append(datetime.fromtimestamp(ratingData_timestamp[\"timestamp\"].iloc[i], tz=None).year)\n",
    "\n",
    "\n",
    "\n",
    "ratingData_timestamp[\"year\"] = listalist\n",
    "\n",
    "ratings_per_year = ratingData_timestamp[\"year\"].value_counts()\n",
    "ratings_per_year = ratings_per_year.sort_values(axis = \"index\")\n",
    "ratings_per_year\n"
   ]
  },
  {
   "cell_type": "code",
   "execution_count": 6,
   "metadata": {},
   "outputs": [],
   "source": [
    "import re\n",
    "year_list = []\n",
    "for i in range(len(movieData[\"title\"])):\n",
    "    movieData[\"title\"].iloc[1]\n",
    "    X = re.findall('[0-9]+', movieData[\"title\"].iloc[i])\n",
    "    try:    \n",
    "        if int(X[0]) > 1870 and int(X[0]) < 2023: \n",
    "           year_list.append(int(X[0]))\n",
    "    except IndexError:\n",
    "            year_list.append(0)\n"
   ]
  },
  {
   "cell_type": "code",
   "execution_count": 7,
   "metadata": {},
   "outputs": [
    {
     "name": "stderr",
     "output_type": "stream",
     "text": [
      "C:\\Users\\fredr\\AppData\\Local\\Temp\\ipykernel_36724\\2356741690.py:3: PerformanceWarning: dropping on a non-lexsorted multi-index without a level parameter may impact performance.\n",
      "  test = test.drop(0)\n"
     ]
    },
    {
     "ename": "TypeError",
     "evalue": "bar() missing 1 required positional argument: 'height'",
     "output_type": "error",
     "traceback": [
      "\u001b[1;31m---------------------------------------------------------------------------\u001b[0m",
      "\u001b[1;31mTypeError\u001b[0m                                 Traceback (most recent call last)",
      "\u001b[1;32mc:\\Users\\fredr\\OneDrive\\Documents\\GitHub\\Maskininl-rning-Fredrik-Hegardt\\Labb\\1.1.ipynb Cell 7'\u001b[0m in \u001b[0;36m<cell line: 5>\u001b[1;34m()\u001b[0m\n\u001b[0;32m      <a href='vscode-notebook-cell:/c%3A/Users/fredr/OneDrive/Documents/GitHub/Maskininl-rning-Fredrik-Hegardt/Labb/1.1.ipynb#ch0000006?line=2'>3</a>\u001b[0m test \u001b[39m=\u001b[39m test\u001b[39m.\u001b[39mdrop(\u001b[39m0\u001b[39m)\n\u001b[0;32m      <a href='vscode-notebook-cell:/c%3A/Users/fredr/OneDrive/Documents/GitHub/Maskininl-rning-Fredrik-Hegardt/Labb/1.1.ipynb#ch0000006?line=3'>4</a>\u001b[0m test \u001b[39m=\u001b[39m test\u001b[39m.\u001b[39msort_index()\n\u001b[1;32m----> <a href='vscode-notebook-cell:/c%3A/Users/fredr/OneDrive/Documents/GitHub/Maskininl-rning-Fredrik-Hegardt/Labb/1.1.ipynb#ch0000006?line=4'>5</a>\u001b[0m plt\u001b[39m.\u001b[39;49mbar(test)\n",
      "\u001b[1;31mTypeError\u001b[0m: bar() missing 1 required positional argument: 'height'"
     ]
    }
   ],
   "source": [
    "import seaborn as sns\n",
    "test = pd.DataFrame(year_list).value_counts()\n",
    "test = test.drop(0)\n",
    "test = test.sort_index()\n",
    "plt.bar(test)"
   ]
  },
  {
   "cell_type": "code",
   "execution_count": null,
   "metadata": {},
   "outputs": [
    {
     "data": {
      "text/plain": [
       "[<matplotlib.lines.Line2D at 0x21a13afdac0>]"
      ]
     },
     "execution_count": 48,
     "metadata": {},
     "output_type": "execute_result"
    },
    {
     "data": {
      "image/png": "[encoded data removed]",
      "text/plain": [
       "<Figure size 432x288 with 1 Axes>"
      ]
     },
     "metadata": {
      "needs_background": "light"
     },
     "output_type": "display_data"
    }
   ],
   "source": [
    "ratingData = pd.read_csv('./Data/ratings.csv', dtype={'movieId': 'int32', 'title': 'str',})\n",
    "nr_of_ratings_per_movie_id = ratingData[\"movieId\"].value_counts().sort_values(ascending=False)\n",
    "nr_of_ratings_per_movie_id\n",
    "\n",
    "\n",
    "\n",
    "plt.plot(nr_of_ratings_per_movie_id, \".\")"
   ]
  }
 ],
 "metadata": {
  "interpreter": {
   "hash": "20e36f013206a17ac568431002223843abac3dbb024288464e9b0a20eb5fb034"
  },
  "kernelspec": {
   "display_name": "Python 3.9.6 ('Maskininl-rning-Fredrik-Hegardt-mmrJtyaC')",
   "language": "python",
   "name": "python3"
  },
  "language_info": {
   "codemirror_mode": {
    "name": "ipython",
    "version": 3
   },
   "file_extension": ".py",
   "mimetype": "text/x-python",
   "name": "python",
   "nbconvert_exporter": "python",
   "pygments_lexer": "ipython3",
   "version": "3.9.6"
  },
  "orig_nbformat": 4
 },
 "nbformat": 4,
 "nbformat_minor": 2
}
