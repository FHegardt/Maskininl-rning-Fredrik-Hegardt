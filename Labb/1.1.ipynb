{
 "cells": [
  {
   "cell_type": "code",
   "execution_count": 7,
   "metadata": {},
   "outputs": [
    {
     "data": {
      "text/html": [
       "<div>\n",
       "<style scoped>\n",
       "    .dataframe tbody tr th:only-of-type {\n",
       "        vertical-align: middle;\n",
       "    }\n",
       "\n",
       "    .dataframe tbody tr th {\n",
       "        vertical-align: top;\n",
       "    }\n",
       "\n",
       "    .dataframe thead th {\n",
       "        text-align: right;\n",
       "    }\n",
       "</style>\n",
       "<table border=\"1\" class=\"dataframe\">\n",
       "  <thead>\n",
       "    <tr style=\"text-align: right;\">\n",
       "      <th></th>\n",
       "      <th>userId</th>\n",
       "      <th>movieId</th>\n",
       "      <th>rating</th>\n",
       "      <th>timestamp</th>\n",
       "    </tr>\n",
       "  </thead>\n",
       "  <tbody>\n",
       "    <tr>\n",
       "      <th>0</th>\n",
       "      <td>1</td>\n",
       "      <td>307</td>\n",
       "      <td>3.5</td>\n",
       "      <td>1256677221</td>\n",
       "    </tr>\n",
       "    <tr>\n",
       "      <th>1</th>\n",
       "      <td>1</td>\n",
       "      <td>481</td>\n",
       "      <td>3.5</td>\n",
       "      <td>1256677456</td>\n",
       "    </tr>\n",
       "    <tr>\n",
       "      <th>2</th>\n",
       "      <td>1</td>\n",
       "      <td>1091</td>\n",
       "      <td>1.5</td>\n",
       "      <td>1256677471</td>\n",
       "    </tr>\n",
       "    <tr>\n",
       "      <th>3</th>\n",
       "      <td>1</td>\n",
       "      <td>1257</td>\n",
       "      <td>4.5</td>\n",
       "      <td>1256677460</td>\n",
       "    </tr>\n",
       "    <tr>\n",
       "      <th>4</th>\n",
       "      <td>1</td>\n",
       "      <td>1449</td>\n",
       "      <td>4.5</td>\n",
       "      <td>1256677264</td>\n",
       "    </tr>\n",
       "  </tbody>\n",
       "</table>\n",
       "</div>"
      ],
      "text/plain": [
       "   userId  movieId  rating   timestamp\n",
       "0       1      307     3.5  1256677221\n",
       "1       1      481     3.5  1256677456\n",
       "2       1     1091     1.5  1256677471\n",
       "3       1     1257     4.5  1256677460\n",
       "4       1     1449     4.5  1256677264"
      ]
     },
     "execution_count": 7,
     "metadata": {},
     "output_type": "execute_result"
    }
   ],
   "source": [
    "#1 Reading in the csv-files\n",
    "import pandas as pd\n",
    "movieData= pd.read_csv('./Data/movies.csv', dtype={'movieId': 'int32', 'title': 'str'})\n",
    "ratingData = pd.read_csv('./Data/ratings.csv', dtype={'movieId': 'int32', 'title': 'str',})\n",
    "ratingData.head()"
   ]
  },
  {
   "cell_type": "code",
   "execution_count": 8,
   "metadata": {},
   "outputs": [
    {
     "name": "stdout",
     "output_type": "stream",
     "text": [
      "     movieId                             title       genres\n",
      "315      318  Shawshank Redemption, The (1994)  Crime|Drama\n",
      " \n",
      "     movieId                title                    genres\n",
      "352      356  Forrest Gump (1994)  Comedy|Drama|Romance|War\n",
      " \n",
      "     movieId                title                       genres\n",
      "293      296  Pulp Fiction (1994)  Comedy|Crime|Drama|Thriller\n",
      " \n",
      "     movieId                             title                 genres\n",
      "587      593  Silence of the Lambs, The (1991)  Crime|Horror|Thriller\n",
      " \n",
      "      movieId               title                  genres\n",
      "2487     2571  Matrix, The (1999)  Action|Sci-Fi|Thriller\n",
      " \n",
      "     movieId                                      title  \\\n",
      "257      260  Star Wars: Episode IV - A New Hope (1977)   \n",
      "\n",
      "                      genres  \n",
      "257  Action|Adventure|Sci-Fi  \n",
      " \n",
      "     movieId                 title                            genres\n",
      "476      480  Jurassic Park (1993)  Action|Adventure|Sci-Fi|Thriller\n",
      " \n",
      "     movieId                    title     genres\n",
      "523      527  Schindler's List (1993)  Drama|War\n",
      " \n",
      "     movieId              title            genres\n",
      "108      110  Braveheart (1995)  Action|Drama|War\n",
      " \n",
      "   movieId             title                                       genres\n",
      "0        1  Toy Story (1995)  Adventure|Animation|Children|Comedy|Fantasy\n",
      " \n"
     ]
    }
   ],
   "source": [
    "#1.1b Most rated movies\n",
    "nr_of_ratings_top_10 = ratingData[\"movieId\"].value_counts().sort_values(ascending=False)\n",
    "test = ratingData.iloc(axis=1)[:0].head(10)\n",
    "for i in range(10):\n",
    "    print(movieData.loc[movieData['movieId'] == nr_of_ratings_top_10.index[i]])\n",
    "    print(\" \")"
   ]
  },
  {
   "cell_type": "code",
   "execution_count": 9,
   "metadata": {},
   "outputs": [
    {
     "name": "stdout",
     "output_type": "stream",
     "text": [
      "Average rating after taken account 1 of the top 10 most rated movies: 4.42\n",
      "Average rating after taken account 2 of the top 10 most rated movies: 4.24\n",
      "Average rating after taken account 3 of the top 10 most rated movies: 4.22\n",
      "Average rating after taken account 4 of the top 10 most rated movies: 4.2\n",
      "Average rating after taken account 5 of the top 10 most rated movies: 4.19\n",
      "Average rating after taken account 6 of the top 10 most rated movies: 4.18\n",
      "Average rating after taken account 7 of the top 10 most rated movies: 4.12\n",
      "Average rating after taken account 8 of the top 10 most rated movies: 4.13\n",
      "Average rating after taken account 9 of the top 10 most rated movies: 4.12\n",
      "Average rating after taken account 10 of the top 10 most rated movies: 4.1\n"
     ]
    }
   ],
   "source": [
    "#1.1c Most rated movies\n",
    "sum_of_ratings = 0\n",
    "amount_of_ratings = 0\n",
    "for i in range(10):\n",
    "    temporary_list = ratingData[ratingData['movieId'] == nr_of_ratings_top_10.index[i]]\n",
    "    sum_of_ratings += sum(temporary_list[\"rating\"])\n",
    "    amount_of_ratings += nr_of_ratings_top_10.iloc[i]\n",
    "    print(f\"Average rating after taken account {i+1} of the top 10 most rated movies: {sum_of_ratings/amount_of_ratings:.3}\")"
   ]
  }
 ],
 "metadata": {
  "interpreter": {
   "hash": "20e36f013206a17ac568431002223843abac3dbb024288464e9b0a20eb5fb034"
  },
  "kernelspec": {
   "display_name": "Python 3.9.6 ('Maskininl-rning-Fredrik-Hegardt-mmrJtyaC')",
   "language": "python",
   "name": "python3"
  },
  "language_info": {
   "codemirror_mode": {
    "name": "ipython",
    "version": 3
   },
   "file_extension": ".py",
   "mimetype": "text/x-python",
   "name": "python",
   "nbconvert_exporter": "python",
   "pygments_lexer": "ipython3",
   "version": "3.9.6"
  },
  "orig_nbformat": 4
 },
 "nbformat": 4,
 "nbformat_minor": 2
}
