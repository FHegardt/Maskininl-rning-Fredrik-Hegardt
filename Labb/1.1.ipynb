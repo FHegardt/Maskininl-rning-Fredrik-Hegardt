{
 "cells": [
  {
   "cell_type": "code",
   "execution_count": null,
   "metadata": {},
   "outputs": [],
   "source": [
    "import pandas as pd\n",
    "movieData= pd.read_csv('./Data/movies_big.csv', dtype={'movieId': 'int32', 'title': 'str'})\n",
    "ratingData = pd.read_csv('./Data/ratings_big.csv', dtype={'movieId': 'int32', 'title': 'str',})\n",
    "ratingData.head()\n",
    "\n",
    "nr_of_ratings_top_10 = ratingData[\"movieId\"].value_counts().sort_values(ascending=False)\n",
    "\n",
    "test = ratingData.iloc(axis=1)[:0].head(10)\n",
    "for i in range(10):\n",
    "    print(movieData.loc[movieData['movieId'] == nr_of_ratings_top_10.index[i]])\n",
    "    print(\" \")\n",
    "    \n",
    "sum_of_ratings = 0\n",
    "amount_of_ratings = 0\n",
    "for i in range(10):\n",
    "    temporary_list = ratingData[ratingData['movieId'] == nr_of_ratings_top_10.index[i]]\n",
    "    sum_of_ratings += sum(temporary_list[\"rating\"])\n",
    "    amount_of_ratings += nr_of_ratings_top_10.iloc[i]\n",
    "    print(f\"Average rating after taken account {i+1} of the top 10 most rated movies: {sum_of_ratings/amount_of_ratings:.3}\")\n",
    "    "
   ]
  }
 ],
 "metadata": {
  "language_info": {
   "name": "python"
  },
  "orig_nbformat": 4
 },
 "nbformat": 4,
 "nbformat_minor": 2
}
