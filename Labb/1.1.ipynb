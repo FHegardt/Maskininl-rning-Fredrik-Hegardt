{
 "cells": [
  {
   "cell_type": "code",
   "execution_count": 12,
   "metadata": {},
   "outputs": [
    {
     "data": {
      "text/html": [
       "<div>\n",
       "<style scoped>\n",
       "    .dataframe tbody tr th:only-of-type {\n",
       "        vertical-align: middle;\n",
       "    }\n",
       "\n",
       "    .dataframe tbody tr th {\n",
       "        vertical-align: top;\n",
       "    }\n",
       "\n",
       "    .dataframe thead th {\n",
       "        text-align: right;\n",
       "    }\n",
       "</style>\n",
       "<table border=\"1\" class=\"dataframe\">\n",
       "  <thead>\n",
       "    <tr style=\"text-align: right;\">\n",
       "      <th></th>\n",
       "      <th>movieId</th>\n",
       "      <th>title</th>\n",
       "      <th>genres</th>\n",
       "    </tr>\n",
       "  </thead>\n",
       "  <tbody>\n",
       "    <tr>\n",
       "      <th>0</th>\n",
       "      <td>1</td>\n",
       "      <td>Toy Story (1995)</td>\n",
       "      <td>Adventure|Animation|Children|Comedy|Fantasy</td>\n",
       "    </tr>\n",
       "    <tr>\n",
       "      <th>1</th>\n",
       "      <td>2</td>\n",
       "      <td>Jumanji (1995)</td>\n",
       "      <td>Adventure|Children|Fantasy</td>\n",
       "    </tr>\n",
       "    <tr>\n",
       "      <th>2</th>\n",
       "      <td>3</td>\n",
       "      <td>Grumpier Old Men (1995)</td>\n",
       "      <td>Comedy|Romance</td>\n",
       "    </tr>\n",
       "    <tr>\n",
       "      <th>3</th>\n",
       "      <td>4</td>\n",
       "      <td>Waiting to Exhale (1995)</td>\n",
       "      <td>Comedy|Drama|Romance</td>\n",
       "    </tr>\n",
       "    <tr>\n",
       "      <th>4</th>\n",
       "      <td>5</td>\n",
       "      <td>Father of the Bride Part II (1995)</td>\n",
       "      <td>Comedy</td>\n",
       "    </tr>\n",
       "  </tbody>\n",
       "</table>\n",
       "</div>"
      ],
      "text/plain": [
       "   movieId                               title  \\\n",
       "0        1                    Toy Story (1995)   \n",
       "1        2                      Jumanji (1995)   \n",
       "2        3             Grumpier Old Men (1995)   \n",
       "3        4            Waiting to Exhale (1995)   \n",
       "4        5  Father of the Bride Part II (1995)   \n",
       "\n",
       "                                        genres  \n",
       "0  Adventure|Animation|Children|Comedy|Fantasy  \n",
       "1                   Adventure|Children|Fantasy  \n",
       "2                               Comedy|Romance  \n",
       "3                         Comedy|Drama|Romance  \n",
       "4                                       Comedy  "
      ]
     },
     "execution_count": 12,
     "metadata": {},
     "output_type": "execute_result"
    }
   ],
   "source": [
    "#1 Reading in the csv-files\n",
    "import pandas as pd\n",
    "movieData= pd.read_csv('./Data/movies.csv', dtype={'movieId': 'int32', 'title': 'str'})\n",
    "ratingData = pd.read_csv('./Data/ratings.csv', dtype={'movieId': 'int32', 'title': 'str',})\n",
    "movieData.head()"
   ]
  },
  {
   "cell_type": "code",
   "execution_count": 8,
   "metadata": {},
   "outputs": [
    {
     "name": "stdout",
     "output_type": "stream",
     "text": [
      "     movieId                             title       genres\n",
      "315      318  Shawshank Redemption, The (1994)  Crime|Drama\n",
      " \n",
      "     movieId                title                    genres\n",
      "352      356  Forrest Gump (1994)  Comedy|Drama|Romance|War\n",
      " \n",
      "     movieId                title                       genres\n",
      "293      296  Pulp Fiction (1994)  Comedy|Crime|Drama|Thriller\n",
      " \n",
      "     movieId                             title                 genres\n",
      "587      593  Silence of the Lambs, The (1991)  Crime|Horror|Thriller\n",
      " \n",
      "      movieId               title                  genres\n",
      "2487     2571  Matrix, The (1999)  Action|Sci-Fi|Thriller\n",
      " \n",
      "     movieId                                      title  \\\n",
      "257      260  Star Wars: Episode IV - A New Hope (1977)   \n",
      "\n",
      "                      genres  \n",
      "257  Action|Adventure|Sci-Fi  \n",
      " \n",
      "     movieId                 title                            genres\n",
      "476      480  Jurassic Park (1993)  Action|Adventure|Sci-Fi|Thriller\n",
      " \n",
      "     movieId                    title     genres\n",
      "523      527  Schindler's List (1993)  Drama|War\n",
      " \n",
      "     movieId              title            genres\n",
      "108      110  Braveheart (1995)  Action|Drama|War\n",
      " \n",
      "   movieId             title                                       genres\n",
      "0        1  Toy Story (1995)  Adventure|Animation|Children|Comedy|Fantasy\n",
      " \n"
     ]
    }
   ],
   "source": [
    "#1.1b Most rated movies\n",
    "nr_of_ratings_top_10 = ratingData[\"movieId\"].value_counts().sort_values(ascending=False)\n",
    "test = ratingData.iloc(axis=1)[:0].head(10)\n",
    "for i in range(10):\n",
    "    print(movieData.loc[movieData['movieId'] == nr_of_ratings_top_10.index[i]])\n",
    "    print(\" \")"
   ]
  },
  {
   "cell_type": "code",
   "execution_count": 9,
   "metadata": {},
   "outputs": [
    {
     "name": "stdout",
     "output_type": "stream",
     "text": [
      "Average rating after taken account 1 of the top 10 most rated movies: 4.42\n",
      "Average rating after taken account 2 of the top 10 most rated movies: 4.24\n",
      "Average rating after taken account 3 of the top 10 most rated movies: 4.22\n",
      "Average rating after taken account 4 of the top 10 most rated movies: 4.2\n",
      "Average rating after taken account 5 of the top 10 most rated movies: 4.19\n",
      "Average rating after taken account 6 of the top 10 most rated movies: 4.18\n",
      "Average rating after taken account 7 of the top 10 most rated movies: 4.12\n",
      "Average rating after taken account 8 of the top 10 most rated movies: 4.13\n",
      "Average rating after taken account 9 of the top 10 most rated movies: 4.12\n",
      "Average rating after taken account 10 of the top 10 most rated movies: 4.1\n"
     ]
    }
   ],
   "source": [
    "#1.1c Most rated movies\n",
    "sum_of_ratings = 0\n",
    "amount_of_ratings = 0\n",
    "for i in range(10):\n",
    "    temporary_list = ratingData[ratingData['movieId'] == nr_of_ratings_top_10.index[i]]\n",
    "    sum_of_ratings += sum(temporary_list[\"rating\"])\n",
    "    amount_of_ratings += nr_of_ratings_top_10.iloc[i]\n",
    "    print(f\"Average rating after taken account {i+1} of the top 10 most rated movies: {sum_of_ratings/amount_of_ratings:.3}\")"
   ]
  },
  {
   "cell_type": "code",
   "execution_count": 40,
   "metadata": {},
   "outputs": [
    {
     "ename": "KeyboardInterrupt",
     "evalue": "",
     "output_type": "error",
     "traceback": [
      "\u001b[1;31m---------------------------------------------------------------------------\u001b[0m",
      "\u001b[1;31mKeyboardInterrupt\u001b[0m                         Traceback (most recent call last)",
      "\u001b[1;32mc:\\Users\\fredr\\OneDrive\\Documents\\GitHub\\Maskininl-rning-Fredrik-Hegardt\\Labb\\1.1.ipynb Cell 4'\u001b[0m in \u001b[0;36m<cell line: 4>\u001b[1;34m()\u001b[0m\n\u001b[0;32m      <a href='vscode-notebook-cell:/c%3A/Users/fredr/OneDrive/Documents/GitHub/Maskininl-rning-Fredrik-Hegardt/Labb/1.1.ipynb#ch0000004?line=2'>3</a>\u001b[0m testData \u001b[39m=\u001b[39m ratingData\n\u001b[0;32m      <a href='vscode-notebook-cell:/c%3A/Users/fredr/OneDrive/Documents/GitHub/Maskininl-rning-Fredrik-Hegardt/Labb/1.1.ipynb#ch0000004?line=3'>4</a>\u001b[0m \u001b[39mfor\u001b[39;00m i \u001b[39min\u001b[39;00m \u001b[39mrange\u001b[39m(\u001b[39mlen\u001b[39m(testData[\u001b[39m\"\u001b[39m\u001b[39mtimestamp\u001b[39m\u001b[39m\"\u001b[39m])):\n\u001b[1;32m----> <a href='vscode-notebook-cell:/c%3A/Users/fredr/OneDrive/Documents/GitHub/Maskininl-rning-Fredrik-Hegardt/Labb/1.1.ipynb#ch0000004?line=4'>5</a>\u001b[0m     listalist\u001b[39m.\u001b[39mappend(datetime\u001b[39m.\u001b[39mfromtimestamp(testData[\u001b[39m\"\u001b[39;49m\u001b[39mtimestamp\u001b[39;49m\u001b[39m\"\u001b[39;49m][i], tz\u001b[39m=\u001b[39m\u001b[39mNone\u001b[39;00m)\u001b[39m.\u001b[39myear)\n\u001b[0;32m      <a href='vscode-notebook-cell:/c%3A/Users/fredr/OneDrive/Documents/GitHub/Maskininl-rning-Fredrik-Hegardt/Labb/1.1.ipynb#ch0000004?line=6'>7</a>\u001b[0m listalist\n",
      "File \u001b[1;32m~\\.virtualenvs\\Maskininl-rning-Fredrik-Hegardt-mmrJtyaC\\lib\\site-packages\\pandas\\core\\frame.py:3464\u001b[0m, in \u001b[0;36mDataFrame.__getitem__\u001b[1;34m(self, key)\u001b[0m\n\u001b[0;32m   <a href='file:///c%3A/Users/fredr/.virtualenvs/Maskininl-rning-Fredrik-Hegardt-mmrJtyaC/lib/site-packages/pandas/core/frame.py?line=3462'>3463</a>\u001b[0m \u001b[39mdef\u001b[39;00m \u001b[39m__getitem__\u001b[39m(\u001b[39mself\u001b[39m, key):\n\u001b[1;32m-> <a href='file:///c%3A/Users/fredr/.virtualenvs/Maskininl-rning-Fredrik-Hegardt-mmrJtyaC/lib/site-packages/pandas/core/frame.py?line=3463'>3464</a>\u001b[0m     check_deprecated_indexers(key)\n\u001b[0;32m   <a href='file:///c%3A/Users/fredr/.virtualenvs/Maskininl-rning-Fredrik-Hegardt-mmrJtyaC/lib/site-packages/pandas/core/frame.py?line=3464'>3465</a>\u001b[0m     key \u001b[39m=\u001b[39m lib\u001b[39m.\u001b[39mitem_from_zerodim(key)\n\u001b[0;32m   <a href='file:///c%3A/Users/fredr/.virtualenvs/Maskininl-rning-Fredrik-Hegardt-mmrJtyaC/lib/site-packages/pandas/core/frame.py?line=3465'>3466</a>\u001b[0m     key \u001b[39m=\u001b[39m com\u001b[39m.\u001b[39mapply_if_callable(key, \u001b[39mself\u001b[39m)\n",
      "File \u001b[1;32m~\\.virtualenvs\\Maskininl-rning-Fredrik-Hegardt-mmrJtyaC\\lib\\site-packages\\pandas\\core\\indexing.py:2478\u001b[0m, in \u001b[0;36mcheck_deprecated_indexers\u001b[1;34m(key)\u001b[0m\n\u001b[0;32m   <a href='file:///c%3A/Users/fredr/.virtualenvs/Maskininl-rning-Fredrik-Hegardt-mmrJtyaC/lib/site-packages/pandas/core/indexing.py?line=2473'>2474</a>\u001b[0m \u001b[39mdef\u001b[39;00m \u001b[39mcheck_deprecated_indexers\u001b[39m(key) \u001b[39m-\u001b[39m\u001b[39m>\u001b[39m \u001b[39mNone\u001b[39;00m:\n\u001b[0;32m   <a href='file:///c%3A/Users/fredr/.virtualenvs/Maskininl-rning-Fredrik-Hegardt-mmrJtyaC/lib/site-packages/pandas/core/indexing.py?line=2474'>2475</a>\u001b[0m     \u001b[39m\"\"\"Checks if the key is a deprecated indexer.\"\"\"\u001b[39;00m\n\u001b[0;32m   <a href='file:///c%3A/Users/fredr/.virtualenvs/Maskininl-rning-Fredrik-Hegardt-mmrJtyaC/lib/site-packages/pandas/core/indexing.py?line=2475'>2476</a>\u001b[0m     \u001b[39mif\u001b[39;00m (\n\u001b[0;32m   <a href='file:///c%3A/Users/fredr/.virtualenvs/Maskininl-rning-Fredrik-Hegardt-mmrJtyaC/lib/site-packages/pandas/core/indexing.py?line=2476'>2477</a>\u001b[0m         \u001b[39misinstance\u001b[39m(key, \u001b[39mset\u001b[39m)\n\u001b[1;32m-> <a href='file:///c%3A/Users/fredr/.virtualenvs/Maskininl-rning-Fredrik-Hegardt-mmrJtyaC/lib/site-packages/pandas/core/indexing.py?line=2477'>2478</a>\u001b[0m         \u001b[39mor\u001b[39;00m \u001b[39misinstance\u001b[39;49m(key, \u001b[39mtuple\u001b[39m)\n\u001b[0;32m   <a href='file:///c%3A/Users/fredr/.virtualenvs/Maskininl-rning-Fredrik-Hegardt-mmrJtyaC/lib/site-packages/pandas/core/indexing.py?line=2478'>2479</a>\u001b[0m         \u001b[39mand\u001b[39;00m \u001b[39many\u001b[39m(\u001b[39misinstance\u001b[39m(x, \u001b[39mset\u001b[39m) \u001b[39mfor\u001b[39;00m x \u001b[39min\u001b[39;00m key)\n\u001b[0;32m   <a href='file:///c%3A/Users/fredr/.virtualenvs/Maskininl-rning-Fredrik-Hegardt-mmrJtyaC/lib/site-packages/pandas/core/indexing.py?line=2479'>2480</a>\u001b[0m     ):\n\u001b[0;32m   <a href='file:///c%3A/Users/fredr/.virtualenvs/Maskininl-rning-Fredrik-Hegardt-mmrJtyaC/lib/site-packages/pandas/core/indexing.py?line=2480'>2481</a>\u001b[0m         warnings\u001b[39m.\u001b[39mwarn(\n\u001b[0;32m   <a href='file:///c%3A/Users/fredr/.virtualenvs/Maskininl-rning-Fredrik-Hegardt-mmrJtyaC/lib/site-packages/pandas/core/indexing.py?line=2481'>2482</a>\u001b[0m             \u001b[39m\"\u001b[39m\u001b[39mPassing a set as an indexer is deprecated and will raise in \u001b[39m\u001b[39m\"\u001b[39m\n\u001b[0;32m   <a href='file:///c%3A/Users/fredr/.virtualenvs/Maskininl-rning-Fredrik-Hegardt-mmrJtyaC/lib/site-packages/pandas/core/indexing.py?line=2482'>2483</a>\u001b[0m             \u001b[39m\"\u001b[39m\u001b[39ma future version. Use a list instead.\u001b[39m\u001b[39m\"\u001b[39m,\n\u001b[0;32m   <a href='file:///c%3A/Users/fredr/.virtualenvs/Maskininl-rning-Fredrik-Hegardt-mmrJtyaC/lib/site-packages/pandas/core/indexing.py?line=2483'>2484</a>\u001b[0m             \u001b[39mFutureWarning\u001b[39;00m,\n\u001b[0;32m   <a href='file:///c%3A/Users/fredr/.virtualenvs/Maskininl-rning-Fredrik-Hegardt-mmrJtyaC/lib/site-packages/pandas/core/indexing.py?line=2484'>2485</a>\u001b[0m             stacklevel\u001b[39m=\u001b[39mfind_stack_level(),\n\u001b[0;32m   <a href='file:///c%3A/Users/fredr/.virtualenvs/Maskininl-rning-Fredrik-Hegardt-mmrJtyaC/lib/site-packages/pandas/core/indexing.py?line=2485'>2486</a>\u001b[0m         )\n\u001b[0;32m   <a href='file:///c%3A/Users/fredr/.virtualenvs/Maskininl-rning-Fredrik-Hegardt-mmrJtyaC/lib/site-packages/pandas/core/indexing.py?line=2486'>2487</a>\u001b[0m     \u001b[39mif\u001b[39;00m (\n\u001b[0;32m   <a href='file:///c%3A/Users/fredr/.virtualenvs/Maskininl-rning-Fredrik-Hegardt-mmrJtyaC/lib/site-packages/pandas/core/indexing.py?line=2487'>2488</a>\u001b[0m         \u001b[39misinstance\u001b[39m(key, \u001b[39mdict\u001b[39m)\n\u001b[0;32m   <a href='file:///c%3A/Users/fredr/.virtualenvs/Maskininl-rning-Fredrik-Hegardt-mmrJtyaC/lib/site-packages/pandas/core/indexing.py?line=2488'>2489</a>\u001b[0m         \u001b[39mor\u001b[39;00m \u001b[39misinstance\u001b[39m(key, \u001b[39mtuple\u001b[39m)\n\u001b[0;32m   <a href='file:///c%3A/Users/fredr/.virtualenvs/Maskininl-rning-Fredrik-Hegardt-mmrJtyaC/lib/site-packages/pandas/core/indexing.py?line=2489'>2490</a>\u001b[0m         \u001b[39mand\u001b[39;00m \u001b[39many\u001b[39m(\u001b[39misinstance\u001b[39m(x, \u001b[39mdict\u001b[39m) \u001b[39mfor\u001b[39;00m x \u001b[39min\u001b[39;00m key)\n\u001b[0;32m   <a href='file:///c%3A/Users/fredr/.virtualenvs/Maskininl-rning-Fredrik-Hegardt-mmrJtyaC/lib/site-packages/pandas/core/indexing.py?line=2490'>2491</a>\u001b[0m     ):\n",
      "\u001b[1;31mKeyboardInterrupt\u001b[0m: "
     ]
    }
   ],
   "source": [
    "from datetime import datetime\n",
    "listalist = []\n",
    "testData = ratingData\n",
    "for i in range(len(testData[\"timestamp\"])):\n",
    "    listalist.append(datetime.fromtimestamp(testData[\"timestamp\"][i], tz=None).year)\n",
    "\n",
    "listalist\n"
   ]
  }
 ],
 "metadata": {
  "interpreter": {
   "hash": "20e36f013206a17ac568431002223843abac3dbb024288464e9b0a20eb5fb034"
  },
  "kernelspec": {
   "display_name": "Python 3.9.6 ('Maskininl-rning-Fredrik-Hegardt-mmrJtyaC')",
   "language": "python",
   "name": "python3"
  },
  "language_info": {
   "codemirror_mode": {
    "name": "ipython",
    "version": 3
   },
   "file_extension": ".py",
   "mimetype": "text/x-python",
   "name": "python",
   "nbconvert_exporter": "python",
   "pygments_lexer": "ipython3",
   "version": "3.9.6"
  },
  "orig_nbformat": 4
 },
 "nbformat": 4,
 "nbformat_minor": 2
}
