{
 "cells": [
  {
   "cell_type": "markdown",
   "metadata": {},
   "source": [
    "## 1.2 Skapa gles matris"
   ]
  },
  {
   "cell_type": "code",
   "execution_count": 13,
   "metadata": {},
   "outputs": [
    {
     "data": {
      "text/html": [
       "<div>\n",
       "<style scoped>\n",
       "    .dataframe tbody tr th:only-of-type {\n",
       "        vertical-align: middle;\n",
       "    }\n",
       "\n",
       "    .dataframe tbody tr th {\n",
       "        vertical-align: top;\n",
       "    }\n",
       "\n",
       "    .dataframe thead th {\n",
       "        text-align: right;\n",
       "    }\n",
       "</style>\n",
       "<table border=\"1\" class=\"dataframe\">\n",
       "  <thead>\n",
       "    <tr style=\"text-align: right;\">\n",
       "      <th></th>\n",
       "      <th>userId</th>\n",
       "      <th>movieId</th>\n",
       "      <th>rating</th>\n",
       "    </tr>\n",
       "  </thead>\n",
       "  <tbody>\n",
       "    <tr>\n",
       "      <th>0</th>\n",
       "      <td>1</td>\n",
       "      <td>307</td>\n",
       "      <td>3.5</td>\n",
       "    </tr>\n",
       "    <tr>\n",
       "      <th>1</th>\n",
       "      <td>1</td>\n",
       "      <td>481</td>\n",
       "      <td>3.5</td>\n",
       "    </tr>\n",
       "    <tr>\n",
       "      <th>2</th>\n",
       "      <td>1</td>\n",
       "      <td>1091</td>\n",
       "      <td>1.5</td>\n",
       "    </tr>\n",
       "    <tr>\n",
       "      <th>3</th>\n",
       "      <td>1</td>\n",
       "      <td>1257</td>\n",
       "      <td>4.5</td>\n",
       "    </tr>\n",
       "    <tr>\n",
       "      <th>4</th>\n",
       "      <td>1</td>\n",
       "      <td>1449</td>\n",
       "      <td>4.5</td>\n",
       "    </tr>\n",
       "  </tbody>\n",
       "</table>\n",
       "</div>"
      ],
      "text/plain": [
       "   userId  movieId  rating\n",
       "0       1      307     3.5\n",
       "1       1      481     3.5\n",
       "2       1     1091     1.5\n",
       "3       1     1257     4.5\n",
       "4       1     1449     4.5"
      ]
     },
     "execution_count": 13,
     "metadata": {},
     "output_type": "execute_result"
    }
   ],
   "source": [
    "#1 Reading in the csv-files\n",
    "import pandas as pd\n",
    "from scipy.sparse import csr_matrix\n",
    "from sklearn.neighbors import NearestNeighbors\n",
    "from fuzzywuzzy import process\n",
    "movieData= pd.read_csv('./Data/movies.csv', usecols=[\"movieId\", 'title'], dtype={'movieId': 'int32', 'title': 'str'})\n",
    "ratingData = pd.read_csv('./Data/ratings.csv', usecols=[\"userId\", \"movieId\", \"rating\"], dtype ={'userId': 'int32', 'movieId': 'int32', 'rating': 'float32'})\n",
    "ratingData.head()"
   ]
  },
  {
   "cell_type": "code",
   "execution_count": 14,
   "metadata": {},
   "outputs": [
    {
     "data": {
      "text/plain": [
       "5565007"
      ]
     },
     "execution_count": 14,
     "metadata": {},
     "output_type": "execute_result"
    }
   ],
   "source": [
    "# Sorting out all movies with few ratings and only saving top 3500 movies with most ratings.\n",
    "movies_with_few_ratings = ratingData[\"movieId\"].value_counts().sort_values(ascending=False).head(3500)\n",
    "new_ratingData = ratingData[ratingData['movieId'].isin(movies_with_few_ratings)]\n",
    "len(new_ratingData)\n"
   ]
  },
  {
   "cell_type": "code",
   "execution_count": 15,
   "metadata": {},
   "outputs": [
    {
     "data": {
      "text/plain": [
       "2752824"
      ]
     },
     "execution_count": 15,
     "metadata": {},
     "output_type": "execute_result"
    }
   ],
   "source": [
    "#Getting rid of some more data, getting rid of movies with below 4 in rating.\n",
    "sorted_ratingData = new_ratingData.drop(new_ratingData[new_ratingData.rating < 4].index)\n",
    "len(sorted_ratingData)"
   ]
  },
  {
   "cell_type": "code",
   "execution_count": 16,
   "metadata": {},
   "outputs": [],
   "source": [
    "#Creating the matrix\n",
    "movies_users=sorted_ratingData.pivot(index='movieId', columns='userId', values='rating').fillna(0)\n",
    "mat_movies_users=csr_matrix(movies_users.values)"
   ]
  },
  {
   "cell_type": "code",
   "execution_count": 17,
   "metadata": {},
   "outputs": [
    {
     "data": {
      "text/plain": [
       "NearestNeighbors(algorithm='brute', metric='cosine', n_neighbors=20)"
      ]
     },
     "execution_count": 17,
     "metadata": {},
     "output_type": "execute_result"
    }
   ],
   "source": [
    "# training the model\n",
    "model_knn=NearestNeighbors(metric='cosine', algorithm='brute', n_neighbors=20)\n",
    "model_knn.fit(mat_movies_users)"
   ]
  },
  {
   "cell_type": "markdown",
   "metadata": {},
   "source": [
    "## 1.3 Rekommenderarsystemet"
   ]
  },
  {
   "cell_type": "code",
   "execution_count": 18,
   "metadata": {},
   "outputs": [
    {
     "name": "stdout",
     "output_type": "stream",
     "text": [
      "Movie Selected:  Shawshank Redemption, The (1994) Index:  315\n",
      "Searching for recommendations...\n",
      "     movieId                                              title\n",
      "348      352                                    Crooklyn (1994)\n",
      "289      292                                    Outbreak (1995)\n",
      "413      417                                   Barcelona (1994)\n",
      "332      336                           Walking Dead, The (1995)\n",
      "290      293  Léon: The Professional (a.k.a. The Professiona...\n"
     ]
    }
   ],
   "source": [
    "# Creating the model to predict and predicting the \"Shawshank redemption\"\n",
    "def recommender(movie_name, data, model, n_recommendations):\n",
    "    model.fit(data)\n",
    "    idx=process.extractOne(movie_name, movieData['title'])[2]\n",
    "    print(\"Movie Selected: \", movieData['title'][idx], \"Index: \",idx)\n",
    "    print(\"Searching for recommendations...\")\n",
    "    distances, indices = model.kneighbors(data[idx], n_neighbors=n_recommendations+1)\n",
    "    print(movieData.loc[indices[0][1:]])\n",
    "\n",
    "recommender('Shawshank redemption', mat_movies_users, model_knn, 5)"
   ]
  },
  {
   "cell_type": "markdown",
   "metadata": {},
   "source": [
    "## Recommendation system 1.3 questions\n",
    "\n",
    "- a) Systemet hittar de närmsta datapunkterna från olika users ratings för att rekommendera nästa film, i ett flerdimensionellt system. I min modell kollar den på de 20 närmaste punkterna. Den tar alltså och kollar på hur andra personer som ratat filmen likadant och försöker hitta punkter från andra filmer som ligger likadant.\n",
    "\n",
    "- b) Bra rekommenderar system använder oftast olika modeller kombinerat. T.ex använder de modeller som kollar på din egen filmhistorik för att hitta filmer som liknar de filmer du sett, utifrån rating, genre, etc men oftast är det kombinerat med ett system som ovan där den också kollar på olika \"user profiles\" och matcher de filmer du har sett med liknande users och därmed kan rekommendera utifrån hur andra användare som liknar dig kollar på för fler filmer.\n"
   ]
  },
  {
   "cell_type": "markdown",
   "metadata": {},
   "source": []
  }
 ],
 "metadata": {
  "interpreter": {
   "hash": "20e36f013206a17ac568431002223843abac3dbb024288464e9b0a20eb5fb034"
  },
  "kernelspec": {
   "display_name": "Python 3.9.6 ('Maskininl-rning-Fredrik-Hegardt-mmrJtyaC')",
   "language": "python",
   "name": "python3"
  },
  "language_info": {
   "codemirror_mode": {
    "name": "ipython",
    "version": 3
   },
   "file_extension": ".py",
   "mimetype": "text/x-python",
   "name": "python",
   "nbconvert_exporter": "python",
   "pygments_lexer": "ipython3",
   "version": "3.9.6"
  },
  "orig_nbformat": 4
 },
 "nbformat": 4,
 "nbformat_minor": 2
}
