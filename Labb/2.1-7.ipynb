{
 "cells": [
  {
   "cell_type": "markdown",
   "metadata": {},
   "source": [
    "# 2.1.0 - Feature engineering BMI"
   ]
  },
  {
   "cell_type": "code",
   "execution_count": 1,
   "metadata": {},
   "outputs": [
    {
     "data": {
      "text/html": [
       "<div>\n",
       "<style scoped>\n",
       "    .dataframe tbody tr th:only-of-type {\n",
       "        vertical-align: middle;\n",
       "    }\n",
       "\n",
       "    .dataframe tbody tr th {\n",
       "        vertical-align: top;\n",
       "    }\n",
       "\n",
       "    .dataframe thead th {\n",
       "        text-align: right;\n",
       "    }\n",
       "</style>\n",
       "<table border=\"1\" class=\"dataframe\">\n",
       "  <thead>\n",
       "    <tr style=\"text-align: right;\">\n",
       "      <th></th>\n",
       "      <th>id</th>\n",
       "      <th>age</th>\n",
       "      <th>gender</th>\n",
       "      <th>height</th>\n",
       "      <th>weight</th>\n",
       "      <th>ap_hi</th>\n",
       "      <th>ap_lo</th>\n",
       "      <th>cholesterol</th>\n",
       "      <th>gluc</th>\n",
       "      <th>smoke</th>\n",
       "      <th>alco</th>\n",
       "      <th>active</th>\n",
       "      <th>cardio</th>\n",
       "    </tr>\n",
       "  </thead>\n",
       "  <tbody>\n",
       "    <tr>\n",
       "      <th>0</th>\n",
       "      <td>0</td>\n",
       "      <td>18393</td>\n",
       "      <td>2</td>\n",
       "      <td>168</td>\n",
       "      <td>62.0</td>\n",
       "      <td>110</td>\n",
       "      <td>80</td>\n",
       "      <td>1</td>\n",
       "      <td>1</td>\n",
       "      <td>0</td>\n",
       "      <td>0</td>\n",
       "      <td>1</td>\n",
       "      <td>0</td>\n",
       "    </tr>\n",
       "    <tr>\n",
       "      <th>1</th>\n",
       "      <td>1</td>\n",
       "      <td>20228</td>\n",
       "      <td>1</td>\n",
       "      <td>156</td>\n",
       "      <td>85.0</td>\n",
       "      <td>140</td>\n",
       "      <td>90</td>\n",
       "      <td>3</td>\n",
       "      <td>1</td>\n",
       "      <td>0</td>\n",
       "      <td>0</td>\n",
       "      <td>1</td>\n",
       "      <td>1</td>\n",
       "    </tr>\n",
       "    <tr>\n",
       "      <th>2</th>\n",
       "      <td>2</td>\n",
       "      <td>18857</td>\n",
       "      <td>1</td>\n",
       "      <td>165</td>\n",
       "      <td>64.0</td>\n",
       "      <td>130</td>\n",
       "      <td>70</td>\n",
       "      <td>3</td>\n",
       "      <td>1</td>\n",
       "      <td>0</td>\n",
       "      <td>0</td>\n",
       "      <td>0</td>\n",
       "      <td>1</td>\n",
       "    </tr>\n",
       "    <tr>\n",
       "      <th>3</th>\n",
       "      <td>3</td>\n",
       "      <td>17623</td>\n",
       "      <td>2</td>\n",
       "      <td>169</td>\n",
       "      <td>82.0</td>\n",
       "      <td>150</td>\n",
       "      <td>100</td>\n",
       "      <td>1</td>\n",
       "      <td>1</td>\n",
       "      <td>0</td>\n",
       "      <td>0</td>\n",
       "      <td>1</td>\n",
       "      <td>1</td>\n",
       "    </tr>\n",
       "    <tr>\n",
       "      <th>4</th>\n",
       "      <td>4</td>\n",
       "      <td>17474</td>\n",
       "      <td>1</td>\n",
       "      <td>156</td>\n",
       "      <td>56.0</td>\n",
       "      <td>100</td>\n",
       "      <td>60</td>\n",
       "      <td>1</td>\n",
       "      <td>1</td>\n",
       "      <td>0</td>\n",
       "      <td>0</td>\n",
       "      <td>0</td>\n",
       "      <td>0</td>\n",
       "    </tr>\n",
       "  </tbody>\n",
       "</table>\n",
       "</div>"
      ],
      "text/plain": [
       "   id    age  gender  height  weight  ap_hi  ap_lo  cholesterol  gluc  smoke  \\\n",
       "0   0  18393       2     168    62.0    110     80            1     1      0   \n",
       "1   1  20228       1     156    85.0    140     90            3     1      0   \n",
       "2   2  18857       1     165    64.0    130     70            3     1      0   \n",
       "3   3  17623       2     169    82.0    150    100            1     1      0   \n",
       "4   4  17474       1     156    56.0    100     60            1     1      0   \n",
       "\n",
       "   alco  active  cardio  \n",
       "0     0       1       0  \n",
       "1     0       1       1  \n",
       "2     0       0       1  \n",
       "3     0       1       1  \n",
       "4     0       0       0  "
      ]
     },
     "execution_count": 1,
     "metadata": {},
     "output_type": "execute_result"
    }
   ],
   "source": [
    "#Data importing\n",
    "import pandas as pd\n",
    "cardioData= pd.read_csv('./Data/cardio_train.csv', sep=';')\n",
    "cardioData.head()"
   ]
  },
  {
   "cell_type": "code",
   "execution_count": 2,
   "metadata": {},
   "outputs": [
    {
     "data": {
      "text/plain": [
       "67946"
      ]
     },
     "execution_count": 2,
     "metadata": {},
     "output_type": "execute_result"
    }
   ],
   "source": [
    "# sorting out height and weight that is well above under below average. \n",
    "# Approximately 3% of data vanished which seems fair. the plot of weight + height looks good below.\n",
    "# Also removed extremely low and high BMI values (low under underweight and high above obecity)\n",
    "\n",
    "cardioData = cardioData.drop(cardioData[cardioData.height < 150].index)\n",
    "cardioData = cardioData.drop(cardioData[cardioData.height > 220].index)\n",
    "cardioData = cardioData.drop(cardioData[cardioData.weight < 40].index)\n",
    "cardioData = cardioData.drop(cardioData[cardioData.height > 200].index)\n",
    "cardioData[\"BMI\"] = cardioData[\"weight\"] / (cardioData[\"height\"]/100)**2\n",
    "cardioData = cardioData.drop(cardioData[cardioData.BMI < 14].index)\n",
    "cardioData = cardioData.drop(cardioData[cardioData.BMI > 46].index)\n",
    "len(cardioData)\n"
   ]
  },
  {
   "cell_type": "code",
   "execution_count": 3,
   "metadata": {},
   "outputs": [
    {
     "data": {
      "text/plain": [
       "<AxesSubplot:xlabel='weight', ylabel='height'>"
      ]
     },
     "execution_count": 3,
     "metadata": {},
     "output_type": "execute_result"
    },
    {
     "data": {
      "image/png": "[encoded data removed]",
      "text/plain": [
       "<Figure size 432x288 with 1 Axes>"
      ]
     },
     "metadata": {
      "needs_background": "light"
     },
     "output_type": "display_data"
    }
   ],
   "source": [
    "#new scatter plot after dropping rows\n",
    "cardioData.plot.scatter(\"weight\", \"height\")"
   ]
  },
  {
   "cell_type": "code",
   "execution_count": 4,
   "metadata": {},
   "outputs": [
    {
     "data": {
      "text/html": [
       "<div>\n",
       "<style scoped>\n",
       "    .dataframe tbody tr th:only-of-type {\n",
       "        vertical-align: middle;\n",
       "    }\n",
       "\n",
       "    .dataframe tbody tr th {\n",
       "        vertical-align: top;\n",
       "    }\n",
       "\n",
       "    .dataframe thead th {\n",
       "        text-align: right;\n",
       "    }\n",
       "</style>\n",
       "<table border=\"1\" class=\"dataframe\">\n",
       "  <thead>\n",
       "    <tr style=\"text-align: right;\">\n",
       "      <th></th>\n",
       "      <th>id</th>\n",
       "      <th>age</th>\n",
       "      <th>gender</th>\n",
       "      <th>height</th>\n",
       "      <th>weight</th>\n",
       "      <th>ap_hi</th>\n",
       "      <th>ap_lo</th>\n",
       "      <th>cholesterol</th>\n",
       "      <th>gluc</th>\n",
       "      <th>smoke</th>\n",
       "      <th>alco</th>\n",
       "      <th>active</th>\n",
       "      <th>cardio</th>\n",
       "      <th>BMI</th>\n",
       "      <th>BMI_Range</th>\n",
       "    </tr>\n",
       "  </thead>\n",
       "  <tbody>\n",
       "    <tr>\n",
       "      <th>0</th>\n",
       "      <td>0</td>\n",
       "      <td>18393</td>\n",
       "      <td>2</td>\n",
       "      <td>168</td>\n",
       "      <td>62.0</td>\n",
       "      <td>110</td>\n",
       "      <td>80</td>\n",
       "      <td>1</td>\n",
       "      <td>1</td>\n",
       "      <td>0</td>\n",
       "      <td>0</td>\n",
       "      <td>1</td>\n",
       "      <td>0</td>\n",
       "      <td>21.967120</td>\n",
       "      <td>Normal range</td>\n",
       "    </tr>\n",
       "    <tr>\n",
       "      <th>1</th>\n",
       "      <td>1</td>\n",
       "      <td>20228</td>\n",
       "      <td>1</td>\n",
       "      <td>156</td>\n",
       "      <td>85.0</td>\n",
       "      <td>140</td>\n",
       "      <td>90</td>\n",
       "      <td>3</td>\n",
       "      <td>1</td>\n",
       "      <td>0</td>\n",
       "      <td>0</td>\n",
       "      <td>1</td>\n",
       "      <td>1</td>\n",
       "      <td>34.927679</td>\n",
       "      <td>Obese(Class1)</td>\n",
       "    </tr>\n",
       "    <tr>\n",
       "      <th>2</th>\n",
       "      <td>2</td>\n",
       "      <td>18857</td>\n",
       "      <td>1</td>\n",
       "      <td>165</td>\n",
       "      <td>64.0</td>\n",
       "      <td>130</td>\n",
       "      <td>70</td>\n",
       "      <td>3</td>\n",
       "      <td>1</td>\n",
       "      <td>0</td>\n",
       "      <td>0</td>\n",
       "      <td>0</td>\n",
       "      <td>1</td>\n",
       "      <td>23.507805</td>\n",
       "      <td>Normal range</td>\n",
       "    </tr>\n",
       "    <tr>\n",
       "      <th>3</th>\n",
       "      <td>3</td>\n",
       "      <td>17623</td>\n",
       "      <td>2</td>\n",
       "      <td>169</td>\n",
       "      <td>82.0</td>\n",
       "      <td>150</td>\n",
       "      <td>100</td>\n",
       "      <td>1</td>\n",
       "      <td>1</td>\n",
       "      <td>0</td>\n",
       "      <td>0</td>\n",
       "      <td>1</td>\n",
       "      <td>1</td>\n",
       "      <td>28.710479</td>\n",
       "      <td>Overweight</td>\n",
       "    </tr>\n",
       "    <tr>\n",
       "      <th>4</th>\n",
       "      <td>4</td>\n",
       "      <td>17474</td>\n",
       "      <td>1</td>\n",
       "      <td>156</td>\n",
       "      <td>56.0</td>\n",
       "      <td>100</td>\n",
       "      <td>60</td>\n",
       "      <td>1</td>\n",
       "      <td>1</td>\n",
       "      <td>0</td>\n",
       "      <td>0</td>\n",
       "      <td>0</td>\n",
       "      <td>0</td>\n",
       "      <td>23.011177</td>\n",
       "      <td>Normal range</td>\n",
       "    </tr>\n",
       "    <tr>\n",
       "      <th>...</th>\n",
       "      <td>...</td>\n",
       "      <td>...</td>\n",
       "      <td>...</td>\n",
       "      <td>...</td>\n",
       "      <td>...</td>\n",
       "      <td>...</td>\n",
       "      <td>...</td>\n",
       "      <td>...</td>\n",
       "      <td>...</td>\n",
       "      <td>...</td>\n",
       "      <td>...</td>\n",
       "      <td>...</td>\n",
       "      <td>...</td>\n",
       "      <td>...</td>\n",
       "      <td>...</td>\n",
       "    </tr>\n",
       "    <tr>\n",
       "      <th>69994</th>\n",
       "      <td>99992</td>\n",
       "      <td>21074</td>\n",
       "      <td>1</td>\n",
       "      <td>165</td>\n",
       "      <td>80.0</td>\n",
       "      <td>150</td>\n",
       "      <td>80</td>\n",
       "      <td>1</td>\n",
       "      <td>1</td>\n",
       "      <td>0</td>\n",
       "      <td>0</td>\n",
       "      <td>1</td>\n",
       "      <td>1</td>\n",
       "      <td>29.384757</td>\n",
       "      <td>Overweight</td>\n",
       "    </tr>\n",
       "    <tr>\n",
       "      <th>69995</th>\n",
       "      <td>99993</td>\n",
       "      <td>19240</td>\n",
       "      <td>2</td>\n",
       "      <td>168</td>\n",
       "      <td>76.0</td>\n",
       "      <td>120</td>\n",
       "      <td>80</td>\n",
       "      <td>1</td>\n",
       "      <td>1</td>\n",
       "      <td>1</td>\n",
       "      <td>0</td>\n",
       "      <td>1</td>\n",
       "      <td>0</td>\n",
       "      <td>26.927438</td>\n",
       "      <td>Overweight</td>\n",
       "    </tr>\n",
       "    <tr>\n",
       "      <th>69997</th>\n",
       "      <td>99996</td>\n",
       "      <td>19066</td>\n",
       "      <td>2</td>\n",
       "      <td>183</td>\n",
       "      <td>105.0</td>\n",
       "      <td>180</td>\n",
       "      <td>90</td>\n",
       "      <td>3</td>\n",
       "      <td>1</td>\n",
       "      <td>0</td>\n",
       "      <td>1</td>\n",
       "      <td>0</td>\n",
       "      <td>1</td>\n",
       "      <td>31.353579</td>\n",
       "      <td>Obese(Class1)</td>\n",
       "    </tr>\n",
       "    <tr>\n",
       "      <th>69998</th>\n",
       "      <td>99998</td>\n",
       "      <td>22431</td>\n",
       "      <td>1</td>\n",
       "      <td>163</td>\n",
       "      <td>72.0</td>\n",
       "      <td>135</td>\n",
       "      <td>80</td>\n",
       "      <td>1</td>\n",
       "      <td>2</td>\n",
       "      <td>0</td>\n",
       "      <td>0</td>\n",
       "      <td>0</td>\n",
       "      <td>1</td>\n",
       "      <td>27.099251</td>\n",
       "      <td>Overweight</td>\n",
       "    </tr>\n",
       "    <tr>\n",
       "      <th>69999</th>\n",
       "      <td>99999</td>\n",
       "      <td>20540</td>\n",
       "      <td>1</td>\n",
       "      <td>170</td>\n",
       "      <td>72.0</td>\n",
       "      <td>120</td>\n",
       "      <td>80</td>\n",
       "      <td>2</td>\n",
       "      <td>1</td>\n",
       "      <td>0</td>\n",
       "      <td>0</td>\n",
       "      <td>1</td>\n",
       "      <td>0</td>\n",
       "      <td>24.913495</td>\n",
       "      <td>Normal range</td>\n",
       "    </tr>\n",
       "  </tbody>\n",
       "</table>\n",
       "<p>67946 rows × 15 columns</p>\n",
       "</div>"
      ],
      "text/plain": [
       "          id    age  gender  height  weight  ap_hi  ap_lo  cholesterol  gluc  \\\n",
       "0          0  18393       2     168    62.0    110     80            1     1   \n",
       "1          1  20228       1     156    85.0    140     90            3     1   \n",
       "2          2  18857       1     165    64.0    130     70            3     1   \n",
       "3          3  17623       2     169    82.0    150    100            1     1   \n",
       "4          4  17474       1     156    56.0    100     60            1     1   \n",
       "...      ...    ...     ...     ...     ...    ...    ...          ...   ...   \n",
       "69994  99992  21074       1     165    80.0    150     80            1     1   \n",
       "69995  99993  19240       2     168    76.0    120     80            1     1   \n",
       "69997  99996  19066       2     183   105.0    180     90            3     1   \n",
       "69998  99998  22431       1     163    72.0    135     80            1     2   \n",
       "69999  99999  20540       1     170    72.0    120     80            2     1   \n",
       "\n",
       "       smoke  alco  active  cardio        BMI      BMI_Range  \n",
       "0          0     0       1       0  21.967120   Normal range  \n",
       "1          0     0       1       1  34.927679  Obese(Class1)  \n",
       "2          0     0       0       1  23.507805   Normal range  \n",
       "3          0     0       1       1  28.710479     Overweight  \n",
       "4          0     0       0       0  23.011177   Normal range  \n",
       "...      ...   ...     ...     ...        ...            ...  \n",
       "69994      0     0       1       1  29.384757     Overweight  \n",
       "69995      1     0       1       0  26.927438     Overweight  \n",
       "69997      0     1       0       1  31.353579  Obese(Class1)  \n",
       "69998      0     0       0       1  27.099251     Overweight  \n",
       "69999      0     0       1       0  24.913495   Normal range  \n",
       "\n",
       "[67946 rows x 15 columns]"
      ]
     },
     "execution_count": 4,
     "metadata": {},
     "output_type": "execute_result"
    }
   ],
   "source": [
    "# BMI range from https://www.cdc.gov/obesity/adult/defining.html\n",
    "#If your BMI is 18.5 to <25, it falls within the healthy weight range.\n",
    "#If your BMI is 25.0 to <30, it falls within the overweight range.\n",
    "#Class 1: BMI of 30 to < 35\n",
    "#Class 2: BMI of 35 to < 40\n",
    "#Class 3: BMI of 40 or higher. \n",
    "\n",
    "#code example is taken from https://www.dataquest.io/blog/tutorial-add-column-pandas-dataframe-based-on-if-else-condition/\n",
    "import numpy as np\n",
    "\n",
    "\n",
    "conditions = [\n",
    "    (cardioData['BMI'] <= 18.5),\n",
    "    (cardioData['BMI'] > 18.5) & (cardioData['BMI'] <= 25),\n",
    "    (cardioData['BMI'] > 25) & (cardioData['BMI'] <= 30),\n",
    "    (cardioData['BMI'] > 30) & (cardioData['BMI'] <= 35),\n",
    "    (cardioData['BMI'] > 35) & (cardioData['BMI'] <= 40),\n",
    "    (cardioData['BMI'] > 40)\n",
    "    ]\n",
    "\n",
    "values = ['Underweight','Normal range', 'Overweight', 'Obese(Class1)', 'Obese(Class2)', 'Obese(Class3)']\n",
    "\n",
    "cardioData['BMI_Range'] = np.select(conditions, values)\n",
    "cardioData\n"
   ]
  },
  {
   "cell_type": "markdown",
   "metadata": {},
   "source": [
    "## 2.1.1 Feature engineering blodtryck"
   ]
  },
  {
   "cell_type": "code",
   "execution_count": 5,
   "metadata": {},
   "outputs": [
    {
     "data": {
      "text/plain": [
       "66740"
      ]
     },
     "execution_count": 5,
     "metadata": {},
     "output_type": "execute_result"
    }
   ],
   "source": [
    "#a) Dropping extremely high and low values\n",
    "cardioData = cardioData.drop(cardioData[cardioData.ap_hi < 70].index)\n",
    "cardioData = cardioData.drop(cardioData[cardioData.ap_hi > 230].index)\n",
    "cardioData = cardioData.drop(cardioData[cardioData.ap_lo < 50].index)\n",
    "cardioData = cardioData.drop(cardioData[cardioData.ap_lo > 160].index)\n",
    "len(cardioData)"
   ]
  },
  {
   "cell_type": "code",
   "execution_count": 6,
   "metadata": {},
   "outputs": [
    {
     "data": {
      "text/plain": [
       "0        Stage 1 Hypertension\n",
       "1        Stage 2 Hypertension\n",
       "2        Stage 1 Hypertension\n",
       "3        Stage 2 Hypertension\n",
       "4                     Healthy\n",
       "                 ...         \n",
       "69994    Stage 1 Hypertension\n",
       "69995    Stage 1 Hypertension\n",
       "69997    Stage 2 Hypertension\n",
       "69998    Stage 1 Hypertension\n",
       "69999    Stage 1 Hypertension\n",
       "Name: AP_categories, Length: 66740, dtype: object"
      ]
     },
     "execution_count": 6,
     "metadata": {},
     "output_type": "execute_result"
    }
   ],
   "source": [
    "# same setup as the BMI sorting\n",
    "conditions2 = [\n",
    "    (cardioData['ap_lo'] < 80) & (cardioData['ap_hi'] < 120),\n",
    "    (cardioData['ap_hi'] >= 120) & (cardioData['ap_hi'] <= 129) & (cardioData['ap_lo'] < 80),\n",
    "    (cardioData['ap_lo'] >= 80) & (cardioData['ap_lo'] <= 89) , (cardioData['ap_hi'] > 129) & (cardioData['ap_hi'] <= 139),\n",
    "    (cardioData['ap_lo'] > 89) & (cardioData['ap_lo'] <= 119) , (cardioData['ap_hi'] > 139) & (cardioData['ap_hi'] <= 180),\n",
    "    (cardioData['ap_lo'] > 180), (cardioData['ap_hi'] > 120), \n",
    "    ]\n",
    "\n",
    "values2 = ['Healthy','Elevated', 'Stage 1 Hypertension', 'Stage 1 Hypertension', 'Stage 2 Hypertension', 'Stage 2 Hypertension', 'Hypertension crisis', 'Hypertension crisis']\n",
    "cardioData['AP_categories'] = np.select(conditions2, values2)\n",
    "cardioData['AP_categories']"
   ]
  },
  {
   "cell_type": "markdown",
   "metadata": {},
   "source": [
    "## 2.2.0 Visualiseringar antal sjukdomar"
   ]
  },
  {
   "cell_type": "code",
   "execution_count": 7,
   "metadata": {},
   "outputs": [
    {
     "data": {
      "image/png": "[encoded data removed]",
      "text/plain": [
       "<Figure size 480x320 with 1 Axes>"
      ]
     },
     "metadata": {
      "needs_background": "light"
     },
     "output_type": "display_data"
    },
    {
     "data": {
      "image/png": "[encoded data removed]",
      "text/plain": [
       "<Figure size 480x320 with 1 Axes>"
      ]
     },
     "metadata": {
      "needs_background": "light"
     },
     "output_type": "display_data"
    }
   ],
   "source": [
    "import seaborn as sns\n",
    "import matplotlib.pyplot as plt\n",
    "plot_list = [\"BMI_Range\",\"AP_categories\"]\n",
    "\n",
    "\n",
    "for i in range(len(plot_list)):\n",
    "    fig, ax = plt.subplots(dpi=80)\n",
    "    sns.barplot(x = cardioData[\"cardio\"], y = cardioData[plot_list[i]])"
   ]
  },
  {
   "cell_type": "markdown",
   "metadata": {},
   "source": [
    "## Visualiseringar korrelation\n",
    "\n",
    "### Nedan Heatmap visar korrelation mellan olika features. Följande har korrelationer:\n",
    "\n",
    "- Högt blodtryck och kardiovaskulär sjukdom, vilket är naturligt då vi vet att högt blodtryck är farligt och kan leda till just det. \n",
    "- Höga kolesterolvärden kardiovaskulär sjukdom, samma svar på varför som ovan.\n",
    "- Ålder / BMI och kardiovaskulär sjukdom har små korrelattioner, vi vet att detta är riskfaktorer också.\n",
    "- Rökning och alkohol korrelerar, båda är droger och är man öppen för att inta den ena så ökar risken att man är det även för den andra.\n",
    "- Glukos och höga kolesterolvärden, båda är kopplad till dålig kost. Mycket socker i dieten ökar glukosvärden och mycket (dåligt) fett ökar kolesterol.\n",
    "- Längd och kön samt vikt och kön, män är både längre och väger mer än kvinnor så denna korrelation är helt naturlig.\n",
    "\n",
    "- Vikt och BMI, vilket inte är så konstigt då BMI är beroende av vikt i sin uträkning.\n",
    "- Längd och BMI är negativt korrelerade, vilket inte är så konstigt då BMI är beroende av längd i sin uträkning.\n"
   ]
  },
  {
   "cell_type": "code",
   "execution_count": 8,
   "metadata": {},
   "outputs": [
    {
     "data": {
      "text/plain": [
       "<AxesSubplot:>"
      ]
     },
     "execution_count": 8,
     "metadata": {},
     "output_type": "execute_result"
    },
    {
     "data": {
      "image/png": "[encoded data removed]",
      "text/plain": [
       "<Figure size 432x288 with 2 Axes>"
      ]
     },
     "metadata": {
      "needs_background": "light"
     },
     "output_type": "display_data"
    }
   ],
   "source": [
    "cardioDataHeatMap =cardioData.drop(\"id\", axis=1)\n",
    "sns.heatmap(cardioDataHeatMap.corr(), vmin = -1, vmax= 1, annot=False, center = 0)"
   ]
  },
  {
   "cell_type": "markdown",
   "metadata": {},
   "source": [
    "## 2.3 Skapa två dataset"
   ]
  },
  {
   "cell_type": "code",
   "execution_count": 9,
   "metadata": {},
   "outputs": [
    {
     "data": {
      "text/html": [
       "<div>\n",
       "<style scoped>\n",
       "    .dataframe tbody tr th:only-of-type {\n",
       "        vertical-align: middle;\n",
       "    }\n",
       "\n",
       "    .dataframe tbody tr th {\n",
       "        vertical-align: top;\n",
       "    }\n",
       "\n",
       "    .dataframe thead th {\n",
       "        text-align: right;\n",
       "    }\n",
       "</style>\n",
       "<table border=\"1\" class=\"dataframe\">\n",
       "  <thead>\n",
       "    <tr style=\"text-align: right;\">\n",
       "      <th></th>\n",
       "      <th>age</th>\n",
       "      <th>gender</th>\n",
       "      <th>cholesterol</th>\n",
       "      <th>gluc</th>\n",
       "      <th>smoke</th>\n",
       "      <th>alco</th>\n",
       "      <th>active</th>\n",
       "      <th>cardio</th>\n",
       "      <th>BMI_Range_Obese(Class1)</th>\n",
       "      <th>BMI_Range_Obese(Class2)</th>\n",
       "      <th>BMI_Range_Obese(Class3)</th>\n",
       "      <th>BMI_Range_Overweight</th>\n",
       "      <th>BMI_Range_Underweight</th>\n",
       "      <th>AP_categories_Elevated</th>\n",
       "      <th>AP_categories_Healthy</th>\n",
       "      <th>AP_categories_Hypertension crisis</th>\n",
       "      <th>AP_categories_Stage 1 Hypertension</th>\n",
       "      <th>AP_categories_Stage 2 Hypertension</th>\n",
       "    </tr>\n",
       "  </thead>\n",
       "  <tbody>\n",
       "    <tr>\n",
       "      <th>0</th>\n",
       "      <td>18393</td>\n",
       "      <td>2</td>\n",
       "      <td>1</td>\n",
       "      <td>1</td>\n",
       "      <td>0</td>\n",
       "      <td>0</td>\n",
       "      <td>1</td>\n",
       "      <td>0</td>\n",
       "      <td>0</td>\n",
       "      <td>0</td>\n",
       "      <td>0</td>\n",
       "      <td>0</td>\n",
       "      <td>0</td>\n",
       "      <td>0</td>\n",
       "      <td>0</td>\n",
       "      <td>0</td>\n",
       "      <td>1</td>\n",
       "      <td>0</td>\n",
       "    </tr>\n",
       "    <tr>\n",
       "      <th>1</th>\n",
       "      <td>20228</td>\n",
       "      <td>1</td>\n",
       "      <td>3</td>\n",
       "      <td>1</td>\n",
       "      <td>0</td>\n",
       "      <td>0</td>\n",
       "      <td>1</td>\n",
       "      <td>1</td>\n",
       "      <td>1</td>\n",
       "      <td>0</td>\n",
       "      <td>0</td>\n",
       "      <td>0</td>\n",
       "      <td>0</td>\n",
       "      <td>0</td>\n",
       "      <td>0</td>\n",
       "      <td>0</td>\n",
       "      <td>0</td>\n",
       "      <td>1</td>\n",
       "    </tr>\n",
       "    <tr>\n",
       "      <th>2</th>\n",
       "      <td>18857</td>\n",
       "      <td>1</td>\n",
       "      <td>3</td>\n",
       "      <td>1</td>\n",
       "      <td>0</td>\n",
       "      <td>0</td>\n",
       "      <td>0</td>\n",
       "      <td>1</td>\n",
       "      <td>0</td>\n",
       "      <td>0</td>\n",
       "      <td>0</td>\n",
       "      <td>0</td>\n",
       "      <td>0</td>\n",
       "      <td>0</td>\n",
       "      <td>0</td>\n",
       "      <td>0</td>\n",
       "      <td>1</td>\n",
       "      <td>0</td>\n",
       "    </tr>\n",
       "    <tr>\n",
       "      <th>3</th>\n",
       "      <td>17623</td>\n",
       "      <td>2</td>\n",
       "      <td>1</td>\n",
       "      <td>1</td>\n",
       "      <td>0</td>\n",
       "      <td>0</td>\n",
       "      <td>1</td>\n",
       "      <td>1</td>\n",
       "      <td>0</td>\n",
       "      <td>0</td>\n",
       "      <td>0</td>\n",
       "      <td>1</td>\n",
       "      <td>0</td>\n",
       "      <td>0</td>\n",
       "      <td>0</td>\n",
       "      <td>0</td>\n",
       "      <td>0</td>\n",
       "      <td>1</td>\n",
       "    </tr>\n",
       "    <tr>\n",
       "      <th>4</th>\n",
       "      <td>17474</td>\n",
       "      <td>1</td>\n",
       "      <td>1</td>\n",
       "      <td>1</td>\n",
       "      <td>0</td>\n",
       "      <td>0</td>\n",
       "      <td>0</td>\n",
       "      <td>0</td>\n",
       "      <td>0</td>\n",
       "      <td>0</td>\n",
       "      <td>0</td>\n",
       "      <td>0</td>\n",
       "      <td>0</td>\n",
       "      <td>0</td>\n",
       "      <td>1</td>\n",
       "      <td>0</td>\n",
       "      <td>0</td>\n",
       "      <td>0</td>\n",
       "    </tr>\n",
       "    <tr>\n",
       "      <th>...</th>\n",
       "      <td>...</td>\n",
       "      <td>...</td>\n",
       "      <td>...</td>\n",
       "      <td>...</td>\n",
       "      <td>...</td>\n",
       "      <td>...</td>\n",
       "      <td>...</td>\n",
       "      <td>...</td>\n",
       "      <td>...</td>\n",
       "      <td>...</td>\n",
       "      <td>...</td>\n",
       "      <td>...</td>\n",
       "      <td>...</td>\n",
       "      <td>...</td>\n",
       "      <td>...</td>\n",
       "      <td>...</td>\n",
       "      <td>...</td>\n",
       "      <td>...</td>\n",
       "    </tr>\n",
       "    <tr>\n",
       "      <th>69994</th>\n",
       "      <td>21074</td>\n",
       "      <td>1</td>\n",
       "      <td>1</td>\n",
       "      <td>1</td>\n",
       "      <td>0</td>\n",
       "      <td>0</td>\n",
       "      <td>1</td>\n",
       "      <td>1</td>\n",
       "      <td>0</td>\n",
       "      <td>0</td>\n",
       "      <td>0</td>\n",
       "      <td>1</td>\n",
       "      <td>0</td>\n",
       "      <td>0</td>\n",
       "      <td>0</td>\n",
       "      <td>0</td>\n",
       "      <td>1</td>\n",
       "      <td>0</td>\n",
       "    </tr>\n",
       "    <tr>\n",
       "      <th>69995</th>\n",
       "      <td>19240</td>\n",
       "      <td>2</td>\n",
       "      <td>1</td>\n",
       "      <td>1</td>\n",
       "      <td>1</td>\n",
       "      <td>0</td>\n",
       "      <td>1</td>\n",
       "      <td>0</td>\n",
       "      <td>0</td>\n",
       "      <td>0</td>\n",
       "      <td>0</td>\n",
       "      <td>1</td>\n",
       "      <td>0</td>\n",
       "      <td>0</td>\n",
       "      <td>0</td>\n",
       "      <td>0</td>\n",
       "      <td>1</td>\n",
       "      <td>0</td>\n",
       "    </tr>\n",
       "    <tr>\n",
       "      <th>69997</th>\n",
       "      <td>19066</td>\n",
       "      <td>2</td>\n",
       "      <td>3</td>\n",
       "      <td>1</td>\n",
       "      <td>0</td>\n",
       "      <td>1</td>\n",
       "      <td>0</td>\n",
       "      <td>1</td>\n",
       "      <td>1</td>\n",
       "      <td>0</td>\n",
       "      <td>0</td>\n",
       "      <td>0</td>\n",
       "      <td>0</td>\n",
       "      <td>0</td>\n",
       "      <td>0</td>\n",
       "      <td>0</td>\n",
       "      <td>0</td>\n",
       "      <td>1</td>\n",
       "    </tr>\n",
       "    <tr>\n",
       "      <th>69998</th>\n",
       "      <td>22431</td>\n",
       "      <td>1</td>\n",
       "      <td>1</td>\n",
       "      <td>2</td>\n",
       "      <td>0</td>\n",
       "      <td>0</td>\n",
       "      <td>0</td>\n",
       "      <td>1</td>\n",
       "      <td>0</td>\n",
       "      <td>0</td>\n",
       "      <td>0</td>\n",
       "      <td>1</td>\n",
       "      <td>0</td>\n",
       "      <td>0</td>\n",
       "      <td>0</td>\n",
       "      <td>0</td>\n",
       "      <td>1</td>\n",
       "      <td>0</td>\n",
       "    </tr>\n",
       "    <tr>\n",
       "      <th>69999</th>\n",
       "      <td>20540</td>\n",
       "      <td>1</td>\n",
       "      <td>2</td>\n",
       "      <td>1</td>\n",
       "      <td>0</td>\n",
       "      <td>0</td>\n",
       "      <td>1</td>\n",
       "      <td>0</td>\n",
       "      <td>0</td>\n",
       "      <td>0</td>\n",
       "      <td>0</td>\n",
       "      <td>0</td>\n",
       "      <td>0</td>\n",
       "      <td>0</td>\n",
       "      <td>0</td>\n",
       "      <td>0</td>\n",
       "      <td>1</td>\n",
       "      <td>0</td>\n",
       "    </tr>\n",
       "  </tbody>\n",
       "</table>\n",
       "<p>66740 rows × 18 columns</p>\n",
       "</div>"
      ],
      "text/plain": [
       "         age  gender  cholesterol  gluc  smoke  alco  active  cardio  \\\n",
       "0      18393       2            1     1      0     0       1       0   \n",
       "1      20228       1            3     1      0     0       1       1   \n",
       "2      18857       1            3     1      0     0       0       1   \n",
       "3      17623       2            1     1      0     0       1       1   \n",
       "4      17474       1            1     1      0     0       0       0   \n",
       "...      ...     ...          ...   ...    ...   ...     ...     ...   \n",
       "69994  21074       1            1     1      0     0       1       1   \n",
       "69995  19240       2            1     1      1     0       1       0   \n",
       "69997  19066       2            3     1      0     1       0       1   \n",
       "69998  22431       1            1     2      0     0       0       1   \n",
       "69999  20540       1            2     1      0     0       1       0   \n",
       "\n",
       "       BMI_Range_Obese(Class1)  BMI_Range_Obese(Class2)  \\\n",
       "0                            0                        0   \n",
       "1                            1                        0   \n",
       "2                            0                        0   \n",
       "3                            0                        0   \n",
       "4                            0                        0   \n",
       "...                        ...                      ...   \n",
       "69994                        0                        0   \n",
       "69995                        0                        0   \n",
       "69997                        1                        0   \n",
       "69998                        0                        0   \n",
       "69999                        0                        0   \n",
       "\n",
       "       BMI_Range_Obese(Class3)  BMI_Range_Overweight  BMI_Range_Underweight  \\\n",
       "0                            0                     0                      0   \n",
       "1                            0                     0                      0   \n",
       "2                            0                     0                      0   \n",
       "3                            0                     1                      0   \n",
       "4                            0                     0                      0   \n",
       "...                        ...                   ...                    ...   \n",
       "69994                        0                     1                      0   \n",
       "69995                        0                     1                      0   \n",
       "69997                        0                     0                      0   \n",
       "69998                        0                     1                      0   \n",
       "69999                        0                     0                      0   \n",
       "\n",
       "       AP_categories_Elevated  AP_categories_Healthy  \\\n",
       "0                           0                      0   \n",
       "1                           0                      0   \n",
       "2                           0                      0   \n",
       "3                           0                      0   \n",
       "4                           0                      1   \n",
       "...                       ...                    ...   \n",
       "69994                       0                      0   \n",
       "69995                       0                      0   \n",
       "69997                       0                      0   \n",
       "69998                       0                      0   \n",
       "69999                       0                      0   \n",
       "\n",
       "       AP_categories_Hypertension crisis  AP_categories_Stage 1 Hypertension  \\\n",
       "0                                      0                                   1   \n",
       "1                                      0                                   0   \n",
       "2                                      0                                   1   \n",
       "3                                      0                                   0   \n",
       "4                                      0                                   0   \n",
       "...                                  ...                                 ...   \n",
       "69994                                  0                                   1   \n",
       "69995                                  0                                   1   \n",
       "69997                                  0                                   0   \n",
       "69998                                  0                                   1   \n",
       "69999                                  0                                   1   \n",
       "\n",
       "       AP_categories_Stage 2 Hypertension  \n",
       "0                                       0  \n",
       "1                                       1  \n",
       "2                                       0  \n",
       "3                                       1  \n",
       "4                                       0  \n",
       "...                                   ...  \n",
       "69994                                   0  \n",
       "69995                                   0  \n",
       "69997                                   1  \n",
       "69998                                   0  \n",
       "69999                                   0  \n",
       "\n",
       "[66740 rows x 18 columns]"
      ]
     },
     "execution_count": 9,
     "metadata": {},
     "output_type": "execute_result"
    }
   ],
   "source": [
    "df1=cardioData.drop([\"id\",\"ap_hi\", \"ap_lo\", \"weight\", \"height\", \"BMI\" ],axis=1)\n",
    "df2=cardioData.drop([\"id\",\"height\",\"weight\", \"BMI_Range\", \"AP_categories\"],axis=1)\n",
    "# creating two datasets and do one-hot encoding\n",
    "df1_encoded = pd.get_dummies(df1, drop_first=True)\n",
    "df2_encoded= pd.get_dummies(df2, drop_first=True)\n",
    "df1_encoded"
   ]
  },
  {
   "cell_type": "code",
   "execution_count": 27,
   "metadata": {},
   "outputs": [],
   "source": [
    "# 2.7 Removing 100 testing data for our final validation\n",
    "random_sample=df1_encoded.sample(100, random_state= 1337)\n",
    "cond = df1_encoded['age'].isin(random_sample['age'])\n",
    "df1_encoded.drop(df1_encoded[cond].index, inplace = True)\n",
    "random_sample = random_sample.drop(\"cardio\", axis = 1)\n",
    "random_sample.to_csv(\"test_samples.csv\")"
   ]
  },
  {
   "cell_type": "markdown",
   "metadata": {},
   "source": [
    "## 2.4 Välja modell"
   ]
  },
  {
   "cell_type": "code",
   "execution_count": 11,
   "metadata": {},
   "outputs": [],
   "source": [
    "from sklearn.model_selection import train_test_split\n",
    "from sklearn.linear_model import LogisticRegression\n",
    "from sklearn.preprocessing import StandardScaler\n",
    "from sklearn.model_selection import GridSearchCV\n",
    "from sklearn.pipeline import Pipeline\n",
    "from sklearn.neighbors import KNeighborsClassifier\n",
    "from sklearn.ensemble import RandomForestClassifier\n",
    "import numpy as np\n",
    "# I choosed 3 models which i though fitted well, KNN, logistic-regression and random-forest. I'm choosing\n",
    "#dataset 1 since I got best results on this one.\n",
    "\n",
    "X,y = df1_encoded.drop(\"cardio\", axis = 1), df1_encoded[\"cardio\"]\n",
    "X_train, X_test, y_train, y_test = train_test_split(X, y, test_size=0.3, random_state=42)\n",
    "X_train_val, X_test_val, y_train_val, y_test_val = train_test_split(X_train, y_train, test_size=0.3, random_state=42)\n",
    "\n",
    "\n",
    "scaler = StandardScaler()\n",
    "scaled_X_train = scaler.fit_transform(X_train)\n",
    "scaled_X_test = scaler.transform(X_test)\n"
   ]
  },
  {
   "cell_type": "code",
   "execution_count": 12,
   "metadata": {},
   "outputs": [
    {
     "name": "stdout",
     "output_type": "stream",
     "text": [
      "Fitting 3 folds for each of 12 candidates, totalling 36 fits\n",
      "[CV] END .criterion=gini, max_features=auto, n_estimators=50; total time=   1.4s\n",
      "[CV] END .criterion=gini, max_features=auto, n_estimators=50; total time=   1.1s\n",
      "[CV] END .criterion=gini, max_features=auto, n_estimators=50; total time=   1.1s\n",
      "[CV] END criterion=gini, max_features=auto, n_estimators=100; total time=   2.3s\n",
      "[CV] END criterion=gini, max_features=auto, n_estimators=100; total time=   2.4s\n",
      "[CV] END criterion=gini, max_features=auto, n_estimators=100; total time=   2.3s\n",
      "[CV] END .criterion=gini, max_features=sqrt, n_estimators=50; total time=   1.2s\n",
      "[CV] END .criterion=gini, max_features=sqrt, n_estimators=50; total time=   1.1s\n",
      "[CV] END .criterion=gini, max_features=sqrt, n_estimators=50; total time=   1.2s\n",
      "[CV] END criterion=gini, max_features=sqrt, n_estimators=100; total time=   2.5s\n",
      "[CV] END criterion=gini, max_features=sqrt, n_estimators=100; total time=   2.5s\n",
      "[CV] END criterion=gini, max_features=sqrt, n_estimators=100; total time=   2.5s\n",
      "[CV] END .criterion=gini, max_features=log2, n_estimators=50; total time=   1.1s\n",
      "[CV] END .criterion=gini, max_features=log2, n_estimators=50; total time=   1.2s\n",
      "[CV] END .criterion=gini, max_features=log2, n_estimators=50; total time=   1.2s\n",
      "[CV] END criterion=gini, max_features=log2, n_estimators=100; total time=   3.2s\n",
      "[CV] END criterion=gini, max_features=log2, n_estimators=100; total time=   2.5s\n",
      "[CV] END criterion=gini, max_features=log2, n_estimators=100; total time=   2.3s\n",
      "[CV] END criterion=entropy, max_features=auto, n_estimators=50; total time=   1.5s\n",
      "[CV] END criterion=entropy, max_features=auto, n_estimators=50; total time=   1.5s\n",
      "[CV] END criterion=entropy, max_features=auto, n_estimators=50; total time=   1.6s\n",
      "[CV] END criterion=entropy, max_features=auto, n_estimators=100; total time=   3.4s\n",
      "[CV] END criterion=entropy, max_features=auto, n_estimators=100; total time=   3.4s\n",
      "[CV] END criterion=entropy, max_features=auto, n_estimators=100; total time=   3.5s\n",
      "[CV] END criterion=entropy, max_features=sqrt, n_estimators=50; total time=   1.6s\n",
      "[CV] END criterion=entropy, max_features=sqrt, n_estimators=50; total time=   1.6s\n",
      "[CV] END criterion=entropy, max_features=sqrt, n_estimators=50; total time=   1.7s\n",
      "[CV] END criterion=entropy, max_features=sqrt, n_estimators=100; total time=   3.5s\n",
      "[CV] END criterion=entropy, max_features=sqrt, n_estimators=100; total time=   3.4s\n",
      "[CV] END criterion=entropy, max_features=sqrt, n_estimators=100; total time=   3.5s\n",
      "[CV] END criterion=entropy, max_features=log2, n_estimators=50; total time=   2.2s\n",
      "[CV] END criterion=entropy, max_features=log2, n_estimators=50; total time=   2.3s\n",
      "[CV] END criterion=entropy, max_features=log2, n_estimators=50; total time=   1.7s\n",
      "[CV] END criterion=entropy, max_features=log2, n_estimators=100; total time=   3.8s\n",
      "[CV] END criterion=entropy, max_features=log2, n_estimators=100; total time=   3.6s\n",
      "[CV] END criterion=entropy, max_features=log2, n_estimators=100; total time=   3.8s\n",
      "Fitting 3 folds for each of 3 candidates, totalling 9 fits\n",
      "[CV] END ................................knn__n_neighbors=33; total time=   8.1s\n",
      "[CV] END ................................knn__n_neighbors=33; total time=   5.9s\n",
      "[CV] END ................................knn__n_neighbors=33; total time=   5.2s\n",
      "[CV] END ................................knn__n_neighbors=34; total time=   5.5s\n",
      "[CV] END ................................knn__n_neighbors=34; total time=   5.1s\n",
      "[CV] END ................................knn__n_neighbors=34; total time=   5.0s\n",
      "[CV] END ................................knn__n_neighbors=35; total time=   5.1s\n",
      "[CV] END ................................knn__n_neighbors=35; total time=   4.6s\n",
      "[CV] END ................................knn__n_neighbors=35; total time=   4.6s\n",
      "Fitting 3 folds for each of 3 candidates, totalling 9 fits\n",
      "[CV] END .............................logistic__l1_ratio=0.0; total time=   1.9s\n",
      "[CV] END .............................logistic__l1_ratio=0.0; total time=   1.6s\n",
      "[CV] END .............................logistic__l1_ratio=0.0; total time=   1.6s\n",
      "[CV] END .............................logistic__l1_ratio=0.5; total time=   2.8s\n",
      "[CV] END .............................logistic__l1_ratio=0.5; total time=   2.7s\n",
      "[CV] END .............................logistic__l1_ratio=0.5; total time=   3.3s\n",
      "[CV] END .............................logistic__l1_ratio=1.0; total time=   3.3s\n",
      "[CV] END .............................logistic__l1_ratio=1.0; total time=   2.8s\n",
      "[CV] END .............................logistic__l1_ratio=1.0; total time=   2.7s\n"
     ]
    },
    {
     "data": {
      "text/plain": [
       "GridSearchCV(cv=3,\n",
       "             estimator=Pipeline(steps=[('scaler', StandardScaler()),\n",
       "                                       ('logistic',\n",
       "                                        LogisticRegression(max_iter=1000,\n",
       "                                                           multi_class='ovr',\n",
       "                                                           penalty='elasticnet',\n",
       "                                                           solver='saga'))]),\n",
       "             param_grid={'logistic__l1_ratio': array([0. , 0.5, 1. ])},\n",
       "             scoring='accuracy', verbose=2)"
      ]
     },
     "execution_count": 12,
     "metadata": {},
     "output_type": "execute_result"
    }
   ],
   "source": [
    "#Creating pipelines and using GridSearchCv to find best params for each model\n",
    "pipeline_KNN = Pipeline([(\"scaler\", StandardScaler()), (\"knn\", KNeighborsClassifier())])\n",
    "\n",
    "pipeline_logistic = Pipeline([(\"scaler\", StandardScaler()), (\"logistic\", LogisticRegression(\n",
    "    solver = \"saga\", penalty=\"elasticnet\", multi_class=\"ovr\", max_iter = 1000\n",
    "))])\n",
    "# searching 33-35 since 34 gave the highest value of 0-50.\n",
    "param_grid_KNN = {\"knn__n_neighbors\": list(range(33,36))}\n",
    "param_grid_logistic = {\"logistic__l1_ratio\": np.linspace(0,1,3)}\n",
    "param_grid_random_forest = {\n",
    "    \"n_estimators\": [50, 100],\n",
    "    \"criterion\": [\"gini\", \"entropy\"],\n",
    "    \"max_features\": [\"auto\", \"sqrt\", \"log2\"],\n",
    "}\n",
    "\n",
    "\n",
    "classifier_clf = GridSearchCV(RandomForestClassifier(), param_grid=param_grid_random_forest, cv=3,verbose=2, scoring=\"recall\")\n",
    "classifier_KNN = GridSearchCV(estimator=pipeline_KNN, cv = 3, scoring = \"accuracy\", verbose=2, param_grid=param_grid_KNN)\n",
    "classifier_logistic = GridSearchCV(estimator = pipeline_logistic, cv = 3, scoring = \"accuracy\", verbose=2, param_grid=param_grid_logistic)\n",
    "classifier_clf.fit(X_train_val, y_train_val)\n",
    "classifier_KNN.fit(X_train_val, y_train_val)\n",
    "classifier_logistic.fit(X_train_val, y_train_val)\n"
   ]
  },
  {
   "cell_type": "markdown",
   "metadata": {},
   "source": [
    "## 2.6 Evalueriangar"
   ]
  },
  {
   "cell_type": "code",
   "execution_count": 13,
   "metadata": {},
   "outputs": [
    {
     "name": "stdout",
     "output_type": "stream",
     "text": [
      "              precision    recall  f1-score   support\n",
      "\n",
      "           0       0.63      0.63      0.63      6960\n",
      "           1       0.62      0.62      0.62      6815\n",
      "\n",
      "    accuracy                           0.63     13775\n",
      "   macro avg       0.63      0.63      0.63     13775\n",
      "weighted avg       0.63      0.63      0.63     13775\n",
      "\n"
     ]
    },
    {
     "data": {
      "text/plain": [
       "<sklearn.metrics._plot.confusion_matrix.ConfusionMatrixDisplay at 0x21dc15f5460>"
      ]
     },
     "execution_count": 13,
     "metadata": {},
     "output_type": "execute_result"
    },
    {
     "data": {
      "image/png": "[encoded data removed]",
      "text/plain": [
       "<Figure size 432x288 with 2 Axes>"
      ]
     },
     "metadata": {
      "needs_background": "light"
     },
     "output_type": "display_data"
    }
   ],
   "source": [
    "from sklearn.metrics import classification_report, ConfusionMatrixDisplay, confusion_matrix\n",
    "y_pred = classifier_clf.predict(X_test_val)\n",
    "\n",
    "print(classification_report(y_test_val,y_pred))\n",
    "cm = confusion_matrix(y_test_val, y_pred)\n",
    "\n",
    "ConfusionMatrixDisplay(cm).plot()"
   ]
  },
  {
   "cell_type": "code",
   "execution_count": 14,
   "metadata": {},
   "outputs": [
    {
     "name": "stdout",
     "output_type": "stream",
     "text": [
      "              precision    recall  f1-score   support\n",
      "\n",
      "           0       0.67      0.76      0.71      6960\n",
      "           1       0.72      0.63      0.67      6815\n",
      "\n",
      "    accuracy                           0.69     13775\n",
      "   macro avg       0.69      0.69      0.69     13775\n",
      "weighted avg       0.69      0.69      0.69     13775\n",
      "\n"
     ]
    },
    {
     "data": {
      "text/plain": [
       "<sklearn.metrics._plot.confusion_matrix.ConfusionMatrixDisplay at 0x21dc15a7f40>"
      ]
     },
     "execution_count": 14,
     "metadata": {},
     "output_type": "execute_result"
    },
    {
     "data": {
      "image/png": "[encoded data removed]",
      "text/plain": [
       "<Figure size 432x288 with 2 Axes>"
      ]
     },
     "metadata": {
      "needs_background": "light"
     },
     "output_type": "display_data"
    }
   ],
   "source": [
    "from sklearn.metrics import classification_report, ConfusionMatrixDisplay, confusion_matrix\n",
    "y_pred = classifier_KNN.predict(X_test_val)\n",
    "\n",
    "print(classification_report(y_test_val,y_pred))\n",
    "cm = confusion_matrix(y_test_val, y_pred)\n",
    "\n",
    "ConfusionMatrixDisplay(cm).plot()"
   ]
  },
  {
   "cell_type": "code",
   "execution_count": 15,
   "metadata": {},
   "outputs": [
    {
     "data": {
      "text/plain": [
       "{'knn__n_neighbors': 35}"
      ]
     },
     "execution_count": 15,
     "metadata": {},
     "output_type": "execute_result"
    }
   ],
   "source": [
    "classifier_KNN.best_params_"
   ]
  },
  {
   "cell_type": "code",
   "execution_count": 16,
   "metadata": {},
   "outputs": [
    {
     "name": "stdout",
     "output_type": "stream",
     "text": [
      "              precision    recall  f1-score   support\n",
      "\n",
      "           0       0.68      0.78      0.73      6960\n",
      "           1       0.74      0.62      0.67      6815\n",
      "\n",
      "    accuracy                           0.70     13775\n",
      "   macro avg       0.71      0.70      0.70     13775\n",
      "weighted avg       0.71      0.70      0.70     13775\n",
      "\n"
     ]
    },
    {
     "data": {
      "text/plain": [
       "<sklearn.metrics._plot.confusion_matrix.ConfusionMatrixDisplay at 0x21dc13f92b0>"
      ]
     },
     "execution_count": 16,
     "metadata": {},
     "output_type": "execute_result"
    },
    {
     "data": {
      "image/png": "[encoded data removed]",
      "text/plain": [
       "<Figure size 432x288 with 2 Axes>"
      ]
     },
     "metadata": {
      "needs_background": "light"
     },
     "output_type": "display_data"
    }
   ],
   "source": [
    "y_pred = classifier_logistic.predict(X_test_val)\n",
    "\n",
    "print(classification_report(y_test_val,y_pred))\n",
    "cm = confusion_matrix(y_test_val, y_pred)\n",
    "\n",
    "ConfusionMatrixDisplay(cm).plot()"
   ]
  },
  {
   "cell_type": "code",
   "execution_count": 22,
   "metadata": {},
   "outputs": [
    {
     "data": {
      "text/plain": [
       "{'logistic__l1_ratio': 1.0}"
      ]
     },
     "execution_count": 22,
     "metadata": {},
     "output_type": "execute_result"
    }
   ],
   "source": [
    "classifier_logistic.best_params_"
   ]
  },
  {
   "cell_type": "markdown",
   "metadata": {},
   "source": [
    "## 2.5 Ensemble"
   ]
  },
  {
   "cell_type": "code",
   "execution_count": 17,
   "metadata": {},
   "outputs": [
    {
     "name": "stderr",
     "output_type": "stream",
     "text": [
      "C:\\Users\\fredr\\.virtualenvs\\Maskininl-rning-Fredrik-Hegardt-mmrJtyaC\\lib\\site-packages\\sklearn\\linear_model\\_sag.py:352: ConvergenceWarning: The max_iter was reached which means the coef_ did not converge\n",
      "  warnings.warn(\n"
     ]
    },
    {
     "name": "stdout",
     "output_type": "stream",
     "text": [
      "              precision    recall  f1-score   support\n",
      "\n",
      "           0       0.68      0.49      0.57     10088\n",
      "           1       0.59      0.76      0.66      9590\n",
      "\n",
      "    accuracy                           0.62     19678\n",
      "   macro avg       0.63      0.62      0.62     19678\n",
      "weighted avg       0.63      0.62      0.61     19678\n",
      "\n"
     ]
    },
    {
     "data": {
      "text/plain": [
       "<sklearn.metrics._plot.confusion_matrix.ConfusionMatrixDisplay at 0x21dc55e6cd0>"
      ]
     },
     "execution_count": 17,
     "metadata": {},
     "output_type": "execute_result"
    },
    {
     "data": {
      "image/png": "[encoded data removed]",
      "text/plain": [
       "<Figure size 432x288 with 2 Axes>"
      ]
     },
     "metadata": {
      "needs_background": "light"
     },
     "output_type": "display_data"
    }
   ],
   "source": [
    "from sklearn.ensemble import VotingClassifier\n",
    "# Using the votingclassifier to let the models vote. I have add the best params for each model\n",
    "# after check \"best params\" on each one.\n",
    "vote_model = VotingClassifier([\n",
    "    (\"logistic\", LogisticRegression(l1_ratio=0, solver = \"saga\", penalty=\"elasticnet\", multi_class=\"ovr\", max_iter = 1000)),\n",
    "    (\"Kneighbor\", KNeighborsClassifier(n_neighbors=34)),\n",
    "    (\"random_forest\", RandomForestClassifier(n_estimators = 200, criterion=\"gini\", max_features=\"auto\")),\n",
    "])\n",
    "\n",
    "vote_model.fit(X_train, y_train)\n",
    "y_pred = vote_model.predict(X_test)\n",
    "print(classification_report(y_test, y_pred))\n",
    "cm = confusion_matrix(y_test, y_pred)\n",
    "ConfusionMatrixDisplay(cm).plot()"
   ]
  },
  {
   "cell_type": "markdown",
   "metadata": {},
   "source": [
    "# 2.7 \"Deploy\" Spara modell"
   ]
  },
  {
   "cell_type": "code",
   "execution_count": 28,
   "metadata": {},
   "outputs": [
    {
     "name": "stdout",
     "output_type": "stream",
     "text": [
      "              precision    recall  f1-score   support\n",
      "\n",
      "           0       0.68      0.75      0.71     10088\n",
      "           1       0.71      0.63      0.67      9590\n",
      "\n",
      "    accuracy                           0.69     19678\n",
      "   macro avg       0.69      0.69      0.69     19678\n",
      "weighted avg       0.69      0.69      0.69     19678\n",
      "\n"
     ]
    },
    {
     "data": {
      "text/plain": [
       "<sklearn.metrics._plot.confusion_matrix.ConfusionMatrixDisplay at 0x21df5afa610>"
      ]
     },
     "execution_count": 28,
     "metadata": {},
     "output_type": "execute_result"
    },
    {
     "data": {
      "image/png": "[encoded data removed]",
      "text/plain": [
       "<Figure size 432x288 with 2 Axes>"
      ]
     },
     "metadata": {
      "needs_background": "light"
     },
     "output_type": "display_data"
    }
   ],
   "source": [
    "# Choosing the best model which was KNeighbor when i tried on the full data, it was very similar with \n",
    "# logistic but in the end this model won.\n",
    "full_X , full_y = df1_encoded.drop(\"cardio\", axis = 1), df1_encoded[\"cardio\"]\n",
    "best_model=KNeighborsClassifier(n_neighbors=34)\n",
    "best_model.fit(full_X, full_y)\n",
    "y_pred = classifier_KNN.predict(X_test)\n",
    "print(classification_report(y_test, y_pred))\n",
    "cm = confusion_matrix(y_test, y_pred)\n",
    "ConfusionMatrixDisplay(cm).plot()"
   ]
  },
  {
   "cell_type": "code",
   "execution_count": 29,
   "metadata": {},
   "outputs": [
    {
     "data": {
      "text/plain": [
       "['best_model.pkl']"
      ]
     },
     "execution_count": 29,
     "metadata": {},
     "output_type": "execute_result"
    }
   ],
   "source": [
    "# importing joblib and saved the model.\n",
    "import joblib\n",
    "joblib.dump(best_model, filename= \"best_model.pkl\")\n",
    "\n"
   ]
  }
 ],
 "metadata": {
  "interpreter": {
   "hash": "20e36f013206a17ac568431002223843abac3dbb024288464e9b0a20eb5fb034"
  },
  "kernelspec": {
   "display_name": "Python 3.9.6 ('Maskininl-rning-Fredrik-Hegardt-mmrJtyaC')",
   "language": "python",
   "name": "python3"
  },
  "language_info": {
   "codemirror_mode": {
    "name": "ipython",
    "version": 3
   },
   "file_extension": ".py",
   "mimetype": "text/x-python",
   "name": "python",
   "nbconvert_exporter": "python",
   "pygments_lexer": "ipython3",
   "version": "3.9.6"
  },
  "orig_nbformat": 4
 },
 "nbformat": 4,
 "nbformat_minor": 2
}
