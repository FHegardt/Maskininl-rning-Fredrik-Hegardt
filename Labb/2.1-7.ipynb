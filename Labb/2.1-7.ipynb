{
 "cells": [
  {
   "cell_type": "code",
   "execution_count": 50,
   "metadata": {},
   "outputs": [
    {
     "data": {
      "text/html": [
       "<div>\n",
       "<style scoped>\n",
       "    .dataframe tbody tr th:only-of-type {\n",
       "        vertical-align: middle;\n",
       "    }\n",
       "\n",
       "    .dataframe tbody tr th {\n",
       "        vertical-align: top;\n",
       "    }\n",
       "\n",
       "    .dataframe thead th {\n",
       "        text-align: right;\n",
       "    }\n",
       "</style>\n",
       "<table border=\"1\" class=\"dataframe\">\n",
       "  <thead>\n",
       "    <tr style=\"text-align: right;\">\n",
       "      <th></th>\n",
       "      <th>id</th>\n",
       "      <th>age</th>\n",
       "      <th>gender</th>\n",
       "      <th>height</th>\n",
       "      <th>weight</th>\n",
       "      <th>ap_hi</th>\n",
       "      <th>ap_lo</th>\n",
       "      <th>cholesterol</th>\n",
       "      <th>gluc</th>\n",
       "      <th>smoke</th>\n",
       "      <th>alco</th>\n",
       "      <th>active</th>\n",
       "      <th>cardio</th>\n",
       "    </tr>\n",
       "  </thead>\n",
       "  <tbody>\n",
       "    <tr>\n",
       "      <th>0</th>\n",
       "      <td>0</td>\n",
       "      <td>18393</td>\n",
       "      <td>2</td>\n",
       "      <td>168</td>\n",
       "      <td>62.0</td>\n",
       "      <td>110</td>\n",
       "      <td>80</td>\n",
       "      <td>1</td>\n",
       "      <td>1</td>\n",
       "      <td>0</td>\n",
       "      <td>0</td>\n",
       "      <td>1</td>\n",
       "      <td>0</td>\n",
       "    </tr>\n",
       "    <tr>\n",
       "      <th>1</th>\n",
       "      <td>1</td>\n",
       "      <td>20228</td>\n",
       "      <td>1</td>\n",
       "      <td>156</td>\n",
       "      <td>85.0</td>\n",
       "      <td>140</td>\n",
       "      <td>90</td>\n",
       "      <td>3</td>\n",
       "      <td>1</td>\n",
       "      <td>0</td>\n",
       "      <td>0</td>\n",
       "      <td>1</td>\n",
       "      <td>1</td>\n",
       "    </tr>\n",
       "    <tr>\n",
       "      <th>2</th>\n",
       "      <td>2</td>\n",
       "      <td>18857</td>\n",
       "      <td>1</td>\n",
       "      <td>165</td>\n",
       "      <td>64.0</td>\n",
       "      <td>130</td>\n",
       "      <td>70</td>\n",
       "      <td>3</td>\n",
       "      <td>1</td>\n",
       "      <td>0</td>\n",
       "      <td>0</td>\n",
       "      <td>0</td>\n",
       "      <td>1</td>\n",
       "    </tr>\n",
       "    <tr>\n",
       "      <th>3</th>\n",
       "      <td>3</td>\n",
       "      <td>17623</td>\n",
       "      <td>2</td>\n",
       "      <td>169</td>\n",
       "      <td>82.0</td>\n",
       "      <td>150</td>\n",
       "      <td>100</td>\n",
       "      <td>1</td>\n",
       "      <td>1</td>\n",
       "      <td>0</td>\n",
       "      <td>0</td>\n",
       "      <td>1</td>\n",
       "      <td>1</td>\n",
       "    </tr>\n",
       "    <tr>\n",
       "      <th>4</th>\n",
       "      <td>4</td>\n",
       "      <td>17474</td>\n",
       "      <td>1</td>\n",
       "      <td>156</td>\n",
       "      <td>56.0</td>\n",
       "      <td>100</td>\n",
       "      <td>60</td>\n",
       "      <td>1</td>\n",
       "      <td>1</td>\n",
       "      <td>0</td>\n",
       "      <td>0</td>\n",
       "      <td>0</td>\n",
       "      <td>0</td>\n",
       "    </tr>\n",
       "  </tbody>\n",
       "</table>\n",
       "</div>"
      ],
      "text/plain": [
       "   id    age  gender  height  weight  ap_hi  ap_lo  cholesterol  gluc  smoke  \\\n",
       "0   0  18393       2     168    62.0    110     80            1     1      0   \n",
       "1   1  20228       1     156    85.0    140     90            3     1      0   \n",
       "2   2  18857       1     165    64.0    130     70            3     1      0   \n",
       "3   3  17623       2     169    82.0    150    100            1     1      0   \n",
       "4   4  17474       1     156    56.0    100     60            1     1      0   \n",
       "\n",
       "   alco  active  cardio  \n",
       "0     0       1       0  \n",
       "1     0       1       1  \n",
       "2     0       0       1  \n",
       "3     0       1       1  \n",
       "4     0       0       0  "
      ]
     },
     "execution_count": 50,
     "metadata": {},
     "output_type": "execute_result"
    }
   ],
   "source": [
    "# 2.1.0 - Feature engineering BMI\n",
    "\n",
    "#Data loading\n",
    "import pandas as pd\n",
    "cardioData= pd.read_csv('./Data/cardio_train.csv', sep=';')\n",
    "cardioData.head()"
   ]
  },
  {
   "cell_type": "code",
   "execution_count": 51,
   "metadata": {},
   "outputs": [
    {
     "data": {
      "text/plain": [
       "67946"
      ]
     },
     "execution_count": 51,
     "metadata": {},
     "output_type": "execute_result"
    }
   ],
   "source": [
    "#a)\n",
    "\n",
    "cardioData = cardioData.drop(cardioData[cardioData.height < 150].index)\n",
    "cardioData = cardioData.drop(cardioData[cardioData.height > 220].index)\n",
    "cardioData = cardioData.drop(cardioData[cardioData.weight < 40].index)\n",
    "cardioData = cardioData.drop(cardioData[cardioData.height > 200].index)\n",
    "cardioData[\"BMI\"] = cardioData[\"weight\"] / (cardioData[\"height\"]/100)**2\n",
    "cardioData = cardioData.drop(cardioData[cardioData.BMI < 15].index)\n",
    "cardioData = cardioData.drop(cardioData[cardioData.BMI > 45].index)\n",
    "len(cardioData)\n"
   ]
  },
  {
   "cell_type": "code",
   "execution_count": 52,
   "metadata": {},
   "outputs": [
    {
     "data": {
      "text/plain": [
       "<AxesSubplot:xlabel='weight', ylabel='height'>"
      ]
     },
     "execution_count": 52,
     "metadata": {},
     "output_type": "execute_result"
    },
    {
     "data": {
      "image/png": "[encoded data removed]",
      "text/plain": [
       "<Figure size 432x288 with 1 Axes>"
      ]
     },
     "metadata": {
      "needs_background": "light"
     },
     "output_type": "display_data"
    }
   ],
   "source": [
    "#new scatter plot after dropping rows\n",
    "cardioData.plot.scatter(\"weight\", \"height\")"
   ]
  },
  {
   "cell_type": "code",
   "execution_count": 53,
   "metadata": {},
   "outputs": [
    {
     "data": {
      "text/html": [
       "<div>\n",
       "<style scoped>\n",
       "    .dataframe tbody tr th:only-of-type {\n",
       "        vertical-align: middle;\n",
       "    }\n",
       "\n",
       "    .dataframe tbody tr th {\n",
       "        vertical-align: top;\n",
       "    }\n",
       "\n",
       "    .dataframe thead th {\n",
       "        text-align: right;\n",
       "    }\n",
       "</style>\n",
       "<table border=\"1\" class=\"dataframe\">\n",
       "  <thead>\n",
       "    <tr style=\"text-align: right;\">\n",
       "      <th></th>\n",
       "      <th>id</th>\n",
       "      <th>age</th>\n",
       "      <th>gender</th>\n",
       "      <th>height</th>\n",
       "      <th>weight</th>\n",
       "      <th>ap_hi</th>\n",
       "      <th>ap_lo</th>\n",
       "      <th>cholesterol</th>\n",
       "      <th>gluc</th>\n",
       "      <th>smoke</th>\n",
       "      <th>alco</th>\n",
       "      <th>active</th>\n",
       "      <th>cardio</th>\n",
       "      <th>BMI</th>\n",
       "      <th>BMI_Range</th>\n",
       "    </tr>\n",
       "  </thead>\n",
       "  <tbody>\n",
       "    <tr>\n",
       "      <th>0</th>\n",
       "      <td>0</td>\n",
       "      <td>18393</td>\n",
       "      <td>2</td>\n",
       "      <td>168</td>\n",
       "      <td>62.0</td>\n",
       "      <td>110</td>\n",
       "      <td>80</td>\n",
       "      <td>1</td>\n",
       "      <td>1</td>\n",
       "      <td>0</td>\n",
       "      <td>0</td>\n",
       "      <td>1</td>\n",
       "      <td>0</td>\n",
       "      <td>21.967120</td>\n",
       "      <td>Normal range</td>\n",
       "    </tr>\n",
       "    <tr>\n",
       "      <th>1</th>\n",
       "      <td>1</td>\n",
       "      <td>20228</td>\n",
       "      <td>1</td>\n",
       "      <td>156</td>\n",
       "      <td>85.0</td>\n",
       "      <td>140</td>\n",
       "      <td>90</td>\n",
       "      <td>3</td>\n",
       "      <td>1</td>\n",
       "      <td>0</td>\n",
       "      <td>0</td>\n",
       "      <td>1</td>\n",
       "      <td>1</td>\n",
       "      <td>34.927679</td>\n",
       "      <td>Obese(Class1)</td>\n",
       "    </tr>\n",
       "    <tr>\n",
       "      <th>2</th>\n",
       "      <td>2</td>\n",
       "      <td>18857</td>\n",
       "      <td>1</td>\n",
       "      <td>165</td>\n",
       "      <td>64.0</td>\n",
       "      <td>130</td>\n",
       "      <td>70</td>\n",
       "      <td>3</td>\n",
       "      <td>1</td>\n",
       "      <td>0</td>\n",
       "      <td>0</td>\n",
       "      <td>0</td>\n",
       "      <td>1</td>\n",
       "      <td>23.507805</td>\n",
       "      <td>Normal range</td>\n",
       "    </tr>\n",
       "    <tr>\n",
       "      <th>3</th>\n",
       "      <td>3</td>\n",
       "      <td>17623</td>\n",
       "      <td>2</td>\n",
       "      <td>169</td>\n",
       "      <td>82.0</td>\n",
       "      <td>150</td>\n",
       "      <td>100</td>\n",
       "      <td>1</td>\n",
       "      <td>1</td>\n",
       "      <td>0</td>\n",
       "      <td>0</td>\n",
       "      <td>1</td>\n",
       "      <td>1</td>\n",
       "      <td>28.710479</td>\n",
       "      <td>Overweight</td>\n",
       "    </tr>\n",
       "    <tr>\n",
       "      <th>4</th>\n",
       "      <td>4</td>\n",
       "      <td>17474</td>\n",
       "      <td>1</td>\n",
       "      <td>156</td>\n",
       "      <td>56.0</td>\n",
       "      <td>100</td>\n",
       "      <td>60</td>\n",
       "      <td>1</td>\n",
       "      <td>1</td>\n",
       "      <td>0</td>\n",
       "      <td>0</td>\n",
       "      <td>0</td>\n",
       "      <td>0</td>\n",
       "      <td>23.011177</td>\n",
       "      <td>Normal range</td>\n",
       "    </tr>\n",
       "    <tr>\n",
       "      <th>...</th>\n",
       "      <td>...</td>\n",
       "      <td>...</td>\n",
       "      <td>...</td>\n",
       "      <td>...</td>\n",
       "      <td>...</td>\n",
       "      <td>...</td>\n",
       "      <td>...</td>\n",
       "      <td>...</td>\n",
       "      <td>...</td>\n",
       "      <td>...</td>\n",
       "      <td>...</td>\n",
       "      <td>...</td>\n",
       "      <td>...</td>\n",
       "      <td>...</td>\n",
       "      <td>...</td>\n",
       "    </tr>\n",
       "    <tr>\n",
       "      <th>69994</th>\n",
       "      <td>99992</td>\n",
       "      <td>21074</td>\n",
       "      <td>1</td>\n",
       "      <td>165</td>\n",
       "      <td>80.0</td>\n",
       "      <td>150</td>\n",
       "      <td>80</td>\n",
       "      <td>1</td>\n",
       "      <td>1</td>\n",
       "      <td>0</td>\n",
       "      <td>0</td>\n",
       "      <td>1</td>\n",
       "      <td>1</td>\n",
       "      <td>29.384757</td>\n",
       "      <td>Overweight</td>\n",
       "    </tr>\n",
       "    <tr>\n",
       "      <th>69995</th>\n",
       "      <td>99993</td>\n",
       "      <td>19240</td>\n",
       "      <td>2</td>\n",
       "      <td>168</td>\n",
       "      <td>76.0</td>\n",
       "      <td>120</td>\n",
       "      <td>80</td>\n",
       "      <td>1</td>\n",
       "      <td>1</td>\n",
       "      <td>1</td>\n",
       "      <td>0</td>\n",
       "      <td>1</td>\n",
       "      <td>0</td>\n",
       "      <td>26.927438</td>\n",
       "      <td>Overweight</td>\n",
       "    </tr>\n",
       "    <tr>\n",
       "      <th>69997</th>\n",
       "      <td>99996</td>\n",
       "      <td>19066</td>\n",
       "      <td>2</td>\n",
       "      <td>183</td>\n",
       "      <td>105.0</td>\n",
       "      <td>180</td>\n",
       "      <td>90</td>\n",
       "      <td>3</td>\n",
       "      <td>1</td>\n",
       "      <td>0</td>\n",
       "      <td>1</td>\n",
       "      <td>0</td>\n",
       "      <td>1</td>\n",
       "      <td>31.353579</td>\n",
       "      <td>Obese(Class1)</td>\n",
       "    </tr>\n",
       "    <tr>\n",
       "      <th>69998</th>\n",
       "      <td>99998</td>\n",
       "      <td>22431</td>\n",
       "      <td>1</td>\n",
       "      <td>163</td>\n",
       "      <td>72.0</td>\n",
       "      <td>135</td>\n",
       "      <td>80</td>\n",
       "      <td>1</td>\n",
       "      <td>2</td>\n",
       "      <td>0</td>\n",
       "      <td>0</td>\n",
       "      <td>0</td>\n",
       "      <td>1</td>\n",
       "      <td>27.099251</td>\n",
       "      <td>Overweight</td>\n",
       "    </tr>\n",
       "    <tr>\n",
       "      <th>69999</th>\n",
       "      <td>99999</td>\n",
       "      <td>20540</td>\n",
       "      <td>1</td>\n",
       "      <td>170</td>\n",
       "      <td>72.0</td>\n",
       "      <td>120</td>\n",
       "      <td>80</td>\n",
       "      <td>2</td>\n",
       "      <td>1</td>\n",
       "      <td>0</td>\n",
       "      <td>0</td>\n",
       "      <td>1</td>\n",
       "      <td>0</td>\n",
       "      <td>24.913495</td>\n",
       "      <td>Normal range</td>\n",
       "    </tr>\n",
       "  </tbody>\n",
       "</table>\n",
       "<p>67946 rows × 15 columns</p>\n",
       "</div>"
      ],
      "text/plain": [
       "          id    age  gender  height  weight  ap_hi  ap_lo  cholesterol  gluc  \\\n",
       "0          0  18393       2     168    62.0    110     80            1     1   \n",
       "1          1  20228       1     156    85.0    140     90            3     1   \n",
       "2          2  18857       1     165    64.0    130     70            3     1   \n",
       "3          3  17623       2     169    82.0    150    100            1     1   \n",
       "4          4  17474       1     156    56.0    100     60            1     1   \n",
       "...      ...    ...     ...     ...     ...    ...    ...          ...   ...   \n",
       "69994  99992  21074       1     165    80.0    150     80            1     1   \n",
       "69995  99993  19240       2     168    76.0    120     80            1     1   \n",
       "69997  99996  19066       2     183   105.0    180     90            3     1   \n",
       "69998  99998  22431       1     163    72.0    135     80            1     2   \n",
       "69999  99999  20540       1     170    72.0    120     80            2     1   \n",
       "\n",
       "       smoke  alco  active  cardio        BMI      BMI_Range  \n",
       "0          0     0       1       0  21.967120   Normal range  \n",
       "1          0     0       1       1  34.927679  Obese(Class1)  \n",
       "2          0     0       0       1  23.507805   Normal range  \n",
       "3          0     0       1       1  28.710479     Overweight  \n",
       "4          0     0       0       0  23.011177   Normal range  \n",
       "...      ...   ...     ...     ...        ...            ...  \n",
       "69994      0     0       1       1  29.384757     Overweight  \n",
       "69995      1     0       1       0  26.927438     Overweight  \n",
       "69997      0     1       0       1  31.353579  Obese(Class1)  \n",
       "69998      0     0       0       1  27.099251     Overweight  \n",
       "69999      0     0       1       0  24.913495   Normal range  \n",
       "\n",
       "[67946 rows x 15 columns]"
      ]
     },
     "execution_count": 53,
     "metadata": {},
     "output_type": "execute_result"
    }
   ],
   "source": [
    "# BMI range from https://www.cdc.gov/obesity/adult/defining.html\n",
    "#If your BMI is 18.5 to <25, it falls within the healthy weight range.\n",
    "#If your BMI is 25.0 to <30, it falls within the overweight range.\n",
    "#Class 1: BMI of 30 to < 35\n",
    "#Class 2: BMI of 35 to < 40\n",
    "#Class 3: BMI of 40 or higher. \n",
    "\n",
    "#code example is taken from https://www.dataquest.io/blog/tutorial-add-column-pandas-dataframe-based-on-if-else-condition/\n",
    "import numpy as np\n",
    "\n",
    "\n",
    "conditions = [\n",
    "    (cardioData['BMI'] <= 18.5),\n",
    "    (cardioData['BMI'] > 18.5) & (cardioData['BMI'] <= 25),\n",
    "    (cardioData['BMI'] > 25) & (cardioData['BMI'] <= 30),\n",
    "    (cardioData['BMI'] > 30) & (cardioData['BMI'] <= 35),\n",
    "    (cardioData['BMI'] > 35) & (cardioData['BMI'] <= 40),\n",
    "    (cardioData['BMI'] > 40)\n",
    "    ]\n",
    "\n",
    "values = ['Underweight','Normal range', 'Overweight', 'Obese(Class1)', 'Obese(Class2)', 'Obese(Class3)']\n",
    "\n",
    "cardioData['BMI_Range'] = np.select(conditions, values)\n",
    "cardioData\n"
   ]
  },
  {
   "cell_type": "markdown",
   "metadata": {},
   "source": [
    "## 2.1.1 Feature engineering blodtryck"
   ]
  },
  {
   "cell_type": "code",
   "execution_count": 54,
   "metadata": {},
   "outputs": [
    {
     "data": {
      "text/plain": [
       "66740"
      ]
     },
     "execution_count": 54,
     "metadata": {},
     "output_type": "execute_result"
    }
   ],
   "source": [
    "#a)\n",
    "cardioData = cardioData.drop(cardioData[cardioData.ap_hi < 70].index)\n",
    "cardioData = cardioData.drop(cardioData[cardioData.ap_hi > 230].index)\n",
    "cardioData = cardioData.drop(cardioData[cardioData.ap_lo < 50].index)\n",
    "cardioData = cardioData.drop(cardioData[cardioData.ap_lo > 160].index)\n",
    "len(cardioData)"
   ]
  },
  {
   "cell_type": "code",
   "execution_count": 55,
   "metadata": {},
   "outputs": [
    {
     "data": {
      "text/plain": [
       "0        Stage 1 Hypertension\n",
       "1        Stage 2 Hypertension\n",
       "2        Stage 1 Hypertension\n",
       "3        Stage 2 Hypertension\n",
       "4                     Healthy\n",
       "                 ...         \n",
       "69994    Stage 1 Hypertension\n",
       "69995    Stage 1 Hypertension\n",
       "69997    Stage 2 Hypertension\n",
       "69998    Stage 1 Hypertension\n",
       "69999    Stage 1 Hypertension\n",
       "Name: AP_categories, Length: 66740, dtype: object"
      ]
     },
     "execution_count": 55,
     "metadata": {},
     "output_type": "execute_result"
    }
   ],
   "source": [
    "conditions2 = [\n",
    "    (cardioData['ap_lo'] < 80) & (cardioData['ap_hi'] < 120),\n",
    "    (cardioData['ap_hi'] >= 120) & (cardioData['ap_hi'] <= 129) & (cardioData['ap_lo'] < 80),\n",
    "    (cardioData['ap_lo'] >= 80) & (cardioData['ap_lo'] <= 89) , (cardioData['ap_hi'] > 129) & (cardioData['ap_hi'] <= 139),\n",
    "    (cardioData['ap_lo'] > 89) & (cardioData['ap_lo'] <= 119) , (cardioData['ap_hi'] > 139) & (cardioData['ap_hi'] <= 180),\n",
    "    (cardioData['ap_lo'] > 180), (cardioData['ap_hi'] > 120), \n",
    "    ]\n",
    "\n",
    "values2 = ['Healthy','Elevated', 'Stage 1 Hypertension', 'Stage 1 Hypertension', 'Stage 2 Hypertension', 'Stage 2 Hypertension', 'Hypertension crisis', 'Hypertension crisis']\n",
    "cardioData['AP_categories'] = np.select(conditions2, values2)\n",
    "cardioData['AP_categories']"
   ]
  },
  {
   "cell_type": "markdown",
   "metadata": {},
   "source": [
    "### Visualiseringar antal sjukdomar"
   ]
  },
  {
   "cell_type": "code",
   "execution_count": 56,
   "metadata": {},
   "outputs": [
    {
     "data": {
      "image/png": "[encoded data removed]",
      "text/plain": [
       "<Figure size 480x320 with 1 Axes>"
      ]
     },
     "metadata": {
      "needs_background": "light"
     },
     "output_type": "display_data"
    },
    {
     "data": {
      "image/png": "[encoded data removed]",
      "text/plain": [
       "<Figure size 480x320 with 1 Axes>"
      ]
     },
     "metadata": {
      "needs_background": "light"
     },
     "output_type": "display_data"
    }
   ],
   "source": [
    "import seaborn as sns\n",
    "import matplotlib.pyplot as plt\n",
    "#plot_cardio_data = cardioData[cardioData[\"cardio\"]==1]\n",
    "plot_list = [\"BMI_Range\",\"AP_categories\"]\n",
    "\n",
    "\n",
    "for i in range(len(plot_list)):\n",
    "    fig, ax = plt.subplots(dpi=80)\n",
    "    sns.barplot(x = cardioData[\"cardio\"], y = cardioData[plot_list[i]])"
   ]
  },
  {
   "cell_type": "markdown",
   "metadata": {},
   "source": [
    "## Visualiseringar korrelation\n",
    "\n",
    "### Nedan Heatmap visar korrelation mellan olika features. Följande har korrelationer:\n",
    "\n",
    "- Högt blodtryck och kardiovaskulär sjukdom, vilket är naturligt då vi vet att högt blodtryck är farligt och kan leda till just det. \n",
    "- Höga kolesterolvärden kardiovaskulär sjukdom, samma svar på varför som ovan.\n",
    "- Ålder / BMI och kardiovaskulär sjukdom har små korrelattioner, vi vet att detta är riskfaktorer också.\n",
    "- Rökning och alkohol korrelerar, båda är droger och är man öppen för att inta den ena så ökar risken att man är det även för den andra.\n",
    "- Glukos och höga kolesterolvärden, båda är kopplad till dålig kost. Mycket socker i dieten ökar glukosvärden och mycket (dåligt) fett ökar kolesterol.\n",
    "- Längd och kön samt vikt och kön, män är både längre och väger mer än kvinnor så denna korrelation är helt naturlig.\n",
    "\n",
    "- Vikt och BMI, vilket inte är så konstigt då BMI är beroende av vikt i sin uträkning.\n",
    "- Längd och BMI är negativt korrelerade, vilket inte är så konstigt då BMI är beroende av längd i sin uträkning.\n"
   ]
  },
  {
   "cell_type": "code",
   "execution_count": 57,
   "metadata": {},
   "outputs": [
    {
     "data": {
      "text/plain": [
       "<AxesSubplot:>"
      ]
     },
     "execution_count": 57,
     "metadata": {},
     "output_type": "execute_result"
    },
    {
     "data": {
      "image/png": "[encoded data removed]",
      "text/plain": [
       "<Figure size 432x288 with 2 Axes>"
      ]
     },
     "metadata": {
      "needs_background": "light"
     },
     "output_type": "display_data"
    }
   ],
   "source": [
    "cardioDataHeatMap =cardioData.drop(\"id\", axis=1)\n",
    "sns.heatmap(cardioDataHeatMap.corr(), vmin = -1, vmax= 1, annot=False, center = 0)"
   ]
  },
  {
   "cell_type": "markdown",
   "metadata": {},
   "source": [
    "## 2.3 Skapa två dataset"
   ]
  },
  {
   "cell_type": "code",
   "execution_count": 58,
   "metadata": {},
   "outputs": [
    {
     "data": {
      "text/html": [
       "<div>\n",
       "<style scoped>\n",
       "    .dataframe tbody tr th:only-of-type {\n",
       "        vertical-align: middle;\n",
       "    }\n",
       "\n",
       "    .dataframe tbody tr th {\n",
       "        vertical-align: top;\n",
       "    }\n",
       "\n",
       "    .dataframe thead th {\n",
       "        text-align: right;\n",
       "    }\n",
       "</style>\n",
       "<table border=\"1\" class=\"dataframe\">\n",
       "  <thead>\n",
       "    <tr style=\"text-align: right;\">\n",
       "      <th></th>\n",
       "      <th>age</th>\n",
       "      <th>gender</th>\n",
       "      <th>cholesterol</th>\n",
       "      <th>gluc</th>\n",
       "      <th>smoke</th>\n",
       "      <th>alco</th>\n",
       "      <th>active</th>\n",
       "      <th>cardio</th>\n",
       "      <th>BMI_Range_Obese(Class1)</th>\n",
       "      <th>BMI_Range_Obese(Class2)</th>\n",
       "      <th>BMI_Range_Obese(Class3)</th>\n",
       "      <th>BMI_Range_Overweight</th>\n",
       "      <th>BMI_Range_Underweight</th>\n",
       "      <th>AP_categories_Elevated</th>\n",
       "      <th>AP_categories_Healthy</th>\n",
       "      <th>AP_categories_Hypertension crisis</th>\n",
       "      <th>AP_categories_Stage 1 Hypertension</th>\n",
       "      <th>AP_categories_Stage 2 Hypertension</th>\n",
       "    </tr>\n",
       "  </thead>\n",
       "  <tbody>\n",
       "    <tr>\n",
       "      <th>0</th>\n",
       "      <td>18393</td>\n",
       "      <td>2</td>\n",
       "      <td>1</td>\n",
       "      <td>1</td>\n",
       "      <td>0</td>\n",
       "      <td>0</td>\n",
       "      <td>1</td>\n",
       "      <td>0</td>\n",
       "      <td>0</td>\n",
       "      <td>0</td>\n",
       "      <td>0</td>\n",
       "      <td>0</td>\n",
       "      <td>0</td>\n",
       "      <td>0</td>\n",
       "      <td>0</td>\n",
       "      <td>0</td>\n",
       "      <td>1</td>\n",
       "      <td>0</td>\n",
       "    </tr>\n",
       "    <tr>\n",
       "      <th>1</th>\n",
       "      <td>20228</td>\n",
       "      <td>1</td>\n",
       "      <td>3</td>\n",
       "      <td>1</td>\n",
       "      <td>0</td>\n",
       "      <td>0</td>\n",
       "      <td>1</td>\n",
       "      <td>1</td>\n",
       "      <td>1</td>\n",
       "      <td>0</td>\n",
       "      <td>0</td>\n",
       "      <td>0</td>\n",
       "      <td>0</td>\n",
       "      <td>0</td>\n",
       "      <td>0</td>\n",
       "      <td>0</td>\n",
       "      <td>0</td>\n",
       "      <td>1</td>\n",
       "    </tr>\n",
       "    <tr>\n",
       "      <th>2</th>\n",
       "      <td>18857</td>\n",
       "      <td>1</td>\n",
       "      <td>3</td>\n",
       "      <td>1</td>\n",
       "      <td>0</td>\n",
       "      <td>0</td>\n",
       "      <td>0</td>\n",
       "      <td>1</td>\n",
       "      <td>0</td>\n",
       "      <td>0</td>\n",
       "      <td>0</td>\n",
       "      <td>0</td>\n",
       "      <td>0</td>\n",
       "      <td>0</td>\n",
       "      <td>0</td>\n",
       "      <td>0</td>\n",
       "      <td>1</td>\n",
       "      <td>0</td>\n",
       "    </tr>\n",
       "    <tr>\n",
       "      <th>3</th>\n",
       "      <td>17623</td>\n",
       "      <td>2</td>\n",
       "      <td>1</td>\n",
       "      <td>1</td>\n",
       "      <td>0</td>\n",
       "      <td>0</td>\n",
       "      <td>1</td>\n",
       "      <td>1</td>\n",
       "      <td>0</td>\n",
       "      <td>0</td>\n",
       "      <td>0</td>\n",
       "      <td>1</td>\n",
       "      <td>0</td>\n",
       "      <td>0</td>\n",
       "      <td>0</td>\n",
       "      <td>0</td>\n",
       "      <td>0</td>\n",
       "      <td>1</td>\n",
       "    </tr>\n",
       "    <tr>\n",
       "      <th>4</th>\n",
       "      <td>17474</td>\n",
       "      <td>1</td>\n",
       "      <td>1</td>\n",
       "      <td>1</td>\n",
       "      <td>0</td>\n",
       "      <td>0</td>\n",
       "      <td>0</td>\n",
       "      <td>0</td>\n",
       "      <td>0</td>\n",
       "      <td>0</td>\n",
       "      <td>0</td>\n",
       "      <td>0</td>\n",
       "      <td>0</td>\n",
       "      <td>0</td>\n",
       "      <td>1</td>\n",
       "      <td>0</td>\n",
       "      <td>0</td>\n",
       "      <td>0</td>\n",
       "    </tr>\n",
       "    <tr>\n",
       "      <th>...</th>\n",
       "      <td>...</td>\n",
       "      <td>...</td>\n",
       "      <td>...</td>\n",
       "      <td>...</td>\n",
       "      <td>...</td>\n",
       "      <td>...</td>\n",
       "      <td>...</td>\n",
       "      <td>...</td>\n",
       "      <td>...</td>\n",
       "      <td>...</td>\n",
       "      <td>...</td>\n",
       "      <td>...</td>\n",
       "      <td>...</td>\n",
       "      <td>...</td>\n",
       "      <td>...</td>\n",
       "      <td>...</td>\n",
       "      <td>...</td>\n",
       "      <td>...</td>\n",
       "    </tr>\n",
       "    <tr>\n",
       "      <th>69994</th>\n",
       "      <td>21074</td>\n",
       "      <td>1</td>\n",
       "      <td>1</td>\n",
       "      <td>1</td>\n",
       "      <td>0</td>\n",
       "      <td>0</td>\n",
       "      <td>1</td>\n",
       "      <td>1</td>\n",
       "      <td>0</td>\n",
       "      <td>0</td>\n",
       "      <td>0</td>\n",
       "      <td>1</td>\n",
       "      <td>0</td>\n",
       "      <td>0</td>\n",
       "      <td>0</td>\n",
       "      <td>0</td>\n",
       "      <td>1</td>\n",
       "      <td>0</td>\n",
       "    </tr>\n",
       "    <tr>\n",
       "      <th>69995</th>\n",
       "      <td>19240</td>\n",
       "      <td>2</td>\n",
       "      <td>1</td>\n",
       "      <td>1</td>\n",
       "      <td>1</td>\n",
       "      <td>0</td>\n",
       "      <td>1</td>\n",
       "      <td>0</td>\n",
       "      <td>0</td>\n",
       "      <td>0</td>\n",
       "      <td>0</td>\n",
       "      <td>1</td>\n",
       "      <td>0</td>\n",
       "      <td>0</td>\n",
       "      <td>0</td>\n",
       "      <td>0</td>\n",
       "      <td>1</td>\n",
       "      <td>0</td>\n",
       "    </tr>\n",
       "    <tr>\n",
       "      <th>69997</th>\n",
       "      <td>19066</td>\n",
       "      <td>2</td>\n",
       "      <td>3</td>\n",
       "      <td>1</td>\n",
       "      <td>0</td>\n",
       "      <td>1</td>\n",
       "      <td>0</td>\n",
       "      <td>1</td>\n",
       "      <td>1</td>\n",
       "      <td>0</td>\n",
       "      <td>0</td>\n",
       "      <td>0</td>\n",
       "      <td>0</td>\n",
       "      <td>0</td>\n",
       "      <td>0</td>\n",
       "      <td>0</td>\n",
       "      <td>0</td>\n",
       "      <td>1</td>\n",
       "    </tr>\n",
       "    <tr>\n",
       "      <th>69998</th>\n",
       "      <td>22431</td>\n",
       "      <td>1</td>\n",
       "      <td>1</td>\n",
       "      <td>2</td>\n",
       "      <td>0</td>\n",
       "      <td>0</td>\n",
       "      <td>0</td>\n",
       "      <td>1</td>\n",
       "      <td>0</td>\n",
       "      <td>0</td>\n",
       "      <td>0</td>\n",
       "      <td>1</td>\n",
       "      <td>0</td>\n",
       "      <td>0</td>\n",
       "      <td>0</td>\n",
       "      <td>0</td>\n",
       "      <td>1</td>\n",
       "      <td>0</td>\n",
       "    </tr>\n",
       "    <tr>\n",
       "      <th>69999</th>\n",
       "      <td>20540</td>\n",
       "      <td>1</td>\n",
       "      <td>2</td>\n",
       "      <td>1</td>\n",
       "      <td>0</td>\n",
       "      <td>0</td>\n",
       "      <td>1</td>\n",
       "      <td>0</td>\n",
       "      <td>0</td>\n",
       "      <td>0</td>\n",
       "      <td>0</td>\n",
       "      <td>0</td>\n",
       "      <td>0</td>\n",
       "      <td>0</td>\n",
       "      <td>0</td>\n",
       "      <td>0</td>\n",
       "      <td>1</td>\n",
       "      <td>0</td>\n",
       "    </tr>\n",
       "  </tbody>\n",
       "</table>\n",
       "<p>66740 rows × 18 columns</p>\n",
       "</div>"
      ],
      "text/plain": [
       "         age  gender  cholesterol  gluc  smoke  alco  active  cardio  \\\n",
       "0      18393       2            1     1      0     0       1       0   \n",
       "1      20228       1            3     1      0     0       1       1   \n",
       "2      18857       1            3     1      0     0       0       1   \n",
       "3      17623       2            1     1      0     0       1       1   \n",
       "4      17474       1            1     1      0     0       0       0   \n",
       "...      ...     ...          ...   ...    ...   ...     ...     ...   \n",
       "69994  21074       1            1     1      0     0       1       1   \n",
       "69995  19240       2            1     1      1     0       1       0   \n",
       "69997  19066       2            3     1      0     1       0       1   \n",
       "69998  22431       1            1     2      0     0       0       1   \n",
       "69999  20540       1            2     1      0     0       1       0   \n",
       "\n",
       "       BMI_Range_Obese(Class1)  BMI_Range_Obese(Class2)  \\\n",
       "0                            0                        0   \n",
       "1                            1                        0   \n",
       "2                            0                        0   \n",
       "3                            0                        0   \n",
       "4                            0                        0   \n",
       "...                        ...                      ...   \n",
       "69994                        0                        0   \n",
       "69995                        0                        0   \n",
       "69997                        1                        0   \n",
       "69998                        0                        0   \n",
       "69999                        0                        0   \n",
       "\n",
       "       BMI_Range_Obese(Class3)  BMI_Range_Overweight  BMI_Range_Underweight  \\\n",
       "0                            0                     0                      0   \n",
       "1                            0                     0                      0   \n",
       "2                            0                     0                      0   \n",
       "3                            0                     1                      0   \n",
       "4                            0                     0                      0   \n",
       "...                        ...                   ...                    ...   \n",
       "69994                        0                     1                      0   \n",
       "69995                        0                     1                      0   \n",
       "69997                        0                     0                      0   \n",
       "69998                        0                     1                      0   \n",
       "69999                        0                     0                      0   \n",
       "\n",
       "       AP_categories_Elevated  AP_categories_Healthy  \\\n",
       "0                           0                      0   \n",
       "1                           0                      0   \n",
       "2                           0                      0   \n",
       "3                           0                      0   \n",
       "4                           0                      1   \n",
       "...                       ...                    ...   \n",
       "69994                       0                      0   \n",
       "69995                       0                      0   \n",
       "69997                       0                      0   \n",
       "69998                       0                      0   \n",
       "69999                       0                      0   \n",
       "\n",
       "       AP_categories_Hypertension crisis  AP_categories_Stage 1 Hypertension  \\\n",
       "0                                      0                                   1   \n",
       "1                                      0                                   0   \n",
       "2                                      0                                   1   \n",
       "3                                      0                                   0   \n",
       "4                                      0                                   0   \n",
       "...                                  ...                                 ...   \n",
       "69994                                  0                                   1   \n",
       "69995                                  0                                   1   \n",
       "69997                                  0                                   0   \n",
       "69998                                  0                                   1   \n",
       "69999                                  0                                   1   \n",
       "\n",
       "       AP_categories_Stage 2 Hypertension  \n",
       "0                                       0  \n",
       "1                                       1  \n",
       "2                                       0  \n",
       "3                                       1  \n",
       "4                                       0  \n",
       "...                                   ...  \n",
       "69994                                   0  \n",
       "69995                                   0  \n",
       "69997                                   1  \n",
       "69998                                   0  \n",
       "69999                                   0  \n",
       "\n",
       "[66740 rows x 18 columns]"
      ]
     },
     "execution_count": 58,
     "metadata": {},
     "output_type": "execute_result"
    }
   ],
   "source": [
    "df1=cardioData.drop([\"id\",\"ap_hi\", \"ap_lo\", \"weight\", \"height\", \"BMI\" ],axis=1)\n",
    "df2=cardioData.drop([\"id\",\"height\",\"weight\", \"BMI_Range\", \"AP_categories\"],axis=1)\n",
    "\n",
    "df1_encoded = pd.get_dummies(df1, drop_first=True)\n",
    "df2_encoded= pd.get_dummies(df2, drop_first=True)\n",
    "df1_encoded"
   ]
  },
  {
   "cell_type": "markdown",
   "metadata": {},
   "source": [
    "## 2.4 Välja modell"
   ]
  },
  {
   "cell_type": "code",
   "execution_count": 59,
   "metadata": {},
   "outputs": [],
   "source": [
    "from sklearn.model_selection import train_test_split\n",
    "from sklearn.linear_model import LogisticRegression\n",
    "from sklearn.preprocessing import StandardScaler\n",
    "from sklearn.model_selection import GridSearchCV\n",
    "from sklearn.pipeline import Pipeline\n",
    "from sklearn.neighbors import KNeighborsClassifier\n",
    "from sklearn.ensemble import RandomForestClassifier\n",
    "import numpy as np\n",
    "\n",
    "\n",
    "X,y = df1_encoded.drop(\"cardio\", axis = 1), df1_encoded[\"cardio\"]\n",
    "X_train, X_test, y_train, y_test = train_test_split(X, y, test_size=0.3, random_state=42)\n",
    "X_train_val, X_val, y_train_val, y_test_val = train_test_split(X_train, y_train, test_size=0.3, random_state=42)\n",
    "\n",
    "\n",
    "scaler = StandardScaler()\n",
    "scaled_X_train = scaler.fit_transform(X_train)\n",
    "scaled_X_test = scaler.transform(X_test)\n",
    "\n",
    "model_logistic = LogisticRegression()\n",
    "model_logistic.fit(scaled_X_train, y_train)\n",
    "model_logistic.coef_, model_logistic.intercept_\n",
    "y_pred = model_logistic.predict(scaled_X_test)\n"
   ]
  },
  {
   "cell_type": "code",
   "execution_count": 74,
   "metadata": {},
   "outputs": [
    {
     "name": "stdout",
     "output_type": "stream",
     "text": [
      "Fitting 5 folds for each of 3 candidates, totalling 15 fits\n",
      "[CV] END ................................knn__n_neighbors=33; total time=   9.7s\n",
      "[CV] END ................................knn__n_neighbors=33; total time=   6.7s\n",
      "[CV] END ................................knn__n_neighbors=33; total time=   6.0s\n",
      "[CV] END ................................knn__n_neighbors=33; total time=   6.4s\n",
      "[CV] END ................................knn__n_neighbors=33; total time=   6.6s\n",
      "[CV] END ................................knn__n_neighbors=34; total time=   7.2s\n",
      "[CV] END ................................knn__n_neighbors=34; total time=   7.0s\n",
      "[CV] END ................................knn__n_neighbors=34; total time=   6.3s\n",
      "[CV] END ................................knn__n_neighbors=34; total time=   6.8s\n",
      "[CV] END ................................knn__n_neighbors=34; total time=   7.1s\n",
      "[CV] END ................................knn__n_neighbors=35; total time=   6.7s\n",
      "[CV] END ................................knn__n_neighbors=35; total time=   6.6s\n",
      "[CV] END ................................knn__n_neighbors=35; total time=   5.9s\n",
      "[CV] END ................................knn__n_neighbors=35; total time=   6.4s\n",
      "[CV] END ................................knn__n_neighbors=35; total time=   6.5s\n"
     ]
    },
    {
     "data": {
      "text/plain": [
       "GridSearchCV(cv=5,\n",
       "             estimator=Pipeline(steps=[('scaler', StandardScaler()),\n",
       "                                       ('knn', KNeighborsClassifier())]),\n",
       "             param_grid={'knn__n_neighbors': [33, 34, 35]}, scoring='accuracy',\n",
       "             verbose=2)"
      ]
     },
     "execution_count": 74,
     "metadata": {},
     "output_type": "execute_result"
    }
   ],
   "source": [
    "pipeline_KNN = Pipeline([(\"scaler\", StandardScaler()), (\"knn\", KNeighborsClassifier())])\n",
    "\n",
    "pipeline_logistic = Pipeline([(\"scaler\", StandardScaler()), (\"logistic\", LogisticRegression(\n",
    "    solver = \"saga\", penalty=\"elasticnet\", multi_class=\"ovr\", max_iter = 1000\n",
    "))])\n",
    "# searching 33-35 since 34 gave the highest value of 0-45.\n",
    "param_grid_KNN = {\"knn__n_neighbors\": list(range(33,36))}\n",
    "param_grid_logistic = {\"logistic__l1_ratio\": np.linspace(0,1,6)}\n",
    "param_grid_random_forest = {\n",
    "    \"n_estimators\": [50, 100, 150,200, 250],\n",
    "    \"criterion\": [\"gini\", \"entropy\"],\n",
    "    \"max_features\": [\"auto\", \"sqrt\", \"log2\"],\n",
    "}\n",
    "\n",
    "\n",
    "#classifier_clf = GridSearchCV(RandomForestClassifier(), param_grid=param_grid_random_forest, cv=5,verbose=2, scoring=\"recall\")\n",
    "classifier_KNN = GridSearchCV(estimator=pipeline_KNN, cv = 5, scoring = \"accuracy\", verbose=2, param_grid=param_grid_KNN)\n",
    "#classifier_logistic = GridSearchCV(estimator = pipeline_logistic, cv = 5, scoring = \"accuracy\", verbose=2, param_grid=param_grid_logistic)\n",
    "#classifier_clf.fit(X_train, y_train)\n",
    "classifier_KNN.fit(X_train, y_train)\n",
    "#classifier_logistic.fit(X_train, y_train)\n"
   ]
  },
  {
   "cell_type": "code",
   "execution_count": 63,
   "metadata": {},
   "outputs": [
    {
     "name": "stdout",
     "output_type": "stream",
     "text": [
      "              precision    recall  f1-score   support\n",
      "\n",
      "           0       0.62      0.63      0.62     10170\n",
      "           1       0.61      0.61      0.61      9852\n",
      "\n",
      "    accuracy                           0.62     20022\n",
      "   macro avg       0.62      0.62      0.62     20022\n",
      "weighted avg       0.62      0.62      0.62     20022\n",
      "\n"
     ]
    },
    {
     "data": {
      "text/plain": [
       "<sklearn.metrics._plot.confusion_matrix.ConfusionMatrixDisplay at 0x268d5bc9550>"
      ]
     },
     "execution_count": 63,
     "metadata": {},
     "output_type": "execute_result"
    },
    {
     "data": {
      "image/png": "[encoded data removed]",
      "text/plain": [
       "<Figure size 432x288 with 2 Axes>"
      ]
     },
     "metadata": {
      "needs_background": "light"
     },
     "output_type": "display_data"
    }
   ],
   "source": [
    "from sklearn.metrics import classification_report, ConfusionMatrixDisplay, confusion_matrix\n",
    "y_pred = classifier_clf.predict(X_test)\n",
    "\n",
    "print(classification_report(y_test,y_pred))\n",
    "cm = confusion_matrix(y_test, y_pred)\n",
    "\n",
    "ConfusionMatrixDisplay(cm).plot()"
   ]
  },
  {
   "cell_type": "code",
   "execution_count": 71,
   "metadata": {},
   "outputs": [
    {
     "name": "stdout",
     "output_type": "stream",
     "text": [
      "              precision    recall  f1-score   support\n",
      "\n",
      "           0       0.69      0.75      0.72     10170\n",
      "           1       0.71      0.65      0.68      9852\n",
      "\n",
      "    accuracy                           0.70     20022\n",
      "   macro avg       0.70      0.70      0.70     20022\n",
      "weighted avg       0.70      0.70      0.70     20022\n",
      "\n"
     ]
    },
    {
     "data": {
      "text/plain": [
       "<sklearn.metrics._plot.confusion_matrix.ConfusionMatrixDisplay at 0x268df70fe50>"
      ]
     },
     "execution_count": 71,
     "metadata": {},
     "output_type": "execute_result"
    },
    {
     "data": {
      "image/png": "[encoded data removed]",
      "text/plain": [
       "<Figure size 432x288 with 2 Axes>"
      ]
     },
     "metadata": {
      "needs_background": "light"
     },
     "output_type": "display_data"
    }
   ],
   "source": [
    "from sklearn.metrics import classification_report, ConfusionMatrixDisplay, confusion_matrix\n",
    "y_pred = classifier_KNN.predict(X_test)\n",
    "\n",
    "print(classification_report(y_test,y_pred))\n",
    "cm = confusion_matrix(y_test, y_pred)\n",
    "\n",
    "ConfusionMatrixDisplay(cm).plot()"
   ]
  },
  {
   "cell_type": "code",
   "execution_count": 72,
   "metadata": {},
   "outputs": [
    {
     "data": {
      "text/plain": [
       "{'knn__n_neighbors': 55}"
      ]
     },
     "execution_count": 72,
     "metadata": {},
     "output_type": "execute_result"
    }
   ],
   "source": [
    "classifier_KNN.best_params_"
   ]
  },
  {
   "cell_type": "code",
   "execution_count": 66,
   "metadata": {},
   "outputs": [
    {
     "name": "stdout",
     "output_type": "stream",
     "text": [
      "              precision    recall  f1-score   support\n",
      "\n",
      "           0       0.68      0.77      0.73     10170\n",
      "           1       0.73      0.63      0.68      9852\n",
      "\n",
      "    accuracy                           0.70     20022\n",
      "   macro avg       0.71      0.70      0.70     20022\n",
      "weighted avg       0.71      0.70      0.70     20022\n",
      "\n"
     ]
    },
    {
     "data": {
      "text/plain": [
       "<sklearn.metrics._plot.confusion_matrix.ConfusionMatrixDisplay at 0x268d67578e0>"
      ]
     },
     "execution_count": 66,
     "metadata": {},
     "output_type": "execute_result"
    },
    {
     "data": {
      "image/png": "[encoded data removed]",
      "text/plain": [
       "<Figure size 432x288 with 2 Axes>"
      ]
     },
     "metadata": {
      "needs_background": "light"
     },
     "output_type": "display_data"
    }
   ],
   "source": [
    "y_pred = classifier_logistic.predict(X_test)\n",
    "\n",
    "print(classification_report(y_test,y_pred))\n",
    "cm = confusion_matrix(y_test, y_pred)\n",
    "\n",
    "ConfusionMatrixDisplay(cm).plot()"
   ]
  },
  {
   "cell_type": "code",
   "execution_count": 79,
   "metadata": {},
   "outputs": [
    {
     "name": "stderr",
     "output_type": "stream",
     "text": [
      "C:\\Users\\fredr\\.virtualenvs\\Maskininl-rning-Fredrik-Hegardt-mmrJtyaC\\lib\\site-packages\\sklearn\\linear_model\\_sag.py:352: ConvergenceWarning: The max_iter was reached which means the coef_ did not converge\n",
      "  warnings.warn(\n"
     ]
    },
    {
     "name": "stdout",
     "output_type": "stream",
     "text": [
      "              precision    recall  f1-score   support\n",
      "\n",
      "           0       0.67      0.49      0.57     10170\n",
      "           1       0.59      0.75      0.66      9852\n",
      "\n",
      "    accuracy                           0.62     20022\n",
      "   macro avg       0.63      0.62      0.62     20022\n",
      "weighted avg       0.63      0.62      0.62     20022\n",
      "\n"
     ]
    },
    {
     "data": {
      "text/plain": [
       "<sklearn.metrics._plot.confusion_matrix.ConfusionMatrixDisplay at 0x26916bdfd00>"
      ]
     },
     "execution_count": 79,
     "metadata": {},
     "output_type": "execute_result"
    },
    {
     "data": {
      "image/png": "[encoded data removed]",
      "text/plain": [
       "<Figure size 432x288 with 2 Axes>"
      ]
     },
     "metadata": {
      "needs_background": "light"
     },
     "output_type": "display_data"
    }
   ],
   "source": [
    "from sklearn.ensemble import VotingClassifier\n",
    "\n",
    "vote_model = VotingClassifier([\n",
    "    (\"logistic\", LogisticRegression(l1_ratio=0, solver = \"saga\", penalty=\"elasticnet\", multi_class=\"ovr\", max_iter = 1000)),\n",
    "    (\"Kneighbor\", KNeighborsClassifier(n_neighbors=34)),\n",
    "    (\"random_forest\", RandomForestClassifier(n_estimators = 200, criterion=\"gini\", max_features=\"auto\")),\n",
    "])\n",
    "\n",
    "vote_model.fit(X_train, y_train)\n",
    "y_pred = vote_model.predict(X_test)\n",
    "print(classification_report(y_test, y_pred))\n",
    "cm = confusion_matrix(y_test, y_pred)\n",
    "ConfusionMatrixDisplay(cm).plot()"
   ]
  },
  {
   "cell_type": "code",
   "execution_count": 67,
   "metadata": {},
   "outputs": [
    {
     "data": {
      "text/plain": [
       "['KNN_model.pkl']"
      ]
     },
     "execution_count": 67,
     "metadata": {},
     "output_type": "execute_result"
    }
   ],
   "source": [
    "import joblib\n",
    "import pandas as pd\n",
    "mysample = df1_encoded.drop(\"cardio\", axis = 1)\n",
    "random_sample = mysample.sample(100, random_state= 1337).to_csv(\"test_samples.csv\")\n",
    "joblib.dump(classifier_KNN, filename= \"KNN_model.pkl\")\n",
    "\n"
   ]
  }
 ],
 "metadata": {
  "interpreter": {
   "hash": "20e36f013206a17ac568431002223843abac3dbb024288464e9b0a20eb5fb034"
  },
  "kernelspec": {
   "display_name": "Python 3.9.6 ('Maskininl-rning-Fredrik-Hegardt-mmrJtyaC')",
   "language": "python",
   "name": "python3"
  },
  "language_info": {
   "codemirror_mode": {
    "name": "ipython",
    "version": 3
   },
   "file_extension": ".py",
   "mimetype": "text/x-python",
   "name": "python",
   "nbconvert_exporter": "python",
   "pygments_lexer": "ipython3",
   "version": "3.9.6"
  },
  "orig_nbformat": 4
 },
 "nbformat": 4,
 "nbformat_minor": 2
}
